{
 "cells": [
  {
   "cell_type": "markdown",
   "id": "f1819d26-bbf5-49ce-9714-728aa18dd5e5",
   "metadata": {},
   "source": [
    "# Initial data wrangling"
   ]
  },
  {
   "cell_type": "code",
   "execution_count": null,
   "id": "74001314-2251-4848-92c0-1f26332eb68a",
   "metadata": {},
   "outputs": [],
   "source": [
    "# Import the libs\n",
    "import iris\n",
    "import iris.coord_categorisation\n",
    "import iris.quickplot as qplt\n",
    "from iris_utils import mask_from_shape\n",
    "from matplotlib import pyplot as plt\n",
    "import dask.array as da\n",
    "from dask.distributed import Client\n",
    "import numpy as np\n",
    "import cartopy.crs as ccrs\n",
    "import cartopy.feature as cfeature\n",
    "import geopandas as gpd\n",
    "import os"
   ]
  },
  {
   "cell_type": "code",
   "execution_count": null,
   "id": "a04ddacc-d015-41b9-9c5a-cb10a90007bb",
   "metadata": {},
   "outputs": [],
   "source": [
    "client = Client()\n",
    "client"
   ]
  },
  {
   "cell_type": "markdown",
   "id": "c8fcf818-8001-4305-b62a-89a162c5a057",
   "metadata": {},
   "source": [
    "Lets take a look at the EC-EARTH-LENS data.\n",
    "What is the goal of this notebook?\n",
    "- Look at anomalies for the 2018 summer? See what the percentiles are. Is it hot?\n",
    "- How to deal with the ensemble? I guess we just pool it since we are interested in the variation anyway.\n",
    "- Gävle is not fitting to look at in this data IMO. Resolution is too large. So this should be done with CORDEX I guess."
   ]
  },
  {
   "cell_type": "markdown",
   "id": "fd6ccb7c-5ca2-4ba3-9a62-a1845c8f870b",
   "metadata": {},
   "source": [
    "## Get a shapefile of Sweden\n",
    "\n",
    "We use a shapefile of the region of interest for two purposes\n",
    "- Something to plot the data agains.\n",
    "- Create a mask which can be used for finer data selection. "
   ]
  },
  {
   "cell_type": "code",
   "execution_count": null,
   "id": "5ef7fb11-0f66-4f69-9ebd-e805875e5ef9",
   "metadata": {},
   "outputs": [],
   "source": [
    "# This file contains shapes of most countries in the world.\n",
    "# https://www.naturalearthdata.com/downloads/10m-cultural-vectors/10m-admin-0-boundary-lines/\n",
    "fname = \"/home/sm_erhol/data/ne_10_admin_0_countries/ne_10m_admin_0_countries.shp\""
   ]
  },
  {
   "cell_type": "code",
   "execution_count": null,
   "id": "8c96c871-9d63-4d73-bbd9-9fe21164abb1",
   "metadata": {},
   "outputs": [],
   "source": [
    "gdf = gpd.read_file(fname)"
   ]
  },
  {
   "cell_type": "code",
   "execution_count": null,
   "id": "de279616-2c27-4046-9253-e3a5d7f84b56",
   "metadata": {},
   "outputs": [],
   "source": [
    "gdf.head()"
   ]
  },
  {
   "cell_type": "code",
   "execution_count": null,
   "id": "8d6ce2c5-8935-44d7-be5f-ebd551bf2fc6",
   "metadata": {},
   "outputs": [],
   "source": [
    "# Select Sweden.\n",
    "region = gdf[gdf.SOVEREIGNT == \"Sweden\"].geometry"
   ]
  },
  {
   "cell_type": "code",
   "execution_count": null,
   "id": "8df3d006-7542-4518-bf73-e0a30170e13d",
   "metadata": {},
   "outputs": [],
   "source": [
    "# We can submit the EPSG for SWEREF 99 TM to cartopy.\n",
    "proj = ccrs.epsg(3006)\n",
    "fig, ax = plt.subplots(subplot_kw={\"projection\": proj})\n",
    "ax.add_geometries(region, ccrs.PlateCarree());"
   ]
  },
  {
   "cell_type": "markdown",
   "id": "b4a713c1-3ee3-4255-a78c-10c056a4d95a",
   "metadata": {},
   "source": [
    "## Load in the cube(s)"
   ]
  },
  {
   "cell_type": "code",
   "execution_count": null,
   "id": "e5973886-49c0-4702-9a4e-083a18f02c65",
   "metadata": {},
   "outputs": [],
   "source": [
    "# Base path\n",
    "base_path = \"/nobackup/rossby21/sm_renwi/DATA/GCMGE/EC-EARTH-LENS/nc-daycubes/\""
   ]
  },
  {
   "cell_type": "code",
   "execution_count": null,
   "id": "53bb1fe0-0526-444a-a16b-908cbcd3097b",
   "metadata": {},
   "outputs": [],
   "source": [
    "# How do we navigate the folder?\n",
    "# They are organised in realisations. Start by looking at a single real.\n",
    "file = \"tas_ECEARTHLENS_SSP119_r_101_cube.nc\"\n",
    "# This has a wildcard for the realisation. Should load all ensemble members.\n",
    "ssp119_files = \"tas_ECEARTHLENS_SSP119_r_*_cube.nc\""
   ]
  },
  {
   "cell_type": "markdown",
   "id": "b2540c2d-2c59-4783-ace9-2ef95e0103ca",
   "metadata": {},
   "source": [
    "Some things to think about\n",
    "- We can already make a spatial selection here, no need to read all the data since we are only interested in northern Europe.\n",
    "- Select only sweden?"
   ]
  },
  {
   "cell_type": "code",
   "execution_count": null,
   "id": "109f1528-c622-4cf5-96d8-75e4e12fe80c",
   "metadata": {},
   "outputs": [],
   "source": [
    "# Should use the nordic area, e.g. same as SMHI-GridClim.\n",
    "constraint = iris.Constraint(\n",
    "    latitude=lambda v: 52.72 <= v <= 71.89,\n",
    "    longitude=lambda v: -0.89 <= v <= 38.17\n",
    "    )"
   ]
  },
  {
   "cell_type": "code",
   "execution_count": null,
   "id": "661962bb-3b76-4863-84c5-1b8dabab7880",
   "metadata": {},
   "outputs": [],
   "source": [
    "# Load the cube.\n",
    "# passing the constraint from the start to save on data.\n",
    "cube = iris.load_cube(os.path.join(base_path, file),\n",
    "                      constraint=constraint)"
   ]
  },
  {
   "cell_type": "markdown",
   "id": "0fce8395-1250-41f0-bb59-3d592842352a",
   "metadata": {},
   "source": [
    "Try loading the whole ensemble"
   ]
  },
  {
   "cell_type": "code",
   "execution_count": null,
   "id": "06856299-c473-4457-9c09-03d9508822fe",
   "metadata": {},
   "outputs": [],
   "source": [
    "ssp119_cubes = iris.load(os.path.join(base_path, ssp119_files),\n",
    "                         constraints=constraint)"
   ]
  },
  {
   "cell_type": "code",
   "execution_count": null,
   "id": "3d172132-a172-4dcf-ac58-b2523dc6dd5f",
   "metadata": {},
   "outputs": [],
   "source": [
    "ssp119_cubes = ssp119_cubes[0]"
   ]
  },
  {
   "cell_type": "markdown",
   "id": "ce65ae9e-bae3-4f6c-9942-940d726a4a45",
   "metadata": {},
   "source": [
    "Add categorical dates for later aggregation."
   ]
  },
  {
   "cell_type": "code",
   "execution_count": null,
   "id": "dd123efe-3c75-439c-a590-344de06c98a3",
   "metadata": {},
   "outputs": [],
   "source": [
    "# seasonal\n",
    "iris.coord_categorisation.add_season_membership(ssp119_cubes, \"time\", \"mjja\", name=\"MJJA\")"
   ]
  },
  {
   "cell_type": "code",
   "execution_count": null,
   "id": "6d7ad19d-affb-40f4-a32b-ca2d1f45e233",
   "metadata": {},
   "outputs": [],
   "source": [
    "# And month and day of month categorisation.\n",
    "iris.coord_categorisation.add_day_of_month(ssp119_cubes, \"time\")\n",
    "iris.coord_categorisation.add_month(ssp119_cubes, \"time\")"
   ]
  },
  {
   "cell_type": "markdown",
   "id": "c6c59274-7533-494f-99d8-b6bd0e0d2f0f",
   "metadata": {},
   "source": [
    "The data should be held in a dask array."
   ]
  },
  {
   "cell_type": "code",
   "execution_count": null,
   "id": "15d05023-3d6d-4154-9587-ad555f1fd5e3",
   "metadata": {},
   "outputs": [],
   "source": [
    "ssp119_cubes"
   ]
  },
  {
   "cell_type": "markdown",
   "id": "fddc0be8-c1b9-44b9-b9de-2980d7b7feb1",
   "metadata": {},
   "source": [
    "The cube contains data covering the scandinavian region."
   ]
  },
  {
   "cell_type": "markdown",
   "id": "59e681d8-d27f-4894-a03b-fe1ab820fd41",
   "metadata": {},
   "source": [
    "## Mask out Sweden\n",
    "Since this is not lazy, should we do it last?"
   ]
  },
  {
   "cell_type": "code",
   "execution_count": null,
   "id": "d06e558f-5252-43e8-9ea9-cef50a802d95",
   "metadata": {},
   "outputs": [],
   "source": [
    "# Get mainland Sweden polygon from the region object.\n",
    "swe_mainland = region.iloc[0].geoms[0]"
   ]
  },
  {
   "cell_type": "code",
   "execution_count": null,
   "id": "8479c260-39d6-4dce-9d7e-8a3f2e8f6243",
   "metadata": {},
   "outputs": [],
   "source": [
    "# Create a mask from a polygon, using func from iris_utils.\n",
    "# This should work on 2 and 3d cubes.\n",
    "mask = mask_from_shape(cube, swe_mainland)"
   ]
  },
  {
   "cell_type": "code",
   "execution_count": null,
   "id": "3c2f38ed-79bc-4055-aa42-f495def1b6d7",
   "metadata": {},
   "outputs": [],
   "source": [
    "mask.shape"
   ]
  },
  {
   "cell_type": "code",
   "execution_count": null,
   "id": "2a5f06bc-c77c-4b9b-8a58-d9f0aeb807bf",
   "metadata": {},
   "outputs": [],
   "source": [
    "# This will modify the cube in place as well.\n",
    "cube_swe = iris.util.mask_cube(cube, mask)"
   ]
  },
  {
   "cell_type": "markdown",
   "id": "7ba0fd6e-7ddb-47cf-8fdc-082c84940ef1",
   "metadata": {},
   "source": [
    "Ideally this will look a lot better on higher resolution data.\n",
    "Since we only select what is with in the borders of sweden, combined the with gridpoint spacing data will not stretch all the way up to the borders."
   ]
  },
  {
   "cell_type": "code",
   "execution_count": null,
   "id": "535a4594-a29e-4125-8dcb-133c03269baf",
   "metadata": {},
   "outputs": [],
   "source": [
    "fig, ax = plt.subplots(figsize=(5, 9), subplot_kw={\"projection\": proj})\n",
    "qplt.contourf(cube_swe[3000, :, :], 15, axes=ax)\n",
    "ax.add_feature(cfeature.BORDERS)\n",
    "ax.coastlines();"
   ]
  },
  {
   "cell_type": "markdown",
   "id": "583ea36f-2bb6-44fa-a629-65e3bd4b1236",
   "metadata": {},
   "source": [
    "## Reference period\n",
    "Create a climatology of the first 30 years of the data.\n",
    "This is where the model data come into play.\n",
    "Ideally we should have a large ensemble of different realisations of the historical climate.\n",
    "Then we can pool it all into a \"reference climate\" distribution."
   ]
  },
  {
   "cell_type": "code",
   "execution_count": null,
   "id": "0ff2673e-b3ef-40f4-bce1-206fc365ac79",
   "metadata": {},
   "outputs": [],
   "source": [
    "# First we extract the period with a constraint.\n",
    "ref_time_constraint = iris.Constraint(time=lambda cell: 1970 <= cell.point.year <= 2000)"
   ]
  },
  {
   "cell_type": "code",
   "execution_count": null,
   "id": "6435f73b-30cb-47fc-9134-d0979197625a",
   "metadata": {},
   "outputs": [],
   "source": [
    "# Extract the data.\n",
    "ssp119_cubes_ref = ssp119_cubes.extract(ref_time_constraint)"
   ]
  },
  {
   "cell_type": "code",
   "execution_count": null,
   "id": "7e297b3b-eba3-4d7e-86c1-ccd26738252c",
   "metadata": {},
   "outputs": [],
   "source": [
    "# Did it work?\n",
    "print(ssp119_cubes_ref.coord(\"time\"))"
   ]
  },
  {
   "cell_type": "markdown",
   "id": "d208036b-ad41-4c72-995a-c5714fa61756",
   "metadata": {},
   "source": [
    "### Temperature distributions for ensemble\n",
    "Lets look at the temperature distributions over the summer for the ensemble.\n",
    "\n",
    "Firstly we want to create average days from the reference period."
   ]
  },
  {
   "cell_type": "code",
   "execution_count": null,
   "id": "9ab61dd6-efb9-48aa-8bf6-e719f05779bc",
   "metadata": {},
   "outputs": [],
   "source": [
    "ssp119_cubes_ref"
   ]
  },
  {
   "cell_type": "code",
   "execution_count": null,
   "id": "3d4cd9cf-f6c7-4ddf-bc84-7970fb184f34",
   "metadata": {
    "tags": []
   },
   "outputs": [],
   "source": [
    "ssp119_cubes_ref = ssp119_cubes_ref.extract(iris.Constraint(MJJA=True))"
   ]
  },
  {
   "cell_type": "code",
   "execution_count": null,
   "id": "89afe219-f0bd-46b9-8c97-6b651da2862f",
   "metadata": {},
   "outputs": [],
   "source": [
    "# By aggregating by the month and day of month\n",
    "# on all days from 1970 to 2000. Gives a climatology.\n",
    "# Also for extended summer only since we already selected days in MJJA.\n",
    "clim_mjja_day_mean = ssp119_cubes_ref.aggregated_by([\"month\", \"day_of_month\"], iris.analysis.MEAN)"
   ]
  },
  {
   "cell_type": "code",
   "execution_count": null,
   "id": "86b628be-5256-4b17-8530-9b32c2009817",
   "metadata": {
    "jupyter": {
     "outputs_hidden": true
    },
    "tags": []
   },
   "outputs": [],
   "source": [
    "clim_mjja_day_mean"
   ]
  },
  {
   "cell_type": "markdown",
   "id": "a2b7bf6e-505d-4a24-9e09-d588eb54f71f",
   "metadata": {},
   "source": [
    "Now we mask the data for Sweden."
   ]
  },
  {
   "cell_type": "code",
   "execution_count": null,
   "id": "834ca8d4-eec1-4037-96fc-1044189c56f7",
   "metadata": {},
   "outputs": [],
   "source": [
    "mask = mask_from_shape(clim_mjja_day_mean[1, :, :, :], swe_mainland)"
   ]
  },
  {
   "cell_type": "code",
   "execution_count": null,
   "id": "179a9ce0-b9bd-4d83-abb1-1fb147f3e260",
   "metadata": {},
   "outputs": [],
   "source": [
    "clim_mjja_day_mean.shape"
   ]
  },
  {
   "cell_type": "code",
   "execution_count": null,
   "id": "39aad465-e51f-4061-8d66-8acacc1aa0da",
   "metadata": {},
   "outputs": [],
   "source": [
    "mask.shape"
   ]
  },
  {
   "cell_type": "code",
   "execution_count": null,
   "id": "8c770296-508e-4f63-a194-dfa294fe7aa3",
   "metadata": {},
   "outputs": [],
   "source": [
    "mask = np.broadcast_to(mask, clim_mjja_day_mean.shape)"
   ]
  },
  {
   "cell_type": "code",
   "execution_count": null,
   "id": "b16b9d37-b899-4fc0-81a1-1e42ccb985f5",
   "metadata": {},
   "outputs": [],
   "source": [
    "mask.shape"
   ]
  },
  {
   "cell_type": "code",
   "execution_count": null,
   "id": "02549358-033a-4280-9a1f-1020cf2eb569",
   "metadata": {
    "jupyter": {
     "outputs_hidden": true
    },
    "tags": []
   },
   "outputs": [],
   "source": [
    "# This will modify the cube in place as well.\n",
    "iris.util.mask_cube(clim_mjja_day_mean, mask)"
   ]
  },
  {
   "cell_type": "markdown",
   "id": "0bbf51b6-0165-4e37-ab3a-8a5294af7efb",
   "metadata": {},
   "source": [
    "Summer 2018"
   ]
  },
  {
   "cell_type": "code",
   "execution_count": null,
   "id": "2b2dceaa-45a8-4373-a463-c9afb5adba23",
   "metadata": {},
   "outputs": [],
   "source": [
    "# Ok, start with one year and go from there.\n",
    "sm_18 = ssp119_cubes.extract(iris.Constraint(time=lambda cell: cell.point.year == 2018,\n",
    "                                             MJJA=True\n",
    "                                            )\n",
    "                            )"
   ]
  },
  {
   "cell_type": "code",
   "execution_count": null,
   "id": "3c8202f7-2d08-419c-92b9-da1b056e89cb",
   "metadata": {
    "jupyter": {
     "outputs_hidden": true
    },
    "tags": []
   },
   "outputs": [],
   "source": [
    "iris.util.mask_cube(sm_18, mask)"
   ]
  },
  {
   "cell_type": "code",
   "execution_count": null,
   "id": "7c74fb5f-32da-45a7-8552-d8c7d2531309",
   "metadata": {},
   "outputs": [],
   "source": [
    "# Create a figure.\n",
    "fig, ax = plt.subplots(figsize=(5, 5))\n",
    "# Climatological data.\n",
    "clim_data = clim_mjja_day_mean.core_data().compressed()\n",
    "# Summer 18 data, should be observations.\n",
    "sm_18_data = sm_18.data.compressed()\n",
    "plt.boxplot([clim_data, sm_18_data],\n",
    "            labels=[f\"SWE 1970-2000 mean\\n N: {clim_data.shape[0]}\",\n",
    "                    f\"Summer 2018\\n N: {sm_18_data.shape[0]}\"],\n",
    "            patch_artist=True,\n",
    "           );\n",
    "ax.set_ylabel(\"Surface temperature [K]\")\n",
    "ax.grid(axis=\"y\")\n",
    "ax.set_title(\"MJJA daily surface temperature\\n Sweden\");"
   ]
  },
  {
   "cell_type": "code",
   "execution_count": null,
   "id": "18ea3b9e-4358-41f4-9caa-f7ac7567bd7d",
   "metadata": {},
   "outputs": [],
   "source": [
    "# Percentiles are the inverse of the probability of occurrence.\n",
    "# E.g. Above 90th percentile has a probability of 10%.\n",
    "percentile_limit = 90\n",
    "threshold = np.percentile(sm_18.data.compressed(), percentile_limit)"
   ]
  },
  {
   "cell_type": "code",
   "execution_count": null,
   "id": "b9007da7-b958-45de-bfe6-429958b5405a",
   "metadata": {},
   "outputs": [],
   "source": [
    "threshold"
   ]
  },
  {
   "cell_type": "code",
   "execution_count": null,
   "id": "8100a639-cc03-4699-aab9-fee143928c56",
   "metadata": {},
   "outputs": [],
   "source": [
    "# We should the count the occurence in the climatology for the same threshold.\n",
    "nr_events_ref = clim_mjja_day_mean.data.compressed()[clim_mjja_day_mean.data.compressed() >= threshold].shape[0]"
   ]
  },
  {
   "cell_type": "code",
   "execution_count": null,
   "id": "d1988855-76dd-462e-801d-4bcb6efb8389",
   "metadata": {},
   "outputs": [],
   "source": [
    "nr_events_ref"
   ]
  },
  {
   "cell_type": "code",
   "execution_count": null,
   "id": "a0ed0ab3-3154-4075-a005-a858067d850b",
   "metadata": {},
   "outputs": [],
   "source": [
    "event_prob = nr_events_ref / clim_mjja.data.compressed().shape[0]"
   ]
  },
  {
   "cell_type": "code",
   "execution_count": null,
   "id": "9a5392d2-fb77-4c3e-917a-fbf943e3f737",
   "metadata": {},
   "outputs": [],
   "source": [
    "event_prob"
   ]
  },
  {
   "cell_type": "markdown",
   "id": "7c4f7289-aa89-4896-a8e5-0909a3a4a959",
   "metadata": {},
   "source": [
    "Probability ratio of specified event:"
   ]
  },
  {
   "cell_type": "code",
   "execution_count": null,
   "id": "547c7cb0-5ab8-4a63-8149-80a0c1e36bf5",
   "metadata": {},
   "outputs": [],
   "source": [
    "# PR\n",
    "PR = 0.1 / event_prob"
   ]
  },
  {
   "cell_type": "code",
   "execution_count": null,
   "id": "3d12011c-5fd8-4bbb-8c2d-4aa6fa0443ae",
   "metadata": {},
   "outputs": [],
   "source": [
    "PR"
   ]
  },
  {
   "cell_type": "markdown",
   "id": "cd347754-0a0b-4fd8-8f71-24f0c6622fa2",
   "metadata": {},
   "source": [
    "Fraction attributble risk:\n",
    "\n",
    "If above 0.5 the risk for the event has doubled."
   ]
  },
  {
   "cell_type": "code",
   "execution_count": null,
   "id": "8f23e6cc-c08a-426a-830a-9dbbada7e086",
   "metadata": {},
   "outputs": [],
   "source": [
    "FAR = 1 - event_prob / (1 - percentile_limit / 100)"
   ]
  },
  {
   "cell_type": "code",
   "execution_count": null,
   "id": "b541a9e2-f7de-4b59-aeb3-8120f3f841d3",
   "metadata": {},
   "outputs": [],
   "source": [
    "FAR"
   ]
  },
  {
   "cell_type": "markdown",
   "id": "cb2707b1-7dda-4718-a105-41d5de94c00d",
   "metadata": {},
   "source": [
    "1970 to 2000 is not a great reference period for this. Hmm.\n",
    "Eventually we want to pool the ensemble I presume.\n",
    "The problem will always be the reference period."
   ]
  },
  {
   "cell_type": "markdown",
   "id": "d1e44b05-6dcb-437a-b626-df04053fbbf6",
   "metadata": {},
   "source": [
    "## Single realisation."
   ]
  },
  {
   "cell_type": "markdown",
   "id": "6650d120-834b-4709-95fe-4ca9acee3d18",
   "metadata": {},
   "source": [
    "With the selection done we can collapse the time dimension taking a mean."
   ]
  },
  {
   "cell_type": "code",
   "execution_count": null,
   "id": "a8216e6e-d999-4249-915b-12cb0ba6f878",
   "metadata": {
    "tags": []
   },
   "outputs": [],
   "source": [
    "clim_mjja = clim_cube.extract(iris.Constraint(season_membership=True))"
   ]
  },
  {
   "cell_type": "code",
   "execution_count": null,
   "id": "d63e7953-d22a-4d93-ad10-0b0523162c84",
   "metadata": {
    "jupyter": {
     "outputs_hidden": true,
     "source_hidden": true
    },
    "tags": []
   },
   "outputs": [],
   "source": [
    "print(clim_mjja.coord(\"time\"))"
   ]
  },
  {
   "cell_type": "code",
   "execution_count": null,
   "id": "548943e9-4032-4a25-bd38-a9dfa45a557e",
   "metadata": {
    "jupyter": {
     "outputs_hidden": true,
     "source_hidden": true
    },
    "tags": []
   },
   "outputs": [],
   "source": [
    "swe_mjja_mean = clim_mjja.collapsed(\"time\", iris.analysis.MEAN)"
   ]
  },
  {
   "cell_type": "code",
   "execution_count": null,
   "id": "5046a9a1-839b-4d9f-8cfd-90582768bd9d",
   "metadata": {
    "jupyter": {
     "outputs_hidden": true,
     "source_hidden": true
    },
    "tags": []
   },
   "outputs": [],
   "source": [
    "fig, ax = plt.subplots(figsize=(4, 8),\n",
    "                       subplot_kw={\"projection\": proj}\n",
    "                      )\n",
    "# Show the data.\n",
    "qplt.contourf(swe_mjja_mean, axes=ax)\n",
    "# Add coastlines\n",
    "ax.coastlines()\n",
    "ax.set_title(\"1970 to 2000 MJJA average air temperature\");\n",
    "plt.tight_layout()"
   ]
  },
  {
   "cell_type": "markdown",
   "id": "894bb95d-1ba3-4fab-8628-434196086652",
   "metadata": {
    "tags": []
   },
   "source": [
    "## Anomalies\n",
    "We can now compare any summer to the reference climate.\n",
    "- **This should really be a gridded observation and not from the model.**\n",
    "    - Complications: Need to regrid model to the resolution of the observation."
   ]
  },
  {
   "cell_type": "code",
   "execution_count": null,
   "id": "c8f8a059-f2ce-49ec-8109-6a875b072e8f",
   "metadata": {},
   "outputs": [],
   "source": [
    "cube_swe"
   ]
  },
  {
   "cell_type": "code",
   "execution_count": null,
   "id": "4402f58e-4fee-4862-8306-5e9863e74d49",
   "metadata": {},
   "outputs": [],
   "source": [
    "# Ok, start with one year and go from there.\n",
    "sm_18 = cube_swe.extract(iris.Constraint(time=lambda cell: cell.point.year == 2018,\n",
    "                                         season_membership=True\n",
    "                                    ))"
   ]
  },
  {
   "cell_type": "code",
   "execution_count": null,
   "id": "3ed2468f-367f-438d-8e5c-34205607f75c",
   "metadata": {},
   "outputs": [],
   "source": [
    "sm_18"
   ]
  },
  {
   "cell_type": "code",
   "execution_count": null,
   "id": "2b80b057-31b1-4591-9451-affabcc77778",
   "metadata": {},
   "outputs": [],
   "source": [
    "sm_18_anom = sm_18 - swe_mjja_mean"
   ]
  },
  {
   "cell_type": "markdown",
   "id": "44536392-e3c3-4b4e-aa2a-be40e99420ad",
   "metadata": {},
   "source": [
    "### Hovmöller of the temp anomalies?\n",
    "We have to get rid of one spatial dimension either way.\n",
    "Plot is not needed atm."
   ]
  },
  {
   "cell_type": "code",
   "execution_count": null,
   "id": "031d36dc-3278-4461-ba5c-cc756ccb4835",
   "metadata": {},
   "outputs": [],
   "source": []
  },
  {
   "cell_type": "markdown",
   "id": "f4d9a941-0026-42f5-9770-8c825e2240cf",
   "metadata": {},
   "source": [
    "### Spatial average of the anomalies"
   ]
  },
  {
   "cell_type": "code",
   "execution_count": null,
   "id": "883f4f44-670a-459b-9918-2783f52f738f",
   "metadata": {},
   "outputs": [],
   "source": [
    "sm_18_anom_mean = sm_18_anom.collapsed(\"time\", iris.analysis.MEAN)"
   ]
  },
  {
   "cell_type": "code",
   "execution_count": null,
   "id": "d76a1030-e139-4d99-934c-4f1f330ad9ee",
   "metadata": {},
   "outputs": [],
   "source": [
    "fig, ax = plt.subplots(figsize=(5, 6),\n",
    "                       subplot_kw={\"projection\": proj}\n",
    "                      )\n",
    "# Show the data.\n",
    "qplt.contourf(sm_18_anom_mean, axes=ax)\n",
    "# Add coastlines\n",
    "ax.coastlines()\n",
    "ax.add_feature(cfeature.BORDERS)\n",
    "ax.set_title(\"2018 MJJA mean air temperature anomaly\");\n",
    "plt.tight_layout();"
   ]
  },
  {
   "cell_type": "markdown",
   "id": "fe301007-7f0f-4227-8a52-34ca70dd6ce1",
   "metadata": {},
   "source": [
    "### Temperature distributions\n",
    "Maps are good, but lets look at the temperature distributions over the summer instead.\n",
    "\n",
    "Firstly we want to create average days from the reference period."
   ]
  },
  {
   "cell_type": "code",
   "execution_count": null,
   "id": "98292f54-3207-44a2-9a5e-a339427c939b",
   "metadata": {},
   "outputs": [],
   "source": [
    "clim_mjja"
   ]
  },
  {
   "cell_type": "code",
   "execution_count": null,
   "id": "2bdf4290-f0f8-4b81-ad2e-d1a43cd01be0",
   "metadata": {},
   "outputs": [],
   "source": [
    "# By aggregating by the month and day of month\n",
    "# on all days from 1970 to 2000. Gives a climatology.\n",
    "# Also for extended summer only since we already selected days in MJJA.\n",
    "clim_mjja_day_mean = clim_mjja.aggregated_by([\"month\", \"day_of_month\"], iris.analysis.MEAN)"
   ]
  },
  {
   "cell_type": "code",
   "execution_count": null,
   "id": "6e78a32a-f4d9-419c-b926-041e67ad8132",
   "metadata": {},
   "outputs": [],
   "source": [
    "clim_mjja_day_mean"
   ]
  },
  {
   "cell_type": "code",
   "execution_count": null,
   "id": "d9d38c1f-4350-404b-b6fd-70489bfa65fb",
   "metadata": {},
   "outputs": [],
   "source": [
    "# For some reason there is two extra days added here.\n",
    "# One in the beginning and one in the end.\n",
    "print(clim_mjja_day_mean.coord(\"time\"))"
   ]
  },
  {
   "cell_type": "code",
   "execution_count": null,
   "id": "b7cf47f1-2ca9-4fc1-89eb-bf0bbdfa632a",
   "metadata": {},
   "outputs": [],
   "source": [
    "fig, ax = plt.subplots(figsize=(5, 5))\n",
    "clim_data = clim_mjja_day_mean.core_data().compressed()\n",
    "sm_18_data = sm_18.data.compressed()\n",
    "plt.boxplot([clim_data, sm_18_data],\n",
    "            labels=[f\"SWE 1970-2000 mean\\n N: {clim_data.shape[0]}\",\n",
    "                    f\"Summer 2018\\n N: {sm_18_data.shape[0]}\"],\n",
    "            patch_artist=True,\n",
    "           );\n",
    "ax.set_ylabel(\"Surface temperature [K]\")\n",
    "ax.grid(axis=\"y\")\n",
    "ax.set_title(\"MJJA daily surface temperature\\n Sweden\");"
   ]
  },
  {
   "cell_type": "code",
   "execution_count": null,
   "id": "ece5801b-a401-41d4-9e06-952ec1863c48",
   "metadata": {},
   "outputs": [],
   "source": [
    "# Percentiles are the inverse of the probability of occurrence.\n",
    "# E.g. Above 90th percentile has a probability of 10%.\n",
    "percentile_limit = 90\n",
    "threshold = np.percentile(sm_18.data.compressed(), percentile_limit)"
   ]
  },
  {
   "cell_type": "code",
   "execution_count": null,
   "id": "0e097260-5195-43dc-86c7-60ee93a96de1",
   "metadata": {},
   "outputs": [],
   "source": [
    "threshold"
   ]
  },
  {
   "cell_type": "code",
   "execution_count": null,
   "id": "77c15023-2887-41c1-86eb-ec19d21a974a",
   "metadata": {},
   "outputs": [],
   "source": [
    "# We should the count the occurence in the climatology for the same threshold.\n",
    "events = clim_mjja.data.compressed()[clim_mjja.data.compressed() >= threshold].shape[0]"
   ]
  },
  {
   "cell_type": "code",
   "execution_count": null,
   "id": "7c199226-1b96-4ee9-ad1a-cbcbeff717f2",
   "metadata": {},
   "outputs": [],
   "source": [
    "events"
   ]
  },
  {
   "cell_type": "code",
   "execution_count": null,
   "id": "b84ead90-56b1-4750-b003-cbc72dcfcabc",
   "metadata": {},
   "outputs": [],
   "source": [
    "event_prob = events / clim_mjja.data.compressed().shape[0]"
   ]
  },
  {
   "cell_type": "code",
   "execution_count": null,
   "id": "a534d47d-3046-4ed8-86f1-a1afb5af38e4",
   "metadata": {},
   "outputs": [],
   "source": [
    "event_prob"
   ]
  },
  {
   "cell_type": "markdown",
   "id": "843e9a2b-4854-496a-82a4-66b68bdda012",
   "metadata": {},
   "source": [
    "Probability ratio of specified event:"
   ]
  },
  {
   "cell_type": "code",
   "execution_count": null,
   "id": "dbca4e2f-e0c7-41b6-b1d1-416c50abfd2c",
   "metadata": {},
   "outputs": [],
   "source": [
    "# PR\n",
    "PR = 0.1 / event_prob"
   ]
  },
  {
   "cell_type": "code",
   "execution_count": null,
   "id": "f70580a8-c2b6-4b28-94f4-1e4a113177a1",
   "metadata": {},
   "outputs": [],
   "source": [
    "PR"
   ]
  },
  {
   "cell_type": "markdown",
   "id": "51901f83-2c79-4745-b69f-92c9a46a39ff",
   "metadata": {},
   "source": [
    "Fraction attributble risk:\n",
    "\n",
    "If above 0.5 the risk for the event has doubled."
   ]
  },
  {
   "cell_type": "code",
   "execution_count": null,
   "id": "994c80ad-7a07-45fa-9715-810832e3804e",
   "metadata": {},
   "outputs": [],
   "source": [
    "FAR = 1 - event_prob / (1 - percentile_limit / 100)"
   ]
  },
  {
   "cell_type": "code",
   "execution_count": null,
   "id": "a2963776-f8a9-4cff-8d87-9577f7a7af7f",
   "metadata": {},
   "outputs": [],
   "source": [
    "FAR"
   ]
  },
  {
   "cell_type": "markdown",
   "id": "4f485186-091d-463f-b568-c64af83b69aa",
   "metadata": {},
   "source": [
    "1970 to 2000 is not a great reference period for this. Hmm.\n",
    "Eventually we want to pool the ensemble I presume.\n",
    "The problem will always be the reference period."
   ]
  }
 ],
 "metadata": {
  "kernelspec": {
   "display_name": "Python 3 (ipykernel)",
   "language": "python",
   "name": "python3"
  },
  "language_info": {
   "codemirror_mode": {
    "name": "ipython",
    "version": 3
   },
   "file_extension": ".py",
   "mimetype": "text/x-python",
   "name": "python",
   "nbconvert_exporter": "python",
   "pygments_lexer": "ipython3",
   "version": "3.9.13"
  }
 },
 "nbformat": 4,
 "nbformat_minor": 5
}
