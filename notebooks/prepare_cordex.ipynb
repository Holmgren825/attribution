{
 "cells": [
  {
   "cell_type": "markdown",
   "id": "b50801cc-777d-43c6-b3d6-a9875c4920f1",
   "metadata": {},
   "source": [
    "# Euro CORDEX preparation\n",
    "\n",
    "In this notebook we prepare the Euro-CORDEX ensemble for further analysis.\n",
    "This involves selecting the correct time span, masking out data for the  region, and creating a cube which can be compared to the GridClim data.\n",
    "\n",
    "If this has already been done, move on to\n",
    "\n",
    "[Validating the models](validation.ipynb)"
   ]
  },
  {
   "cell_type": "code",
   "execution_count": null,
   "id": "e1863112-5468-4023-95b2-20a3b0ba3c0b",
   "metadata": {},
   "outputs": [],
   "source": [
    "# Small helper lib.\n",
    "import attribution\n",
    "import attribution.preprocessing\n",
    "\n",
    "# Others.\n",
    "import iris\n",
    "import iris.coord_categorisation\n",
    "import iris.plot as iplt\n",
    "import iris_utils\n",
    "from matplotlib import pyplot as plt\n",
    "import numpy as np\n",
    "import cartopy.crs as ccrs\n",
    "import dask\n",
    "from dask.distributed import Client\n",
    "import dask.distributed\n",
    "import os\n",
    "import glob\n",
    "from multiprocessing import Pool\n",
    "import geopandas as gpd\n",
    "from tqdm import tqdm"
   ]
  },
  {
   "cell_type": "code",
   "execution_count": null,
   "id": "dededfbd-d182-4fe7-a1a9-86dd37f93291",
   "metadata": {},
   "outputs": [],
   "source": [
    "client = Client(n_workers=4)\n",
    "# client"
   ]
  },
  {
   "cell_type": "code",
   "execution_count": null,
   "id": "13cf12b4-e014-48f6-9b40-87caa38021ad",
   "metadata": {},
   "outputs": [],
   "source": [
    "client.amm.start()"
   ]
  },
  {
   "cell_type": "code",
   "execution_count": null,
   "id": "5c95e8d2-d1bb-465c-ab70-89fda72f3293",
   "metadata": {},
   "outputs": [],
   "source": [
    "# Get the sweref projection.\n",
    "sweref = ccrs.epsg(3006)"
   ]
  },
  {
   "cell_type": "code",
   "execution_count": null,
   "id": "c275a4c6-c2a6-4f03-959d-e1fc99a4292f",
   "metadata": {},
   "outputs": [],
   "source": [
    "# This file contains shapes of most countries in the world.\n",
    "# https://www.naturalearthdata.com/downloads/10m-cultural-vectors/10m-admin-0-boundary-lines/\n",
    "fname = \"/home/sm_erhol/data/ne_10_admin_0_countries/ne_10m_admin_0_countries.shp\"\n",
    "\n",
    "gdf = gpd.read_file(fname)\n",
    "\n",
    "# Select Sweden.\n",
    "swe_shapes = gdf[gdf.SOVEREIGNT == \"Sweden\"].geometry\n",
    "swe_mainland = swe_shapes.iloc[0].geoms[0]"
   ]
  },
  {
   "cell_type": "markdown",
   "id": "02ee9bbd-6774-4ec9-81f5-72aa809ec724",
   "metadata": {},
   "source": [
    "## Get the data\n",
    "~~From the initial analysis of GridClim we know what area we want to look at, so there is no need to load in all the data.\n",
    "However, due to some variations in the coordinate decimals, we cant select the exact area to start with, so we add a small delta to the box.~~\n",
    "We cant do the selection before just because of this, it will select a different number of grid points from GridClim and Cordex."
   ]
  },
  {
   "cell_type": "code",
   "execution_count": null,
   "id": "e0c1efb7-ece6-4201-9a8d-4d19e2e80509",
   "metadata": {},
   "outputs": [],
   "source": [
    "# We load in the transformed points generated in the eobs notebook.\n",
    "# We can do this since the cubes share coordinate system.\n",
    "# mask_points = np.load(\"./data/region_points_transformed.npy\")"
   ]
  },
  {
   "cell_type": "code",
   "execution_count": null,
   "id": "f0aa7cd5-b15c-4e74-9e02-f3767ab40a39",
   "metadata": {},
   "outputs": [],
   "source": [
    "# Small delta\n",
    "# delta = 1.0\n",
    "# # Create the constraint.\n",
    "# # Add/remove the delta.\n",
    "# region_constraint = iris.Constraint(\n",
    "#     grid_latitude=lambda v: mask_points[:, 1].min() - delta\n",
    "#     < v\n",
    "#     < mask_points[:, 1].max() + delta,\n",
    "#     grid_longitude=lambda v: mask_points[:, 0].min() - delta\n",
    "#     < v\n",
    "#     < mask_points[:, 0].max() + delta,\n",
    "# )"
   ]
  },
  {
   "cell_type": "code",
   "execution_count": null,
   "id": "21a99904-0f83-432c-960a-cf7334f653f1",
   "metadata": {},
   "outputs": [],
   "source": [
    "# First we have to read the gridclim cube\n",
    "# We need this for the evaluation.\n",
    "base_path = \"/nobackup/smhid17/proj/sik/SMHIGridClim_NORDIC-11/v0.9/netcdf/day/pr/\"\n",
    "\n",
    "# This gives a list of files in the base path matchig the wildcard.\n",
    "files = glob.glob(base_path + \"*.nc\")\n",
    "\n",
    "cube = iris.load(files)\n",
    "\n",
    "removed = iris.util.equalise_attributes(cube)\n",
    "\n",
    "# We concat on time.\n",
    "gc_cube = cube.concatenate_cube()\n",
    "\n",
    "# Add a time constraint to the loading.\n",
    "time_constraint = iris.Constraint(time=lambda cell: 1971 <= cell.point.year <= 2018)\n",
    "gc_cube = gc_cube.extract(time_constraint)"
   ]
  },
  {
   "cell_type": "code",
   "execution_count": null,
   "id": "35d5afd7-dc67-46c1-87a7-e615bcc1c3af",
   "metadata": {},
   "outputs": [],
   "source": [
    "# Create a mask.\n",
    "# mask from shape cant handle the 4d cube so we have to do this manually for now.\n",
    "mask = iris_utils.mask_from_shape(\n",
    "    gc_cube,\n",
    "    swe_mainland,\n",
    "    coord_names=(\"grid_latitude\", \"grid_longitude\"),\n",
    ")"
   ]
  },
  {
   "cell_type": "code",
   "execution_count": null,
   "id": "52fe0a7b-1a95-4eac-9d1d-01ffa5d163d0",
   "metadata": {},
   "outputs": [],
   "source": [
    "iris_utils.mask_cube(gc_cube, mask)"
   ]
  },
  {
   "cell_type": "markdown",
   "id": "48d96f9a-107d-48ec-b50b-80ddeb71db8a",
   "metadata": {},
   "source": [
    "Load in the CORDEX ensemble."
   ]
  },
  {
   "cell_type": "code",
   "execution_count": null,
   "id": "3872420f-39cb-48fc-9a9d-6acd08097c36",
   "metadata": {},
   "outputs": [],
   "source": [
    "# Precipitation.\n",
    "base_path = \"/nobackup/rossby21/sm_stran/Klimatfabrik/MidasOut/pr/\""
   ]
  },
  {
   "cell_type": "code",
   "execution_count": null,
   "id": "9c4efe07-9e62-49a7-9b0e-76f2145c825b",
   "metadata": {},
   "outputs": [],
   "source": [
    "files = glob.glob(base_path + \"*_rcp85*.nc\")"
   ]
  },
  {
   "cell_type": "code",
   "execution_count": null,
   "id": "a381419f-de3e-41fb-af62-0ed27249bbaf",
   "metadata": {},
   "outputs": [],
   "source": [
    "cordex_cube = iris.load(files)"
   ]
  },
  {
   "cell_type": "code",
   "execution_count": null,
   "id": "c25e5194-6e21-4386-a5a5-3093ea642928",
   "metadata": {},
   "outputs": [],
   "source": [
    "# HadGem_CLM is going to be missing 1826 days after the timspan extraction below. So we pop it out.\n",
    "_ = cordex_cube.pop(32)"
   ]
  },
  {
   "cell_type": "markdown",
   "id": "f2d57c2d-d6eb-4e39-9e80-a9b4237113c2",
   "metadata": {},
   "source": [
    "**Notes on time constraints**\n",
    "- Time span varies between the models.\n",
    "Generally 1970 and forward is available, however, one model (MOHC-HadGEM2-ES--ICTP-RegCM4-6) start in June 1970."
   ]
  },
  {
   "cell_type": "code",
   "execution_count": null,
   "id": "370b27d6-45bd-4cb1-9f94-4443fb38fe9a",
   "metadata": {},
   "outputs": [],
   "source": [
    "from iris.time import PartialDateTime"
   ]
  },
  {
   "cell_type": "code",
   "execution_count": null,
   "id": "4b20c2ac-96fd-454f-acdb-ddfad6c4b34e",
   "metadata": {},
   "outputs": [],
   "source": [
    "# Useful for parallel extraction.\n",
    "def extract_p(cube):\n",
    "    # Create partial datetimes\n",
    "    # First year.\n",
    "    pdt1 = PartialDateTime(year=1971)\n",
    "    # Last day of GridClim does not include the 31st.\n",
    "    pdt2 = PartialDateTime(year=2018, month=12, day=30)\n",
    "    # Create the time constraint.\n",
    "    time_constraint = iris.Constraint(\n",
    "        time=lambda cell: pdt1 <= cell.point <= pdt2,\n",
    "    )\n",
    "    return cube.extract(time_constraint)"
   ]
  },
  {
   "cell_type": "code",
   "execution_count": null,
   "id": "e20a08b7-322d-436f-8c07-b321cc0b4dbe",
   "metadata": {},
   "outputs": [],
   "source": [
    "# Can we do extract in parallel?\n",
    "# This seems to run on workers, so more workers are faster.\n",
    "# hence we use the pool and not the client.\n",
    "with Pool() as p:\n",
    "    cordex_cube = p.map(extract_p, cordex_cube)"
   ]
  },
  {
   "cell_type": "code",
   "execution_count": null,
   "id": "99cc832c-19f0-418e-b32d-7926bc8d42f0",
   "metadata": {},
   "outputs": [],
   "source": [
    "cordex_cube = iris.cube.CubeList(cordex_cube)"
   ]
  },
  {
   "cell_type": "code",
   "execution_count": null,
   "id": "9288976d-fea7-492d-b765-a49eba1d2771",
   "metadata": {},
   "outputs": [],
   "source": [
    "# cordex_cube"
   ]
  },
  {
   "cell_type": "markdown",
   "id": "5eb5e4aa-dffe-484a-9f02-b16354f7ae55",
   "metadata": {},
   "source": [
    "After this we add a new auxiliary coordinate indicating the ensemble member."
   ]
  },
  {
   "cell_type": "code",
   "execution_count": null,
   "id": "fdf3e807-f464-4611-818a-5808c628c53b",
   "metadata": {},
   "outputs": [],
   "source": [
    "# from importlib import reload\n",
    "# import iris_utils.utils\n",
    "\n",
    "# reload(iris_utils.utils)"
   ]
  },
  {
   "cell_type": "code",
   "execution_count": null,
   "id": "8a59de5b-48a3-43de-a42d-70dde0128ff7",
   "metadata": {},
   "outputs": [],
   "source": [
    "iris_utils.attribute_to_aux(cordex_cube, new_coord_name=\"ensemble_id\")"
   ]
  },
  {
   "cell_type": "code",
   "execution_count": null,
   "id": "2abd1bdf-a2f0-4a4a-b753-fd1486901ee3",
   "metadata": {},
   "outputs": [],
   "source": [
    "# Remove attributes.\n",
    "removed_attrs = iris.util.equalise_attributes(cordex_cube)"
   ]
  },
  {
   "cell_type": "markdown",
   "id": "9440d579-0038-408e-9c0c-ebd3e0d80252",
   "metadata": {},
   "source": [
    "Now we should be able to merge the cubes along the new coordinate."
   ]
  },
  {
   "cell_type": "code",
   "execution_count": null,
   "id": "e6c1ef42-2372-4a6f-99d2-48983f5ffd18",
   "metadata": {},
   "outputs": [],
   "source": [
    "cordex_cube = iris_utils.merge_aeq_cubes(cordex_cube)"
   ]
  },
  {
   "cell_type": "code",
   "execution_count": null,
   "id": "a7fb3af6-f3fb-4deb-b89a-5d2778d099a0",
   "metadata": {},
   "outputs": [],
   "source": [
    "# cordex_cube.data = cordex_cube.core_data().rechunk()"
   ]
  },
  {
   "cell_type": "code",
   "execution_count": null,
   "id": "d4d1192a-a7ed-4531-aace-6861ad27f343",
   "metadata": {},
   "outputs": [],
   "source": [
    "cordex_cube"
   ]
  },
  {
   "cell_type": "code",
   "execution_count": null,
   "id": "3c4b72eb-adcf-4343-8239-83a8b91c1467",
   "metadata": {},
   "outputs": [],
   "source": [
    "# fig, ax = plt.subplots(subplot_kw={\"projection\": sweref})\n",
    "# iplt.contourf(cordex_cube[0, 0, :, :])\n",
    "# ax.coastlines();"
   ]
  },
  {
   "cell_type": "markdown",
   "id": "411f0f5b-276a-404f-96f8-b711c2d4fa67",
   "metadata": {},
   "source": [
    "### Fix time coordinate"
   ]
  },
  {
   "cell_type": "code",
   "execution_count": null,
   "id": "fc7f999d-ceb2-4ed9-aa5f-8323c9f2d26a",
   "metadata": {},
   "outputs": [],
   "source": [
    "# By now we should have all the correct data in the cube,\n",
    "# So we can simply replace the time coordinate to make sure they match,\n",
    "cordex_cube.remove_coord(\"time\")\n",
    "cordex_cube.add_dim_coord(gc_cube.coord(\"time\"), 1)"
   ]
  },
  {
   "cell_type": "markdown",
   "id": "9e6ad8e0-6b74-4371-9603-92ed1dd1c115",
   "metadata": {},
   "source": [
    "### Mask Sweden"
   ]
  },
  {
   "cell_type": "code",
   "execution_count": null,
   "id": "3ba7f11d-d408-40e2-8397-182b18853d62",
   "metadata": {},
   "outputs": [],
   "source": [
    "# Create a mask.\n",
    "# mask from shape cant handle the 4d cube so we have to do this manually for now.\n",
    "mask = iris_utils.mask_from_shape(\n",
    "    cordex_cube[0, :, :, :],\n",
    "    swe_mainland,\n",
    "    coord_names=(\"grid_latitude\", \"grid_longitude\"),\n",
    ")"
   ]
  },
  {
   "cell_type": "code",
   "execution_count": null,
   "id": "a525f839-15b9-406b-aebe-fa432688cf0d",
   "metadata": {},
   "outputs": [],
   "source": [
    "# Just broadcast the fourth dimension.\n",
    "mask = np.broadcast_to(mask, cordex_cube.shape)"
   ]
  },
  {
   "cell_type": "code",
   "execution_count": null,
   "id": "8324aec2-2dff-49bd-aa1a-a98bdbb59fd8",
   "metadata": {},
   "outputs": [],
   "source": [
    "iris_utils.mask_cube(cordex_cube, mask)"
   ]
  },
  {
   "cell_type": "code",
   "execution_count": null,
   "id": "20eaa775-b7af-4ca0-9010-5d8051fcea3d",
   "metadata": {},
   "outputs": [],
   "source": [
    "cordex_cube.core_data()"
   ]
  },
  {
   "cell_type": "code",
   "execution_count": null,
   "id": "81750959-0958-4a88-9afc-29eb0f5dc9e2",
   "metadata": {},
   "outputs": [],
   "source": [
    "# Shapes should by this point be the same, except for ens_id.\n",
    "assert gc_cube.shape == cordex_cube.shape[1:]"
   ]
  },
  {
   "cell_type": "code",
   "execution_count": null,
   "id": "37ee6940-3276-42a0-9fce-f785819696dc",
   "metadata": {},
   "outputs": [],
   "source": [
    "# Check if grid points are almost equal\n",
    "# Latitudes\n",
    "lats = np.all(\n",
    "    np.isclose(\n",
    "        gc_cube.coord(\"grid_latitude\").points, cordex_cube.coord(\"grid_latitude\").points\n",
    "    )\n",
    ")"
   ]
  },
  {
   "cell_type": "code",
   "execution_count": null,
   "id": "7023752e-06e6-49e7-8b59-b6078277b994",
   "metadata": {},
   "outputs": [],
   "source": [
    "# Longitudes\n",
    "longs = np.all(\n",
    "    np.isclose(\n",
    "        gc_cube.coord(\"grid_longitude\").points,\n",
    "        cordex_cube.coord(\"grid_longitude\").points,\n",
    "    )\n",
    ")"
   ]
  },
  {
   "cell_type": "code",
   "execution_count": null,
   "id": "23fd7780-4f53-4307-8af5-1222b40dbac7",
   "metadata": {},
   "outputs": [],
   "source": [
    "from copy import deepcopy"
   ]
  },
  {
   "cell_type": "code",
   "execution_count": null,
   "id": "04b62bad-fb86-4f6b-90ca-5c3bdf514711",
   "metadata": {},
   "outputs": [],
   "source": [
    "# If these are both true we can copy over the coords from the gc_cube.\n",
    "# Points\n",
    "if lats and longs:\n",
    "    cordex_cube.coord(\"grid_latitude\").points = deepcopy(\n",
    "        gc_cube.coord(\"grid_latitude\").points\n",
    "    )\n",
    "    cordex_cube.coord(\"grid_longitude\").points = deepcopy(\n",
    "        gc_cube.coord(\"grid_longitude\").points\n",
    "    )\n",
    "    cordex_cube.coord(\"latitude\").points = deepcopy(gc_cube.coord(\"latitude\").points)\n",
    "    cordex_cube.coord(\"longitude\").points = deepcopy(gc_cube.coord(\"longitude\").points)\n",
    "    # Bounds\n",
    "    cordex_cube.coord(\"grid_latitude\").bounds = deepcopy(\n",
    "        gc_cube.coord(\"grid_latitude\").bounds\n",
    "    )\n",
    "    cordex_cube.coord(\"grid_longitude\").bounds = deepcopy(\n",
    "        gc_cube.coord(\"grid_longitude\").bounds\n",
    "    )\n",
    "    cordex_cube.coord(\"latitude\").bounds = deepcopy(gc_cube.coord(\"latitude\").bounds)\n",
    "    cordex_cube.coord(\"longitude\").bounds = deepcopy(gc_cube.coord(\"longitude\").bounds)\n",
    "else:\n",
    "    print(\"Lats and longs not almost equal\")"
   ]
  },
  {
   "cell_type": "markdown",
   "id": "9801a1d4-21e1-40bd-950a-95e636371bfe",
   "metadata": {},
   "source": [
    "### Region selection"
   ]
  },
  {
   "cell_type": "code",
   "execution_count": null,
   "id": "110f81ec-d2fc-4316-b306-b315efc93145",
   "metadata": {},
   "outputs": [],
   "source": [
    "# We load in the transformed points generated in the eobs notebook.\n",
    "# We can do this since the cubes share coordinate system.\n",
    "mask_points = np.load(\"./data/region_points_transformed.npy\")"
   ]
  },
  {
   "cell_type": "code",
   "execution_count": null,
   "id": "5376fca5-3950-4706-872f-424d7a505429",
   "metadata": {},
   "outputs": [],
   "source": [
    "# Create the constraint.\n",
    "region_constraint = iris.Constraint(\n",
    "    grid_latitude=lambda v: mask_points[:, 1].min() < v < mask_points[:, 1].max(),\n",
    "    grid_longitude=lambda v: mask_points[:, 0].min() < v < mask_points[:, 0].max(),\n",
    ")"
   ]
  },
  {
   "cell_type": "code",
   "execution_count": null,
   "id": "c6a4fc94-35f0-4db6-a552-510b3296d99e",
   "metadata": {},
   "outputs": [],
   "source": [
    "# Extract the region\n",
    "gc_cube = gc_cube.extract(region_constraint)"
   ]
  },
  {
   "cell_type": "code",
   "execution_count": null,
   "id": "7d6a6788-68e2-4742-b8c1-1275703cb510",
   "metadata": {},
   "outputs": [],
   "source": [
    "# Extract the region\n",
    "cordex_cube = cordex_cube.extract(region_constraint)"
   ]
  },
  {
   "cell_type": "code",
   "execution_count": null,
   "id": "252cf3c1-5cc7-4c8c-acd3-af24417333cc",
   "metadata": {},
   "outputs": [],
   "source": [
    "assert gc_cube.shape == cordex_cube.shape[1:]"
   ]
  },
  {
   "cell_type": "markdown",
   "id": "8d2ccebe-53c2-45ca-82a0-83fb989cf60c",
   "metadata": {},
   "source": [
    "Make sure the region selection worked."
   ]
  },
  {
   "cell_type": "code",
   "execution_count": null,
   "id": "219af52a-4486-4836-abbf-27a2ecf7b53b",
   "metadata": {},
   "outputs": [],
   "source": [
    "fig, ax = plt.subplots(figsize=(7, 9), subplot_kw={\"projection\": sweref})\n",
    "iplt.contourf(cordex_cube[0, 0, :, :], 30, axes=ax)\n",
    "ax.coastlines()\n",
    "# ax.legend();\n",
    "# Set the extent to put the data into context.\n",
    "ax.set_extent([10, 20, 50, 75], crs=ccrs.PlateCarree())"
   ]
  },
  {
   "cell_type": "code",
   "execution_count": null,
   "id": "08122b0d-562a-41b1-a1a2-f138346af407",
   "metadata": {},
   "outputs": [],
   "source": [
    "fig, ax = plt.subplots(figsize=(7, 9), subplot_kw={\"projection\": sweref})\n",
    "iplt.contourf(gc_cube[0, :, :], 30, axes=ax)\n",
    "ax.coastlines()\n",
    "# ax.legend();\n",
    "# Set the extent to put the data into context.\n",
    "ax.set_extent([10, 20, 50, 75], crs=ccrs.PlateCarree())"
   ]
  },
  {
   "cell_type": "markdown",
   "id": "c358c02a-f7fa-498f-8e0b-44312b1b373d",
   "metadata": {},
   "source": [
    "### Saving the prepared cubes."
   ]
  },
  {
   "cell_type": "code",
   "execution_count": null,
   "id": "61811001-5f3e-4a0b-9253-222f43d478d7",
   "metadata": {},
   "outputs": [],
   "source": [
    "# Where do we store the data?\n",
    "base_path = \"/nobackup/rossby26/users/sm_erhol/extremeEventAttribution/\"\n",
    "# Not so nice to hard code this maybe.\n",
    "filename = \"prAdjust_Gavle_CORDEX-ENS_rcp85_day_19710101-20181230.nc\"\n"
   ]
  },
  {
   "cell_type": "code",
   "execution_count": null,
   "id": "74ac0600-83b0-4a75-aa4f-46858639b680",
   "metadata": {},
   "outputs": [],
   "source": [
    "with dask.config.set(scheduler='synchronous'):\n",
    "    iris.save(cordex_cube, os.path.join(base_path, filename))"
   ]
  },
  {
   "cell_type": "code",
   "execution_count": null,
   "id": "36efcec6-818d-4078-980d-e6bfa6e8bec4",
   "metadata": {},
   "outputs": [],
   "source": [
    "filename = \"prAdjust_Gavle_SMHIGridClim_day_19710101-20181230.nc\"\n",
    "with dask.config.set(scheduler='synchronous'):\n",
    "    iris.save(gc_cube, os.path.join(base_path, filename))"
   ]
  },
  {
   "cell_type": "markdown",
   "id": "d3e161d9-cad0-49d9-9d4f-d3be81ff1b01",
   "metadata": {},
   "source": [
    "## Next step\n",
    "\n",
    "[Validating the models](validation.ipynb)"
   ]
  }
 ],
 "metadata": {
  "kernelspec": {
   "display_name": "Python 3 (ipykernel)",
   "language": "python",
   "name": "python3"
  },
  "language_info": {
   "codemirror_mode": {
    "name": "ipython",
    "version": 3
   },
   "file_extension": ".py",
   "mimetype": "text/x-python",
   "name": "python",
   "nbconvert_exporter": "python",
   "pygments_lexer": "ipython3",
   "version": "3.9.13"
  }
 },
 "nbformat": 4,
 "nbformat_minor": 5
}
