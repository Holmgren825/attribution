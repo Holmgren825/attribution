{
 "cells": [
  {
   "cell_type": "markdown",
   "id": "6b1543c2-edb0-4bc0-bba9-c32e639f7306",
   "metadata": {},
   "source": [
    "# Early synthesis"
   ]
  },
  {
   "cell_type": "code",
   "execution_count": null,
   "id": "6812035d-54e8-4794-863c-4a567aa98ea9",
   "metadata": {},
   "outputs": [],
   "source": [
    "import numpy as np\n",
    "from matplotlib import pyplot as plt\n",
    "from matplotlib.ticker import ScalarFormatter\n",
    "import os"
   ]
  },
  {
   "cell_type": "markdown",
   "id": "b5e274a6-c666-49d9-9b95-b1048186f072",
   "metadata": {},
   "source": [
    "## Rx1 Annual"
   ]
  },
  {
   "cell_type": "code",
   "execution_count": null,
   "id": "7153ea6f-6ba2-4463-9331-225d83ea650d",
   "metadata": {},
   "outputs": [],
   "source": [
    "data_path = \"/nobackup/rossby26/users/sm_erhol/extremeEventAttribution/\"\n",
    "# Load in the PR arrays\n",
    "pbr_gridclim = np.load(os.path.join(data_path, \"etc/rx1-ann_pbr_gridclim.npy\"))\n",
    "pr_eobs = np.load(os.path.join(data_path, \"etc/rx1-ann_prb_eobs.npy\"))\n",
    "pr_cordex = np.load(os.path.join(data_path, \"etc/rx1-ann_prb_cordex.npy\"))"
   ]
  },
  {
   "cell_type": "code",
   "execution_count": null,
   "id": "ae33712e-6f1c-4bc9-994b-dd7f55828047",
   "metadata": {},
   "outputs": [],
   "source": [
    "pbr_data = [pbr_gridclim.flatten(), pr_eobs.flatten(), pr_cordex.flatten()]\n",
    "pbr_labels = [\"GridClim\", \"EOBS \", \"CORDEX (66)\"]\n",
    "# pr_data = [pr_gridclim.flatten(), pr_cordex.flatten()]\n",
    "# pr_labels = [\"GridClim\", \"CORDEX\"]"
   ]
  },
  {
   "cell_type": "code",
   "execution_count": null,
   "id": "ee0a6ee8-1182-4e3a-85c9-9f1eb22a5a5c",
   "metadata": {},
   "outputs": [],
   "source": [
    "fig, ax = plt.subplots(figsize=(10, 5))\n",
    "\n",
    "# Create boxes, the analog way, fill a list with dictionaries.\n",
    "boxes = [\n",
    "    {\n",
    "        \"label\": label,\n",
    "        \"whislo\": None,\n",
    "        \"q1\": pbr[0],\n",
    "        \"med\": pbr[1],\n",
    "        \"q3\": pbr[2],\n",
    "        \"whishi\": None,\n",
    "        \"fliers\": None,\n",
    "    }\n",
    "    for pbr, label in zip(pbr_data, pbr_labels)\n",
    "]\n",
    "# Draw the boxes\n",
    "ax.bxp(\n",
    "    boxes[::-1],\n",
    "    patch_artist=True,\n",
    "    showfliers=False,\n",
    "    vert=False,\n",
    "    medianprops={\"linewidth\": 1.4},\n",
    ")\n",
    "ax.axvline(1.0, ls=\"--\", lw=1, c=\"gray\", zorder=0)\n",
    "# Some grid tricks\n",
    "ax.grid(axis=\"x\")\n",
    "xgrid = ax.get_xgridlines()\n",
    "# We don't need to see the grid where we have a special vline.\n",
    "xgrid[4].set_visible(False)\n",
    "# Set some other props.\n",
    "ax.set(\n",
    "    title=\"Probability ratios for Rx1 (Annual) with a threshold similar to\\nthe event in Gävle, August 2021\",\n",
    "    xlabel=\"Probability ratio\",\n",
    "    ylabel=\"Dataset\",\n",
    "    xscale=\"log\",\n",
    ")\n",
    "plt.tight_layout();"
   ]
  },
  {
   "cell_type": "markdown",
   "id": "ba1f9948-616f-4b94-8df6-ce0bc6488bd0",
   "metadata": {
    "jp-MarkdownHeadingCollapsed": true,
    "tags": []
   },
   "source": [
    "## Rx1 JJA"
   ]
  },
  {
   "cell_type": "code",
   "execution_count": null,
   "id": "f78f69f4-dc75-4558-b9f8-2c2a2378812e",
   "metadata": {},
   "outputs": [],
   "source": [
    "data_path = \"/nobackup/rossby26/users/sm_erhol/extremeEventAttribution/\"\n",
    "# Load in the PR arrays\n",
    "pr_gridclim = np.load(os.path.join(data_path, \"etc/rx1-jja_prb_gridclim.npy\"))\n",
    "# pr_eobs = np.load(os.path.join(data_path, \"etc/rx1-ann_prb_eobs.npy\"))\n",
    "# pr_cordex = np.load(os.path.join(data_path, \"etc/pr_cordex.npy\"))"
   ]
  },
  {
   "cell_type": "code",
   "execution_count": null,
   "id": "88704b4d-7a85-4a25-8174-f6b3d0958569",
   "metadata": {},
   "outputs": [],
   "source": [
    "pr_data = [pr_gridclim.flatten()]  # , pr_eobs.flatten(), pr_cordex.flatten()]\n",
    "pr_labels = [\"GridClim\"]  # , \"EOBS \", \"CORDEX (41)\"]\n",
    "# pr_data = [pr_gridclim.flatten(), pr_cordex.flatten()]\n",
    "# pr_labels = [\"GridClim\", \"CORDEX\"]"
   ]
  },
  {
   "cell_type": "code",
   "execution_count": null,
   "id": "d1676b38-8239-4dd9-a2cf-4727d455bbea",
   "metadata": {},
   "outputs": [],
   "source": [
    "fig, ax = plt.subplots(figsize=(10, 5))\n",
    "\n",
    "# Create boxes, the analog way, fill a list with dictionaries.\n",
    "boxes = [\n",
    "    {\n",
    "        \"label\": label,\n",
    "        \"whislo\": None,\n",
    "        \"q1\": pr.min(),\n",
    "        \"med\": np.median(pr),\n",
    "        \"q3\": pr.max(),\n",
    "        \"whishi\": None,\n",
    "        \"fliers\": None,\n",
    "    }\n",
    "    for pr, label in zip(pr_data, pr_labels)\n",
    "]\n",
    "# Draw the boxes\n",
    "ax.bxp(\n",
    "    boxes[::-1],\n",
    "    patch_artist=True,\n",
    "    showfliers=False,\n",
    "    vert=False,\n",
    "    medianprops={\"linewidth\": 1.4},\n",
    ")\n",
    "ax.axvline(1.0, ls=\"--\", lw=1, c=\"gray\", zorder=0)\n",
    "# Some grid tricks\n",
    "ax.grid(axis=\"x\")\n",
    "xgrid = ax.get_xgridlines()\n",
    "# We don't need to see the grid where we have a special vline.\n",
    "xgrid[3].set_visible(False)\n",
    "# Set some other props.\n",
    "ax.set(\n",
    "    title=\"Probability ratios for Rx1 similar to the rains in Gävle 2021\",\n",
    "    xlabel=\"Probability ratio\",\n",
    "    ylabel=\"Dataset\",\n",
    "    xscale=\"log\",\n",
    ")\n",
    "plt.tight_layout();"
   ]
  },
  {
   "cell_type": "code",
   "execution_count": null,
   "id": "6f2125c1-c9f9-4fd1-813b-1198864595e6",
   "metadata": {},
   "outputs": [],
   "source": []
  }
 ],
 "metadata": {
  "kernelspec": {
   "display_name": "Python 3 (ipykernel)",
   "language": "python",
   "name": "python3"
  },
  "language_info": {
   "codemirror_mode": {
    "name": "ipython",
    "version": 3
   },
   "file_extension": ".py",
   "mimetype": "text/x-python",
   "name": "python",
   "nbconvert_exporter": "python",
   "pygments_lexer": "ipython3",
   "version": "3.9.13"
  }
 },
 "nbformat": 4,
 "nbformat_minor": 5
}
