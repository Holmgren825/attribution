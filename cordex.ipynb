{
 "cells": [
  {
   "cell_type": "markdown",
   "id": "b50801cc-777d-43c6-b3d6-a9875c4920f1",
   "metadata": {},
   "source": [
    "# Euro CORDEX ensemble evaluation and PRs\n",
    "\n",
    "The idea with this notebook is to first evaluate the Euro CORDEX ensemble against the GridClim dataset for (any) region in Sweden.\n",
    "After this we can run the attribution analysis on the resulting ensemble members."
   ]
  },
  {
   "cell_type": "code",
   "execution_count": null,
   "id": "e1863112-5468-4023-95b2-20a3b0ba3c0b",
   "metadata": {},
   "outputs": [],
   "source": [
    "# Small helper lib.\n",
    "import attribution\n",
    "\n",
    "# Others.\n",
    "import iris\n",
    "import iris.coord_categorisation\n",
    "import iris.plot as iplt\n",
    "import iris_utils\n",
    "from matplotlib import pyplot as plt\n",
    "import numpy as np\n",
    "import scipy.stats as scstats\n",
    "import cartopy.crs as ccrs\n",
    "import cartopy.feature as cfeature\n",
    "import dask\n",
    "from dask.distributed import Client\n",
    "import dask.distributed\n",
    "import os\n",
    "import glob\n",
    "import scipy\n",
    "import pandas as pd\n",
    "from multiprocessing import Pool\n",
    "import geopandas as gpd\n",
    "from tqdm import tqdm"
   ]
  },
  {
   "cell_type": "code",
   "execution_count": null,
   "id": "dededfbd-d182-4fe7-a1a9-86dd37f93291",
   "metadata": {},
   "outputs": [],
   "source": [
    "# client = Client(n_workers=1)\n",
    "client = Client(n_workers=4, memory_limit=\"16GB\")\n",
    "# client"
   ]
  },
  {
   "cell_type": "code",
   "execution_count": null,
   "id": "13cf12b4-e014-48f6-9b40-87caa38021ad",
   "metadata": {},
   "outputs": [],
   "source": [
    "client.amm.start()"
   ]
  },
  {
   "cell_type": "code",
   "execution_count": null,
   "id": "5c95e8d2-d1bb-465c-ab70-89fda72f3293",
   "metadata": {},
   "outputs": [],
   "source": [
    "# Get the sweref projection.\n",
    "sweref = ccrs.epsg(3006)"
   ]
  },
  {
   "cell_type": "code",
   "execution_count": null,
   "id": "c275a4c6-c2a6-4f03-959d-e1fc99a4292f",
   "metadata": {},
   "outputs": [],
   "source": [
    "# This file contains shapes of most countries in the world.\n",
    "# https://www.naturalearthdata.com/downloads/10m-cultural-vectors/10m-admin-0-boundary-lines/\n",
    "fname = \"/home/sm_erhol/data/ne_10_admin_0_countries/ne_10m_admin_0_countries.shp\"\n",
    "\n",
    "gdf = gpd.read_file(fname)\n",
    "\n",
    "# Select Sweden.\n",
    "swe_shapes = gdf[gdf.SOVEREIGNT == \"Sweden\"].geometry\n",
    "swe_mainland = swe_shapes.iloc[0].geoms[0]"
   ]
  },
  {
   "cell_type": "markdown",
   "id": "02ee9bbd-6774-4ec9-81f5-72aa809ec724",
   "metadata": {},
   "source": [
    "## Get the data"
   ]
  },
  {
   "cell_type": "code",
   "execution_count": null,
   "id": "efc8087c-c825-4c75-8ca6-e98ab10eaad0",
   "metadata": {},
   "outputs": [],
   "source": [
    "# First we have to read the gridclim cube\n",
    "# We need this for the evaluation.\n",
    "base_path = \"/nobackup/smhid17/proj/sik/SMHIGridClim_NORDIC-11/v0.9/netcdf/day/pr/\"\n",
    "\n",
    "# This gives a list of files in the base path matchig the wildcard.\n",
    "files = glob.glob(base_path + \"*.nc\")\n",
    "\n",
    "cube = iris.load(files)\n",
    "\n",
    "removed = iris.util.equalise_attributes(cube)\n",
    "\n",
    "# We concat on time.\n",
    "gc_cube = cube.concatenate_cube()"
   ]
  },
  {
   "cell_type": "code",
   "execution_count": null,
   "id": "35d5afd7-dc67-46c1-87a7-e615bcc1c3af",
   "metadata": {},
   "outputs": [],
   "source": [
    "# Create a mask.\n",
    "# mask from shape cant handle the 4d cube so we have to do this manually for now.\n",
    "mask = iris_utils.mask_from_shape(\n",
    "    gc_cube,\n",
    "    swe_mainland,\n",
    "    coord_names=(\"grid_latitude\", \"grid_longitude\"),\n",
    ")"
   ]
  },
  {
   "cell_type": "code",
   "execution_count": null,
   "id": "aae78f0e-a140-4904-bf33-3c2c228e0e21",
   "metadata": {},
   "outputs": [],
   "source": [
    "# Just broadcast the fourth dimension.\n",
    "mask = np.broadcast_to(mask, gc_cube.shape)"
   ]
  },
  {
   "cell_type": "code",
   "execution_count": null,
   "id": "7ac45f99-a9f4-4286-8537-13e7bc5bdc3b",
   "metadata": {},
   "outputs": [],
   "source": [
    "gc_cube.data = dask.array.ma.masked_array(gc_cube.core_data(), mask)\n",
    "# This mask inplace as well.\n",
    "#_ = iris.util.mask_cube(gc_cube, mask)"
   ]
  },
  {
   "cell_type": "code",
   "execution_count": null,
   "id": "110f81ec-d2fc-4316-b306-b315efc93145",
   "metadata": {},
   "outputs": [],
   "source": [
    "# We load in the transformed points generated in the eobs notebook.\n",
    "# We can do this since the cubes share coordinate system.\n",
    "mask_points = np.load(\"./data/region_points_transformed.npy\")"
   ]
  },
  {
   "cell_type": "code",
   "execution_count": null,
   "id": "5376fca5-3950-4706-872f-424d7a505429",
   "metadata": {},
   "outputs": [],
   "source": [
    "# Create the constraint.\n",
    "region_constraint = iris.Constraint(\n",
    "    grid_latitude=lambda v: mask_points[:, 1].min() <= v <= mask_points[:, 1].max(),\n",
    "    grid_longitude=lambda v: mask_points[:, 0].min() <= v <= mask_points[:, 0].max(),\n",
    ")"
   ]
  },
  {
   "cell_type": "code",
   "execution_count": null,
   "id": "c6a4fc94-35f0-4db6-a552-510b3296d99e",
   "metadata": {},
   "outputs": [],
   "source": [
    "# Extract the region\n",
    "gc_cube = gc_cube.extract(region_constraint)"
   ]
  },
  {
   "cell_type": "markdown",
   "id": "48d96f9a-107d-48ec-b50b-80ddeb71db8a",
   "metadata": {},
   "source": [
    "Load in the CORDEX ensemble."
   ]
  },
  {
   "cell_type": "code",
   "execution_count": null,
   "id": "3872420f-39cb-48fc-9a9d-6acd08097c36",
   "metadata": {},
   "outputs": [],
   "source": [
    "# Precipitation.\n",
    "base_path = \"/nobackup/rossby21/sm_stran/Klimatfabrik/MidasOut/pr/\""
   ]
  },
  {
   "cell_type": "code",
   "execution_count": null,
   "id": "9c4efe07-9e62-49a7-9b0e-76f2145c825b",
   "metadata": {},
   "outputs": [],
   "source": [
    "files = glob.glob(base_path + \"*_rcp85*.nc\")"
   ]
  },
  {
   "cell_type": "code",
   "execution_count": null,
   "id": "a381419f-de3e-41fb-af62-0ed27249bbaf",
   "metadata": {},
   "outputs": [],
   "source": [
    "cordex_cube = iris.load(files)"
   ]
  },
  {
   "cell_type": "markdown",
   "id": "f2d57c2d-d6eb-4e39-9e80-a9b4237113c2",
   "metadata": {},
   "source": [
    "**Notes on time constraints**\n",
    "- Time span varies between the models.\n",
    "Generally 1970 and forward is available, however, one model (MOHC-HadGEM2-ES--ICTP-RegCM4-6) start in June 1970."
   ]
  },
  {
   "cell_type": "code",
   "execution_count": null,
   "id": "a7234fab-d5bd-4da2-aaa2-6d5f764161b8",
   "metadata": {},
   "outputs": [],
   "source": [
    "# Add a time constraint to the loading.\n",
    "time_constraint = iris.Constraint(time=lambda cell: 1971 <= cell.point.year <= 2018)"
   ]
  },
  {
   "cell_type": "code",
   "execution_count": null,
   "id": "4b20c2ac-96fd-454f-acdb-ddfad6c4b34e",
   "metadata": {},
   "outputs": [],
   "source": [
    "# Useful for parallel extraction.\n",
    "def extract_p(cube):\n",
    "    # Add a time constraint to the loading.\n",
    "    time_constraint = iris.Constraint(\n",
    "        time=lambda cell: 1971 <= cell.point.year <= 2020,\n",
    "    )\n",
    "    return cube.extract(time_constraint)"
   ]
  },
  {
   "cell_type": "code",
   "execution_count": null,
   "id": "e20a08b7-322d-436f-8c07-b321cc0b4dbe",
   "metadata": {},
   "outputs": [],
   "source": [
    "# Can we do extract in parallel?\n",
    "# This seems to run on workers, so more workers are faster.\n",
    "# hence we use the pool and not the client.\n",
    "with Pool() as p:\n",
    "    cordex_cube = p.map(extract_p, cordex_cube)"
   ]
  },
  {
   "cell_type": "code",
   "execution_count": null,
   "id": "99cc832c-19f0-418e-b32d-7926bc8d42f0",
   "metadata": {},
   "outputs": [],
   "source": [
    "cordex_cube = iris.cube.CubeList(cordex_cube)"
   ]
  },
  {
   "cell_type": "markdown",
   "id": "5eb5e4aa-dffe-484a-9f02-b16354f7ae55",
   "metadata": {},
   "source": [
    "After this we add a new auxiliary coordinate indicating the ensemble member."
   ]
  },
  {
   "cell_type": "code",
   "execution_count": null,
   "id": "fdf3e807-f464-4611-818a-5808c628c53b",
   "metadata": {},
   "outputs": [],
   "source": [
    "from importlib import reload\n",
    "import iris_utils.utils\n",
    "\n",
    "reload(iris_utils.utils)"
   ]
  },
  {
   "cell_type": "code",
   "execution_count": null,
   "id": "8a59de5b-48a3-43de-a42d-70dde0128ff7",
   "metadata": {},
   "outputs": [],
   "source": [
    "iris_utils.utils.attribute_to_aux(cordex_cube)"
   ]
  },
  {
   "cell_type": "code",
   "execution_count": null,
   "id": "2abd1bdf-a2f0-4a4a-b753-fd1486901ee3",
   "metadata": {},
   "outputs": [],
   "source": [
    "# Remove attributes.\n",
    "removed_attrs = iris.util.equalise_attributes(cordex_cube)"
   ]
  },
  {
   "cell_type": "markdown",
   "id": "9440d579-0038-408e-9c0c-ebd3e0d80252",
   "metadata": {},
   "source": [
    "Now we should be able to merge the cubes along the new coordinate."
   ]
  },
  {
   "cell_type": "code",
   "execution_count": null,
   "id": "e6c1ef42-2372-4a6f-99d2-48983f5ffd18",
   "metadata": {},
   "outputs": [],
   "source": [
    "cordex_cube = iris_utils.merge_aeq_cubes(cordex_cube)"
   ]
  },
  {
   "cell_type": "code",
   "execution_count": null,
   "id": "efc4844c-4616-4496-8fc3-d67b7ce80723",
   "metadata": {},
   "outputs": [],
   "source": [
    "cordex_cube"
   ]
  },
  {
   "cell_type": "code",
   "execution_count": null,
   "id": "a7fb3af6-f3fb-4deb-b89a-5d2778d099a0",
   "metadata": {},
   "outputs": [],
   "source": [
    "cordex_cube.data = cordex_cube.core_data().rechunk()"
   ]
  },
  {
   "cell_type": "code",
   "execution_count": null,
   "id": "d4d1192a-a7ed-4531-aace-6861ad27f343",
   "metadata": {},
   "outputs": [],
   "source": [
    "cordex_cube.core_data()"
   ]
  },
  {
   "cell_type": "code",
   "execution_count": null,
   "id": "3c4b72eb-adcf-4343-8239-83a8b91c1467",
   "metadata": {},
   "outputs": [],
   "source": [
    "fig, ax = plt.subplots(subplot_kw={\"projection\": sweref})\n",
    "iplt.contourf(cordex_cube[0, 0, :, :])\n",
    "ax.coastlines();"
   ]
  },
  {
   "cell_type": "markdown",
   "id": "9e6ad8e0-6b74-4371-9603-92ed1dd1c115",
   "metadata": {},
   "source": [
    "### Mask Sweden"
   ]
  },
  {
   "cell_type": "code",
   "execution_count": null,
   "id": "3ba7f11d-d408-40e2-8397-182b18853d62",
   "metadata": {},
   "outputs": [],
   "source": [
    "# Create a mask.\n",
    "# mask from shape cant handle the 4d cube so we have to do this manually for now.\n",
    "mask = iris_utils.mask_from_shape(\n",
    "    cordex_cube[0, :, :, :],\n",
    "    swe_mainland,\n",
    "    coord_names=(\"grid_latitude\", \"grid_longitude\"),\n",
    ")"
   ]
  },
  {
   "cell_type": "code",
   "execution_count": null,
   "id": "a525f839-15b9-406b-aebe-fa432688cf0d",
   "metadata": {},
   "outputs": [],
   "source": [
    "# Just broadcast the fourth dimension.\n",
    "mask = np.broadcast_to(mask, cordex_cube.shape)"
   ]
  },
  {
   "cell_type": "code",
   "execution_count": null,
   "id": "8324aec2-2dff-49bd-aa1a-a98bdbb59fd8",
   "metadata": {},
   "outputs": [],
   "source": [
    "iris_utils.utils.mask_cube(cordex_cube, mask)"
   ]
  },
  {
   "cell_type": "code",
   "execution_count": null,
   "id": "20eaa775-b7af-4ca0-9010-5d8051fcea3d",
   "metadata": {},
   "outputs": [],
   "source": [
    "cordex_cube.core_data()"
   ]
  },
  {
   "cell_type": "markdown",
   "id": "9801a1d4-21e1-40bd-950a-95e636371bfe",
   "metadata": {},
   "source": [
    "## Region selection"
   ]
  },
  {
   "cell_type": "code",
   "execution_count": null,
   "id": "249b30f5-3eb2-468a-840b-04bcc03d9d49",
   "metadata": {},
   "outputs": [],
   "source": [
    "# We load in the transformed points generated in the eobs notebook.\n",
    "# We can do this since the cubes share coordinate system.\n",
    "mask_points = np.load(\"./data/region_points_transformed.npy\")"
   ]
  },
  {
   "cell_type": "code",
   "execution_count": null,
   "id": "063dad02-4d5f-4a61-be8b-7e570fcf722d",
   "metadata": {},
   "outputs": [],
   "source": [
    "# Create the constraint.\n",
    "region_constraint = iris.Constraint(\n",
    "    grid_latitude=lambda v: mask_points[:, 1].min() <= v <= mask_points[:, 1].max(),\n",
    "    grid_longitude=lambda v: mask_points[:, 0].min() <= v <= mask_points[:, 0].max(),\n",
    ")"
   ]
  },
  {
   "cell_type": "code",
   "execution_count": null,
   "id": "7d6a6788-68e2-4742-b8c1-1275703cb510",
   "metadata": {},
   "outputs": [],
   "source": [
    "# Extract the region\n",
    "cordex_cube = cordex_cube.extract(region_constraint)"
   ]
  },
  {
   "cell_type": "markdown",
   "id": "8d2ccebe-53c2-45ca-82a0-83fb989cf60c",
   "metadata": {},
   "source": [
    "Make sure the region selection worked."
   ]
  },
  {
   "cell_type": "code",
   "execution_count": null,
   "id": "219af52a-4486-4836-abbf-27a2ecf7b53b",
   "metadata": {},
   "outputs": [],
   "source": [
    "fig, ax = plt.subplots(figsize=(7, 9), subplot_kw={\"projection\": sweref})\n",
    "iplt.contourf(cordex_cube[0, 0, :, :], 30, axes=ax)\n",
    "ax.coastlines()\n",
    "# ax.legend();\n",
    "# Set the extent to put the data into context.\n",
    "ax.set_extent([10, 20, 50, 75], crs=ccrs.PlateCarree())"
   ]
  },
  {
   "cell_type": "code",
   "execution_count": null,
   "id": "f7a030fe-7761-45ce-9e69-73107bdf1b8d",
   "metadata": {},
   "outputs": [],
   "source": [
    "cordex_cube.core_data()"
   ]
  },
  {
   "cell_type": "markdown",
   "id": "bb72a497-3ac8-47e4-9b7e-51dd21ac24c3",
   "metadata": {},
   "source": [
    "## Seasonal cycle\n",
    "We want to calculate the seasonal cycle for the ensemble members.\n",
    "\n",
    "For this we need some categorical variables (year, month)."
   ]
  },
  {
   "cell_type": "code",
   "execution_count": null,
   "id": "769dd627-e1e2-4329-a49d-4f2fb5b7e94a",
   "metadata": {},
   "outputs": [],
   "source": [
    "iris.coord_categorisation.add_year(cordex_cube, \"time\")\n",
    "iris.coord_categorisation.add_month(cordex_cube, \"time\")"
   ]
  },
  {
   "cell_type": "code",
   "execution_count": null,
   "id": "cba70afb-c9db-43c2-af0c-7d4a5f5e8c8d",
   "metadata": {},
   "outputs": [],
   "source": [
    "# Create a seasonal cube.\n",
    "cordex_seasonal = cordex_cube.aggregated_by([\"month\"], iris.analysis.MEAN)"
   ]
  },
  {
   "cell_type": "code",
   "execution_count": null,
   "id": "da127477-9be8-400a-adc5-cfa823a4e574",
   "metadata": {},
   "outputs": [],
   "source": [
    "# grid_areas = iris.analysis.cartography.area_weights(cordex_seasonal)"
   ]
  },
  {
   "cell_type": "code",
   "execution_count": null,
   "id": "944a77ec-2bd5-4a1a-8094-96bccba4aa7e",
   "metadata": {},
   "outputs": [],
   "source": [
    "cordex_seasonal = cordex_seasonal.collapsed(\n",
    "    [\"grid_latitude\", \"grid_longitude\"], iris.analysis.MEAN\n",
    ")"
   ]
  },
  {
   "cell_type": "markdown",
   "id": "50fc1381-9070-449d-a2e1-772dc342265a",
   "metadata": {},
   "source": [
    "We need to do the same thing with GridClim"
   ]
  },
  {
   "cell_type": "code",
   "execution_count": null,
   "id": "70be8f1e-c6a3-4b30-9f9c-6f0858935403",
   "metadata": {},
   "outputs": [],
   "source": [
    "iris.coord_categorisation.add_month(gc_cube, \"time\")"
   ]
  },
  {
   "cell_type": "code",
   "execution_count": null,
   "id": "b35a441b-eeff-471d-9269-446a6eb1abac",
   "metadata": {},
   "outputs": [],
   "source": [
    "gc_seasonal = gc_cube.aggregated_by(\n",
    "    \"month\",\n",
    "    iris.analysis.MEAN,\n",
    ")\n",
    "gc_seasonal = gc_seasonal.collapsed(\n",
    "    [\"grid_latitude\", \"grid_longitude\"], iris.analysis.MEAN\n",
    ")"
   ]
  },
  {
   "cell_type": "code",
   "execution_count": null,
   "id": "90aeeb33-00b5-4b86-ba19-4b36fceecda6",
   "metadata": {},
   "outputs": [],
   "source": [
    "# gc_seasonal"
   ]
  },
  {
   "cell_type": "code",
   "execution_count": null,
   "id": "b285abef-a90f-4e69-91c8-20094b5ea6bb",
   "metadata": {},
   "outputs": [],
   "source": [
    "_ = cordex_seasonal.data"
   ]
  },
  {
   "cell_type": "code",
   "execution_count": null,
   "id": "418f66ab-66f1-4303-857b-13ecc9f981d0",
   "metadata": {},
   "outputs": [],
   "source": [
    "fig, ax = plt.subplots()\n",
    "for ens in range(cordex_seasonal.shape[0]):\n",
    "    plt.plot(cordex_seasonal[ens, :].data)\n",
    "plt.plot(gc_seasonal.data, ls=\"--\", c=\"k\", zorder=5)"
   ]
  },
  {
   "cell_type": "markdown",
   "id": "9486ebee-96a0-41da-9cc6-dbf91e90b747",
   "metadata": {},
   "source": [
    "Load in the fit CI from GridClim"
   ]
  },
  {
   "cell_type": "code",
   "execution_count": null,
   "id": "121bb447-20b9-4046-bed0-9abe124721dc",
   "metadata": {},
   "outputs": [],
   "source": [
    "gc_fits_ci = np.load(\"./data/fits_ci_gridclim.npy\")\n",
    "gc_fits_ci = np.percentile(gc_fits_ci, [5, 50, 95], axis=0)"
   ]
  },
  {
   "cell_type": "code",
   "execution_count": null,
   "id": "44b82112-24b6-4bba-b5df-754a681571b8",
   "metadata": {},
   "outputs": [],
   "source": [
    "gc_fits_ci"
   ]
  },
  {
   "cell_type": "markdown",
   "id": "f4a4532b-f162-4bd0-a557-036d4f83b57b",
   "metadata": {},
   "source": [
    "## Fitting an extreme value distribution to Rx1\n",
    "Now we can start looking at the extremes, e.g. annual Rx1.\n",
    "In this case Rx1 should simply be the annual max?\n",
    "Since we already have daily values."
   ]
  },
  {
   "cell_type": "markdown",
   "id": "40537d58-8d56-45ba-81ca-008a7d485044",
   "metadata": {},
   "source": [
    "Get the annual maximums"
   ]
  },
  {
   "cell_type": "code",
   "execution_count": null,
   "id": "c28d699d-9fc1-4cf6-8a9f-852b0b16dd14",
   "metadata": {},
   "outputs": [],
   "source": [
    "rx1_ann_cordex = cordex_cube.aggregated_by(\"year\", iris.analysis.MAX)"
   ]
  },
  {
   "cell_type": "code",
   "execution_count": null,
   "id": "b0eb7ce2-f1df-49e3-9c6d-f00f789f0c55",
   "metadata": {},
   "outputs": [],
   "source": [
    "# Note, density is way above one since the bin values are so small.\n",
    "# e.g. the widht of each bin is ~0.0001, hence integrating = 1\n",
    "# plt.hist(rx1_ann_cordex.data.compressed(), density=True);"
   ]
  },
  {
   "cell_type": "markdown",
   "id": "5da6054c-eda1-45e4-b61f-9214955858f5",
   "metadata": {},
   "source": [
    "### Fit a GEV distribution.\n",
    "We use scipy to fit a GEV distribution to this sample."
   ]
  },
  {
   "cell_type": "code",
   "execution_count": null,
   "id": "79574483-57fd-4419-94f6-acab9fdf4bb3",
   "metadata": {},
   "outputs": [],
   "source": [
    "# Get the GEV dist object\n",
    "dist = scstats.genextreme\n",
    "# data\n",
    "rx1_ann_cordex_data = rx1_ann_cordex.data.reshape(rx1_ann_cordex.shape[0], -1)"
   ]
  },
  {
   "cell_type": "code",
   "execution_count": null,
   "id": "0594c0ed-24df-4b52-9cdc-a24d20438c1e",
   "metadata": {},
   "outputs": [],
   "source": [
    "rx1_ann_cordex_data.shape"
   ]
  },
  {
   "cell_type": "code",
   "execution_count": null,
   "id": "0e629e85-8e3c-4b7e-9944-9d107d4a9a40",
   "metadata": {},
   "outputs": [],
   "source": [
    "cordex_fits = np.zeros((cordex_cube.shape[0], 3))\n",
    "for i, member in tqdm(enumerate(rx1_ann_cordex_data)):\n",
    "    fit = dist.fit(member.compressed())\n",
    "    cordex_fits[i] = fit"
   ]
  },
  {
   "cell_type": "code",
   "execution_count": null,
   "id": "173477cc-737e-4208-af2e-d503222b26d8",
   "metadata": {},
   "outputs": [],
   "source": [
    "gc_fits_ci"
   ]
  },
  {
   "cell_type": "code",
   "execution_count": null,
   "id": "a9251256-3b68-4639-aee0-aee7d0db6aa5",
   "metadata": {},
   "outputs": [],
   "source": [
    "cordex_fits"
   ]
  },
  {
   "cell_type": "code",
   "execution_count": null,
   "id": "42b5bf9c-e975-4906-bb76-d9a5025579c7",
   "metadata": {},
   "outputs": [],
   "source": [
    "cordex_fits_ci = np.percentile(cordex_fits, [5, 50, 95], axis=0)"
   ]
  },
  {
   "cell_type": "code",
   "execution_count": null,
   "id": "e881e2e5-9f88-4011-89df-20bad6ca0a3b",
   "metadata": {},
   "outputs": [],
   "source": [
    "x = np.linspace(0, 0.0015, 200)\n",
    "fig, ax = plt.subplots(figsize=(9, 7))\n",
    "# GridClim\n",
    "ax.plot(x, dist(*gc_fits_ci[1, :]).pdf(x))\n",
    "ax.fill_between(\n",
    "    x, dist(*gc_fits_ci[0, :]).pdf(x), dist(*gc_fits_ci[2, :]).pdf(x), alpha=0.5\n",
    ")\n",
    "\n",
    "# Cordex\n",
    "ax.plot(x, dist(*cordex_fits_ci[1, :]).pdf(x))\n",
    "ax.fill_between(\n",
    "    x, dist(*cordex_fits_ci[0, :]).pdf(x), dist(*cordex_fits_ci[2, :]).pdf(x), alpha=0.5\n",
    ");"
   ]
  },
  {
   "cell_type": "code",
   "execution_count": null,
   "id": "f835776f-8f88-487a-bc00-8fca9c4249f3",
   "metadata": {},
   "outputs": [],
   "source": [
    "cordex_fits_ci"
   ]
  },
  {
   "cell_type": "code",
   "execution_count": null,
   "id": "1180826d-278a-415a-99cb-f4443b6f3300",
   "metadata": {},
   "outputs": [],
   "source": [
    "gc_fits_ci"
   ]
  },
  {
   "cell_type": "code",
   "execution_count": null,
   "id": "4f1bcc37-9459-4b01-941f-edbb738ed6d9",
   "metadata": {},
   "outputs": [],
   "source": [
    "(cordex_fits_ci[:, 0] < gc_fits_ci[:, 0].max()) & (cordex_fits_ci[:, 0] > gc_fits_ci[:, 0].min())"
   ]
  },
  {
   "cell_type": "code",
   "execution_count": null,
   "id": "2fcf7e5e-b3b9-4af0-be68-32b3d8497191",
   "metadata": {},
   "outputs": [],
   "source": [
    "(cordex_fits_ci[:, 1] < gc_fits_ci[:, 1].max()) & (cordex_fits_ci[:, 1] > gc_fits_ci[:, 1].min())"
   ]
  },
  {
   "cell_type": "code",
   "execution_count": null,
   "id": "b3d42bc9-d23a-456f-8784-88a20a3663ed",
   "metadata": {},
   "outputs": [],
   "source": [
    "(cordex_fits_ci[:, 2] < gc_fits_ci[:, 2].max()) & (cordex_fits_ci[:, 2] > gc_fits_ci[:, 2].min())"
   ]
  }
 ],
 "metadata": {
  "kernelspec": {
   "display_name": "Python 3 (ipykernel)",
   "language": "python",
   "name": "python3"
  },
  "language_info": {
   "codemirror_mode": {
    "name": "ipython",
    "version": 3
   },
   "file_extension": ".py",
   "mimetype": "text/x-python",
   "name": "python",
   "nbconvert_exporter": "python",
   "pygments_lexer": "ipython3",
   "version": "3.9.13"
  }
 },
 "nbformat": 4,
 "nbformat_minor": 5
}
