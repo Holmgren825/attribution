{
 "cells": [
  {
   "cell_type": "markdown",
   "id": "eb4ea2f3-5546-4c4c-9a8c-0a12b28456da",
   "metadata": {},
   "source": [
    "# Validation\n",
    "Here we will validate models against the GridClim product.\n",
    "\n",
    "There are four scores we can calculate to verify each model \n",
    "\n",
    "Lets start with the **average monthly anomaly.**\n",
    "This works with a mean value for the whole timeperiod in each dataset, hence we need to create these.\n",
    "It is essentially collapsing the time coordinate and taking a mean."
   ]
  },
  {
   "cell_type": "code",
   "execution_count": null,
   "id": "5a4d4aa0-cad4-4684-91ab-a7a051c86db9",
   "metadata": {},
   "outputs": [],
   "source": [
    "import attribution.verification\n",
    "import dask\n",
    "from dask.distributed import Client\n",
    "import iris\n",
    "import iris.plot as iplt\n",
    "from importlib import reload\n",
    "from matplotlib import pyplot as plt\n",
    "import numpy as np\n",
    "import os\n",
    "import pandas as pd"
   ]
  },
  {
   "cell_type": "code",
   "execution_count": null,
   "id": "7d8370f4-5067-4eeb-b424-4e484716ea32",
   "metadata": {},
   "outputs": [],
   "source": [
    "client = Client(n_workers=4)\n",
    "client.amm.start()"
   ]
  },
  {
   "cell_type": "code",
   "execution_count": null,
   "id": "61811001-5f3e-4a0b-9253-222f43d478d7",
   "metadata": {},
   "outputs": [],
   "source": [
    "# Where do we store the data?\n",
    "base_path = \"/nobackup/rossby26/users/sm_erhol/extremeEventAttribution/\"\n",
    "# What is the file called?\n",
    "cordex_name = \"prAdjust_Gavle_CORDEX-ENS_rcp85_day_19710101-20181230.nc\"\n",
    "# Load the file\n",
    "cordex_cube = iris.load_cube(os.path.join(base_path, cordex_name))\n",
    "\n",
    "# GridClim\n",
    "# What is the file called?\n",
    "gc_name = \"prAdjust_Gavle_SMHIGridClim_day_19710101-20181230.nc\"\n",
    "# Load the file\n",
    "gc_cube = iris.load_cube(os.path.join(base_path, gc_name))"
   ]
  },
  {
   "cell_type": "markdown",
   "id": "ef09e5f0-3fb6-4707-bca0-7d7b540ae05a",
   "metadata": {},
   "source": [
    "## Annual anomaly"
   ]
  },
  {
   "cell_type": "code",
   "execution_count": null,
   "id": "ce071aa2-f0c8-4b38-b7fd-88d5f8379b03",
   "metadata": {},
   "outputs": [],
   "source": [
    "average_anomaly = attribution.verification.average_anomaly(cordex_cube, gc_cube)"
   ]
  },
  {
   "cell_type": "code",
   "execution_count": null,
   "id": "1e612cd6-bc5c-4dcc-8c32-4bd7b0e497e0",
   "metadata": {},
   "outputs": [],
   "source": [
    "# Print the average anomaly as a percentage.\n",
    "average_anomaly.data * 100"
   ]
  },
  {
   "cell_type": "markdown",
   "id": "7c52d052-3b75-4d5a-a5a4-d62e17bcb073",
   "metadata": {},
   "source": [
    "## Seasonal anomaly"
   ]
  },
  {
   "cell_type": "code",
   "execution_count": null,
   "id": "10bc0995-1478-4bf5-b378-72b81a992945",
   "metadata": {},
   "outputs": [],
   "source": [
    "average_monthly_anomaly = attribution.verification.average_monthly_anomaly(\n",
    "    cordex_cube, gc_cube\n",
    ")"
   ]
  },
  {
   "cell_type": "code",
   "execution_count": null,
   "id": "0127577b-3a81-494a-9101-5a31a4937907",
   "metadata": {},
   "outputs": [],
   "source": [
    "# The average seasonal anomaly as a percentage.\n",
    "average_monthly_anomaly.data * 100"
   ]
  },
  {
   "cell_type": "markdown",
   "id": "8c70bdd2-0065-4595-84b4-20724405caa3",
   "metadata": {
    "tags": []
   },
   "source": [
    "## Seasonal correlation index?\n",
    "\n",
    "There are essentially two indices we can calculate here, depending on hard we want to test the model.\n",
    "If we want to test the models ability to simulate the average year we don't need to set the arg `climatological` since this is `True` by default.\n",
    "This will correlate the average annual cycle for the model(s) and observations in each grid point.\n",
    "Doing this checks how well the model captures the average annual cycle for each grid point.\n",
    "\n",
    "By setting `climatological=False` every annual cycle is instead correlated i.e. monthly values.\n",
    "This seems to be a tougher metric, and is more computationally demanding."
   ]
  },
  {
   "cell_type": "code",
   "execution_count": null,
   "id": "34d67bcd-9d59-497a-9789-816f005b7dc0",
   "metadata": {},
   "outputs": [],
   "source": [
    "reload(attribution.verification)"
   ]
  },
  {
   "cell_type": "code",
   "execution_count": null,
   "id": "6de5377a-afcd-4eb5-98c7-9d0cfe53cb12",
   "metadata": {},
   "outputs": [],
   "source": [
    "seasonality_index = attribution.verification.seasonality_index(\n",
    "    cordex_cube, gc_cube, kge=False\n",
    ")\n",
    "seasonality_index_kge = attribution.verification.seasonality_index(\n",
    "    cordex_cube, gc_cube, kge=True\n",
    ")"
   ]
  },
  {
   "cell_type": "code",
   "execution_count": null,
   "id": "447641e4-7dff-4444-9c98-4119a9a7a2a0",
   "metadata": {},
   "outputs": [],
   "source": [
    "seasonality_index.data"
   ]
  },
  {
   "cell_type": "code",
   "execution_count": null,
   "id": "4b6f8253-a658-4484-97f3-7454df5583bb",
   "metadata": {},
   "outputs": [],
   "source": [
    "seasonality_index_kge.data"
   ]
  },
  {
   "cell_type": "markdown",
   "id": "15308d04-6589-4088-b515-86c51e494fa4",
   "metadata": {},
   "source": [
    "## Spatial correlation"
   ]
  },
  {
   "cell_type": "code",
   "execution_count": null,
   "id": "28ac6cd7-72a3-441f-8bea-dd7e0936dfc9",
   "metadata": {},
   "outputs": [],
   "source": [
    "pattern_index = attribution.verification.pattern_index(cordex_cube, gc_cube)"
   ]
  },
  {
   "cell_type": "code",
   "execution_count": null,
   "id": "140b61ea-edd7-4a72-bb56-bfa4ac9548d5",
   "metadata": {},
   "outputs": [],
   "source": [
    "pattern_index.data"
   ]
  },
  {
   "cell_type": "markdown",
   "id": "3e22d680-0b1d-47f6-96c5-317f94591579",
   "metadata": {},
   "source": [
    "## Homogenise the performance\n",
    "Mapping the index to scores between 0 and 10."
   ]
  },
  {
   "cell_type": "code",
   "execution_count": null,
   "id": "3a0eebf0-16d2-4284-aae0-cb23cc77e18d",
   "metadata": {},
   "outputs": [],
   "source": [
    "# Scores for index 1 and 2\n",
    "indx_1_scores = attribution.verification.get_scores(\n",
    "    average_anomaly.data * 100,\n",
    "    bins=np.arange(5, 51, 5),\n",
    "    score_bins=np.arange(10, -1, -1),\n",
    ")\n",
    "indx_2_scores = attribution.verification.get_scores(\n",
    "    average_monthly_anomaly.data * 100,\n",
    "    bins=np.arange(5, 51, 5),\n",
    "    score_bins=np.arange(10, -1, -1),\n",
    ")"
   ]
  },
  {
   "cell_type": "code",
   "execution_count": null,
   "id": "29014901-fe0e-4b9b-89e9-1ff909635aab",
   "metadata": {},
   "outputs": [],
   "source": [
    "# Scores for index 3 and 4\n",
    "indx_3_scores = attribution.verification.get_scores(\n",
    "    seasonality_index.data,\n",
    "    bins=np.arange(0.92, 0.19, -0.08),\n",
    "    score_bins=np.arange(10, -1, -1),\n",
    ")\n",
    "indx_4_scores = attribution.verification.get_scores(\n",
    "    pattern_index.data,\n",
    "    bins=np.arange(0.92, 0.19, -0.08),\n",
    "    score_bins=np.arange(10, -1, -1),\n",
    ")"
   ]
  },
  {
   "cell_type": "code",
   "execution_count": null,
   "id": "ce2f85e5-cf58-4a0e-bd33-cd1805dbc975",
   "metadata": {},
   "outputs": [],
   "source": [
    "# Stack the scores\n",
    "data = np.stack(\n",
    "    [\n",
    "        indx_1_scores,\n",
    "        indx_2_scores,\n",
    "        indx_3_scores,\n",
    "        indx_4_scores,\n",
    "    ],\n",
    "    axis=1,\n",
    ")"
   ]
  },
  {
   "cell_type": "code",
   "execution_count": null,
   "id": "4eb0be40-286e-48ac-be27-635fc4774634",
   "metadata": {},
   "outputs": [],
   "source": [
    "# fig, ax = plt.subplots(figsize=(5, 20))\n",
    "# im = ax.imshow(data, aspect=0.7, vmin=0, vmax=10)\n",
    "# plt.colorbar(im)"
   ]
  },
  {
   "cell_type": "code",
   "execution_count": null,
   "id": "04e2fb81-0be4-4e83-8191-fbc5cb4a4306",
   "metadata": {},
   "outputs": [],
   "source": [
    "# Create a dataframe of the scores.\n",
    "scores_df = pd.DataFrame(data=data, columns=[\"Idx_1\", \"Idx_2\", \"Idx_3\", \"Idx_4\"])\n",
    "# Add the ensemble id\n",
    "scores_df[\"ensemble_id\"] = cordex_cube.coord(\"ensemble_id\").points\n",
    "scores_df = scores_df[[\"ensemble_id\", \"Idx_1\", \"Idx_2\", \"Idx_3\", \"Idx_4\"]]"
   ]
  },
  {
   "cell_type": "code",
   "execution_count": null,
   "id": "0f3a9a0e-4eec-4346-a92a-021ef531aacb",
   "metadata": {},
   "outputs": [],
   "source": [
    "# Add a sum of the scores.\n",
    "scores_df[\"Sum_scores\"] = scores_df.sum(axis=1, numeric_only=True)"
   ]
  },
  {
   "cell_type": "code",
   "execution_count": null,
   "id": "be5489bd-823f-4db7-979f-fe437de985ad",
   "metadata": {},
   "outputs": [],
   "source": [
    "scores_df"
   ]
  },
  {
   "cell_type": "markdown",
   "id": "b939a29f-71d1-4aa1-b81f-95b769939812",
   "metadata": {},
   "source": [
    "With these scores we can then drop models out of the rest of the study.\n",
    "In this particular case, the lowest total score is 29, which is still acceptable.\n",
    "Hence, we don't drop any models based on the performance."
   ]
  },
  {
   "cell_type": "code",
   "execution_count": null,
   "id": "c8ec2529-09e7-4349-8512-04d24835dd75",
   "metadata": {},
   "outputs": [],
   "source": [
    "# Save the scores to a csv.\n",
    "scores_df.to_csv(\"./scores.csv\")"
   ]
  }
 ],
 "metadata": {
  "kernelspec": {
   "display_name": "Python 3 (ipykernel)",
   "language": "python",
   "name": "python3"
  },
  "language_info": {
   "codemirror_mode": {
    "name": "ipython",
    "version": 3
   },
   "file_extension": ".py",
   "mimetype": "text/x-python",
   "name": "python",
   "nbconvert_exporter": "python",
   "pygments_lexer": "ipython3",
   "version": "3.9.13"
  }
 },
 "nbformat": 4,
 "nbformat_minor": 5
}
