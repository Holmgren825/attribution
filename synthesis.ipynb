{
 "cells": [
  {
   "cell_type": "markdown",
   "id": "6b1543c2-edb0-4bc0-bba9-c32e639f7306",
   "metadata": {},
   "source": [
    "# Early synthesis"
   ]
  },
  {
   "cell_type": "code",
   "execution_count": null,
   "id": "6812035d-54e8-4794-863c-4a567aa98ea9",
   "metadata": {},
   "outputs": [],
   "source": [
    "import numpy as np\n",
    "from matplotlib import pyplot as plt"
   ]
  },
  {
   "cell_type": "code",
   "execution_count": null,
   "id": "7153ea6f-6ba2-4463-9331-225d83ea650d",
   "metadata": {},
   "outputs": [],
   "source": [
    "# Load in the PR arrays\n",
    "pr_gridclim = np.load(\"./data/pr_gridclim.npy\")\n",
    "pr_eobs = np.load(\"./data/pr_eobs.npy\")"
   ]
  },
  {
   "cell_type": "code",
   "execution_count": null,
   "id": "ae33712e-6f1c-4bc9-994b-dd7f55828047",
   "metadata": {},
   "outputs": [],
   "source": [
    "pr_data = [pr_gridclim.flatten(), pr_eobs.flatten()]\n",
    "pr_labels = [\"GridClim\", \"EOBS\"]"
   ]
  },
  {
   "cell_type": "code",
   "execution_count": null,
   "id": "ee0a6ee8-1182-4e3a-85c9-9f1eb22a5a5c",
   "metadata": {},
   "outputs": [],
   "source": [
    "fig, ax = plt.subplots(figsize=(7, 5))\n",
    "\n",
    "# Create boxes, the analog way, fill a list with dictionaries.\n",
    "boxes = [\n",
    "    {\n",
    "        \"label\": label,\n",
    "        \"whislo\": None,\n",
    "        \"q1\": pr.min(),\n",
    "        \"med\": np.median(pr),\n",
    "        \"q3\": pr.max(),\n",
    "        \"whishi\": None,\n",
    "        \"fliers\": None,\n",
    "    }\n",
    "    for pr, label in zip(pr_data, pr_labels)\n",
    "]\n",
    "# Draw the boxes\n",
    "ax.bxp(\n",
    "    boxes,\n",
    "    patch_artist=True,\n",
    "    showfliers=False,\n",
    "    vert=False,\n",
    "    medianprops={\"linewidth\": 1.5},\n",
    ")\n",
    "ax.axvline(1.0, ls=\"--\", lw=1, c=\"gray\", zorder=0)\n",
    "# Some grid tricks\n",
    "ax.grid(axis=\"x\")\n",
    "xgrid = ax.get_xgridlines()\n",
    "# We don't need to see the grid where we have a special vline.\n",
    "xgrid[3].set_visible(False)\n",
    "ax.set(\n",
    "    title=\"Probability ratios for an event similar to the Gävle rains\",\n",
    "    xlabel=\"Probability ratio\",\n",
    "    ylabel=\"Dataset\",\n",
    ")\n",
    "plt.tight_layout();"
   ]
  }
 ],
 "metadata": {
  "kernelspec": {
   "display_name": "Python 3 (ipykernel)",
   "language": "python",
   "name": "python3"
  },
  "language_info": {
   "codemirror_mode": {
    "name": "ipython",
    "version": 3
   },
   "file_extension": ".py",
   "mimetype": "text/x-python",
   "name": "python",
   "nbconvert_exporter": "python",
   "pygments_lexer": "ipython3",
   "version": "3.9.13"
  }
 },
 "nbformat": 4,
 "nbformat_minor": 5
}
