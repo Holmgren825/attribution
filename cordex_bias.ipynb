{
 "cells": [
  {
   "cell_type": "markdown",
   "id": "687eebbd-a844-474a-a0d7-2b7a19153113",
   "metadata": {},
   "source": [
    "# A look at EURO-CORDEX"
   ]
  },
  {
   "cell_type": "code",
   "execution_count": null,
   "id": "3e90bddf-11c8-455b-8694-d47e2ced025e",
   "metadata": {},
   "outputs": [],
   "source": [
    "# Import the libs\n",
    "import iris\n",
    "import iris.coord_categorisation\n",
    "import iris.quickplot as qplt\n",
    "from matplotlib import pyplot as plt\n",
    "from dask.distributed import Client\n",
    "import dask.array as da\n",
    "import dask\n",
    "import dask.config\n",
    "import numpy as np\n",
    "from multiprocessing import Pool\n",
    "import cartopy.crs as ccrs\n",
    "import cartopy.feature as cfeature\n",
    "import geopandas as gpd\n",
    "import os\n",
    "import glob\n",
    "from importlib import reload"
   ]
  },
  {
   "cell_type": "code",
   "execution_count": null,
   "id": "b63da969-a548-4849-a7dd-346b5f351c55",
   "metadata": {},
   "outputs": [],
   "source": [
    "import iris_utils.utils as utils"
   ]
  },
  {
   "cell_type": "code",
   "execution_count": null,
   "id": "264e511d-04c9-45d1-a43b-9f35d09402ac",
   "metadata": {},
   "outputs": [],
   "source": [
    "import gc\n",
    "client.run(gc.collect)  # collect garbage on all workers"
   ]
  },
  {
   "cell_type": "code",
   "execution_count": null,
   "id": "229bc6d5-cfae-4e62-9ddd-e3b2504fe816",
   "metadata": {},
   "outputs": [],
   "source": [
    "import ctypes\n",
    "def trim_memory() -> int:\n",
    "     libc = ctypes.CDLL(\"libc.so.6\")\n",
    "     return libc.malloc_trim(0)\n",
    "client.run(trim_memory)"
   ]
  },
  {
   "cell_type": "code",
   "execution_count": null,
   "id": "ebd0991e-1c88-49ca-9940-659c956db10b",
   "metadata": {},
   "outputs": [],
   "source": [
    "# from iris_utils import mask_from_shape, merge_aeq_cubes, attribute_to_aux"
   ]
  },
  {
   "cell_type": "code",
   "execution_count": null,
   "id": "34099054-fade-409d-998e-23e0e0ccb269",
   "metadata": {},
   "outputs": [],
   "source": [
    "# Some useful defaults.\n",
    "projection = ccrs.epsg(3006)"
   ]
  },
  {
   "cell_type": "code",
   "execution_count": null,
   "id": "ccac8f2f-db78-4550-a3f2-b74369496de2",
   "metadata": {},
   "outputs": [],
   "source": [
    "client = Client(n_workers=4)"
   ]
  },
  {
   "cell_type": "code",
   "execution_count": null,
   "id": "d3891fa3-fc18-4779-b8a4-af88841de422",
   "metadata": {},
   "outputs": [],
   "source": [
    "client"
   ]
  },
  {
   "cell_type": "code",
   "execution_count": null,
   "id": "2961583d-4433-4389-a58e-c6d166ee4319",
   "metadata": {},
   "outputs": [],
   "source": [
    "# Active memory manager\n",
    "client.amm.start()\n",
    "client.amm.running()"
   ]
  },
  {
   "cell_type": "markdown",
   "id": "32d8d116-be54-4e43-8b91-e8d3e96adad0",
   "metadata": {},
   "source": [
    "## Region shape"
   ]
  },
  {
   "cell_type": "code",
   "execution_count": null,
   "id": "5ef7fb11-0f66-4f69-9ebd-e805875e5ef9",
   "metadata": {},
   "outputs": [],
   "source": [
    "# This file contains shapes of most countries in the world.\n",
    "# https://www.naturalearthdata.com/downloads/10m-cultural-vectors/10m-admin-0-boundary-lines/\n",
    "fname = \"/home/sm_erhol/data/ne_10_admin_0_countries/ne_10m_admin_0_countries.shp\""
   ]
  },
  {
   "cell_type": "code",
   "execution_count": null,
   "id": "8c96c871-9d63-4d73-bbd9-9fe21164abb1",
   "metadata": {},
   "outputs": [],
   "source": [
    "gdf = gpd.read_file(fname)"
   ]
  },
  {
   "cell_type": "code",
   "execution_count": null,
   "id": "8d6ce2c5-8935-44d7-be5f-ebd551bf2fc6",
   "metadata": {},
   "outputs": [],
   "source": [
    "# Select Sweden.\n",
    "swe_shapes = gdf[gdf.SOVEREIGNT == \"Sweden\"].geometry\n",
    "swe_mainland = swe_shapes.iloc[0].geoms[0]"
   ]
  },
  {
   "cell_type": "markdown",
   "id": "5eede760-cd60-49f9-a0e3-ce906d0533d8",
   "metadata": {},
   "source": [
    "## Load data\n",
    "- ~~Should be all members in the end.\n",
    "Only two for now.~~\n",
    "- All members now."
   ]
  },
  {
   "cell_type": "code",
   "execution_count": null,
   "id": "48e9f196-c468-4250-a71c-bd3b49566b08",
   "metadata": {},
   "outputs": [],
   "source": [
    "# Precipitation.\n",
    "base_path = \"/nobackup/rossby21/sm_stran/Klimatfabrik/MidasOut/pr/\""
   ]
  },
  {
   "cell_type": "code",
   "execution_count": null,
   "id": "7ca61768-a88d-4241-8ab4-97b03e9c5315",
   "metadata": {},
   "outputs": [],
   "source": [
    "files = glob.glob(base_path + \"*_rcp26_*.nc\")"
   ]
  },
  {
   "cell_type": "code",
   "execution_count": null,
   "id": "e292bbca-6275-4479-9f28-6b174571532c",
   "metadata": {},
   "outputs": [],
   "source": [
    "# Sample files. Different GCMs.\n",
    "# files = [\n",
    "#     \"prAdjust_NORDIC-11_ICHEC-EC-EARTH_rcp26_r12i1p1_CLMcom-CCLM4-8-17_v1_day_19491201-21001231.nc\",\n",
    "#     \"prAdjust_NORDIC-11_MPI-M-MPI-ESM-LR_rcp26_r1i1p1_KNMI-RACMO22E_v1_day_19500101-21001231.nc\",\n",
    "#     \"prAdjust_NORDIC-11_NCC-NorESM1-M_rcp26_r1i1p1_SMHI-RCA4_v1_day_19700101-21001231.nc\"\n",
    "#         ]"
   ]
  },
  {
   "cell_type": "code",
   "execution_count": null,
   "id": "30b6c6a7-9dd2-4232-82de-e683174cad74",
   "metadata": {},
   "outputs": [],
   "source": [
    "# paths = [os.path.join(base_path, file) for file in files]"
   ]
  },
  {
   "cell_type": "code",
   "execution_count": null,
   "id": "4f7c5ce3-ff77-4c19-ace3-eb55d95dec44",
   "metadata": {},
   "outputs": [],
   "source": [
    "cubes = iris.load(files)"
   ]
  },
  {
   "cell_type": "markdown",
   "id": "2bac1fce-0ef7-48e8-892e-4bc9704aa846",
   "metadata": {},
   "source": [
    "**Notes on time constraints**\n",
    "- Time span varies between the models.\n",
    "Generally 1970 and forward is available, however, one model (MOHC-HadGEM2-ES--ICTP-RegCM4-6) start in June 1970."
   ]
  },
  {
   "cell_type": "code",
   "execution_count": null,
   "id": "97b078fd-6cc3-482f-8982-142108d30a5c",
   "metadata": {},
   "outputs": [],
   "source": [
    "# Add a time constraint to the loading.\n",
    "time_constraint = iris.Constraint(time=lambda cell: 1971 <= cell.point.year <= 2020)"
   ]
  },
  {
   "cell_type": "code",
   "execution_count": null,
   "id": "e9f7f945-3043-4ba1-bb3a-1b05ad7b8c81",
   "metadata": {},
   "outputs": [],
   "source": [
    "def extract_p(cube):\n",
    "    # Add a time constraint to the loading.\n",
    "    time_constraint = iris.Constraint(time=lambda cell: 1971 <= cell.point.year <= 2020,\n",
    "                                     )\n",
    "    return cube.extract(time_constraint)\n",
    "    "
   ]
  },
  {
   "cell_type": "code",
   "execution_count": null,
   "id": "c961a5d6-98fa-412a-a734-7bdca339e579",
   "metadata": {},
   "outputs": [],
   "source": [
    "# cubes_scattered = client.scatter(cubes)\n",
    "# cubes_scattered = cubes"
   ]
  },
  {
   "cell_type": "code",
   "execution_count": null,
   "id": "6c8302dc-0511-42c8-903c-6bbf7b57434f",
   "metadata": {},
   "outputs": [],
   "source": [
    "# Can we do extract in parallell?\n",
    "# This seems to run on workers, so more workers are faster.\n",
    "# So we use the pool.\n",
    "with Pool() as p:\n",
    "    cubes = p.map(extract_p, cubes)"
   ]
  },
  {
   "cell_type": "code",
   "execution_count": null,
   "id": "027ef7e6-8712-45f3-979a-4b8193d491d5",
   "metadata": {},
   "outputs": [],
   "source": [
    "#cubes = client.gather(cubes)"
   ]
  },
  {
   "cell_type": "code",
   "execution_count": null,
   "id": "175a1775-0efe-495c-9ce9-1d244cfbb928",
   "metadata": {},
   "outputs": [],
   "source": [
    "cubes = iris.cube.CubeList(cubes)"
   ]
  },
  {
   "cell_type": "markdown",
   "id": "782c3772-4b48-4544-8b21-2f04e79a1d7b",
   "metadata": {
    "tags": []
   },
   "source": [
    "### We have to add a new dimension, since we want to concatenate.\n",
    "Merge cubes works on scalar coordinates.\n",
    "Since all our scalars are the same this wont work.\n",
    "Approach is instead to create a new coordinate in each cube with a model identifier and concatenate along that axis."
   ]
  },
  {
   "cell_type": "code",
   "execution_count": null,
   "id": "1ea3a593-b583-419b-b12e-fb1d499d7694",
   "metadata": {},
   "outputs": [],
   "source": [
    "reload(utils)"
   ]
  },
  {
   "cell_type": "code",
   "execution_count": null,
   "id": "8a59de5b-48a3-43de-a42d-70dde0128ff7",
   "metadata": {},
   "outputs": [],
   "source": [
    "utils.attribute_to_aux(cubes)"
   ]
  },
  {
   "cell_type": "code",
   "execution_count": null,
   "id": "2abd1bdf-a2f0-4a4a-b753-fd1486901ee3",
   "metadata": {},
   "outputs": [],
   "source": [
    "removed_attrs = iris.util.equalise_attributes(cubes)"
   ]
  },
  {
   "cell_type": "code",
   "execution_count": null,
   "id": "e6c1ef42-2372-4a6f-99d2-48983f5ffd18",
   "metadata": {},
   "outputs": [],
   "source": [
    "ref_cube = utils.merge_aeq_cubes(cubes)"
   ]
  },
  {
   "cell_type": "code",
   "execution_count": null,
   "id": "4956e65c-3ede-4fad-a824-9574f0c05742",
   "metadata": {},
   "outputs": [],
   "source": [
    "ref_cube.core_data()"
   ]
  },
  {
   "cell_type": "markdown",
   "id": "46c6c961-a5bc-4faa-bec1-663e0391bac9",
   "metadata": {},
   "source": [
    "Lets do another extraction of latitudes"
   ]
  },
  {
   "cell_type": "code",
   "execution_count": null,
   "id": "39df8a9e-4a75-4ce4-9b61-14a509e6e536",
   "metadata": {},
   "outputs": [],
   "source": [
    "lat_constraint = iris.Constraint(grid_latitude=lambda lat: 5 <= lat <= 10,\n",
    "                                 grid_longitude=lambda lon: -6.375 <= lon <= 1)\n",
    "with Pool() as p:\n",
    "    ref_cube = ref_cube.extract(lat_constraint)"
   ]
  },
  {
   "cell_type": "markdown",
   "id": "983311bc-77d5-4edb-8816-7c5eb2b6add3",
   "metadata": {
    "tags": []
   },
   "source": [
    "## Box plot CORDEX\n",
    "What stats do we need for a box plot?\n",
    "- Min\n",
    "- 25th percentile\n",
    "- Median\n",
    "- 75th percentile\n",
    "- Max\n",
    "\n",
    "We should be able do all this in dask?"
   ]
  },
  {
   "cell_type": "code",
   "execution_count": null,
   "id": "054c7537-3517-4d59-b039-67665c988162",
   "metadata": {},
   "outputs": [],
   "source": [
    "fig, ax = plt.subplots(subplot_kw={\"projection\": projection})\n",
    "qplt.contourf(ref_cube[1, 1, :, :])\n",
    "ax.coastlines()"
   ]
  },
  {
   "cell_type": "code",
   "execution_count": null,
   "id": "0d6f9ed7-6d34-4b8c-a49f-803b5877dcff",
   "metadata": {},
   "outputs": [],
   "source": [
    "ref_cube"
   ]
  },
  {
   "cell_type": "code",
   "execution_count": null,
   "id": "745e6e3a-6af1-4688-a4aa-ea0257004081",
   "metadata": {},
   "outputs": [],
   "source": [
    "data = ref_cube.core_data()"
   ]
  },
  {
   "cell_type": "code",
   "execution_count": null,
   "id": "147ad646-d875-4c3b-b7c9-fa6ba3dc822a",
   "metadata": {},
   "outputs": [],
   "source": [
    "data = data.reshape((29, -1)).rechunk(\"auto\")"
   ]
  },
  {
   "cell_type": "code",
   "execution_count": null,
   "id": "35476334-948d-496c-b7b9-2b23f7445ced",
   "metadata": {},
   "outputs": [],
   "source": [
    "data"
   ]
  },
  {
   "cell_type": "code",
   "execution_count": null,
   "id": "f51c827a-d8b1-4d99-88ab-58ea9c87bf9a",
   "metadata": {},
   "outputs": [],
   "source": [
    "# This allows us to compute stuff for the pdf without keeping the whole data in memory.\n",
    "# median = da.median(data, axis=1)\n",
    "# minimum = da.min(data, axis=0).compute()\n",
    "# maximum = da.max(data, axis=0).compute()\n",
    "# q25 = da.percentile(data, 25).compute()[0]\n",
    "# q75 = da.percentile(data, 75).compute()[0]"
   ]
  },
  {
   "cell_type": "code",
   "execution_count": null,
   "id": "5cb437e9-296d-482a-a244-27043a076fa8",
   "metadata": {},
   "outputs": [],
   "source": [
    "def q25_fun(a, axis):\n",
    "    return np.percentile(a, 25, axis)\n",
    "def q75_fun(a, axis):\n",
    "    return np.percentile(a, 75, axis)\n",
    "def qtiles(a, axis):\n",
    "    # Which quantiles to compute on the arrays.\n",
    "    return np.quantile(a, [0.25, 0.5, 0.75, 0.95], axis)"
   ]
  },
  {
   "cell_type": "code",
   "execution_count": null,
   "id": "eb836b78-d412-4db8-9f78-21d0cd00b260",
   "metadata": {},
   "outputs": [],
   "source": [
    "# Do one compute call.\n",
    "# This way we don't have to do the rechunk once.\n",
    "# median, maxi, mini = da.compute(\n",
    "#     da.median(data, axis=1),\n",
    "#     data.max(axis=1, split_every=2),\n",
    "#     data.min(axis=1, split_every=2),\n",
    "#     # da.apply_over_axes(q25_fun, data, 1),\n",
    "#     # da.apply_over_axes(q75_fun, data, 1),\n",
    "# )"
   ]
  },
  {
   "cell_type": "code",
   "execution_count": null,
   "id": "3ce6f7c9-736a-499d-9e07-4712b20f98ff",
   "metadata": {},
   "outputs": [],
   "source": [
    "# Do one compute call.\n",
    "# This is really all we need or? The quantiles.\n",
    "quantiles = da.compute(\n",
    "    da.apply_over_axes(qtiles, data, 1),\n",
    ")"
   ]
  },
  {
   "cell_type": "code",
   "execution_count": null,
   "id": "7331c0d3-b6b7-493c-bb2d-3f7b354d7f31",
   "metadata": {},
   "outputs": [],
   "source": [
    "quantiles = quantiles[0].data"
   ]
  },
  {
   "cell_type": "code",
   "execution_count": null,
   "id": "7c74fb5f-32da-45a7-8552-d8c7d2531309",
   "metadata": {},
   "outputs": [],
   "source": [
    "# Create a figure.\n",
    "fig, ax = plt.subplots(figsize=(10, 5))\n",
    "# Climatological data.\n",
    "boxes = [\n",
    "    {\n",
    "    \"label\": i,\n",
    "    \"whislo\": 0.,\n",
    "    \"q1\": quantile[0],\n",
    "    \"med\": quantile[1],\n",
    "    \"q3\": quantile[2],\n",
    "    \"whishi\": quantile[2] + (quantile[2] - quantile[0]) / 2,\n",
    "    \"fliers\": []\n",
    "    }\n",
    "    for i, quantile in enumerate(quantiles)\n",
    "]\n",
    "ax.bxp(boxes, patch_artist=True, showfliers=False);\n",
    "ax.set_ylabel(\"Precipitation flux\")\n",
    "ax.grid(axis=\"y\")\n",
    "ax.set_title(\"Daily precipitation flux Sweden\\n1971-2018\");"
   ]
  },
  {
   "cell_type": "markdown",
   "id": "ef536d28-ef12-438e-858b-610702c5669d",
   "metadata": {},
   "source": [
    "## A look at annual extremes"
   ]
  },
  {
   "cell_type": "code",
   "execution_count": null,
   "id": "f28f616a-4a1f-4b31-8b40-4e3f1f2a41c9",
   "metadata": {},
   "outputs": [],
   "source": [
    "# Need to add categorical years\n",
    "iris.coord_categorisation.add_year(ref_cube, \"time\")"
   ]
  },
  {
   "cell_type": "code",
   "execution_count": null,
   "id": "934ee5f6-986b-4b1a-a720-efe935d07576",
   "metadata": {},
   "outputs": [],
   "source": [
    "ref_ann_max = ref_cube.aggregated_by(\"year\", iris.analysis.MAX)"
   ]
  },
  {
   "cell_type": "code",
   "execution_count": null,
   "id": "4291cad2-5d51-4bf5-93a4-1ea36636c029",
   "metadata": {},
   "outputs": [],
   "source": [
    "ref_ann_max.shape"
   ]
  },
  {
   "cell_type": "code",
   "execution_count": null,
   "id": "dfb192dd-b86e-488e-a3f6-8bc887d656a9",
   "metadata": {},
   "outputs": [],
   "source": [
    "ref_ann_max = ref_ann_max.core_data().rechunk().reshape((50, -1))"
   ]
  },
  {
   "cell_type": "code",
   "execution_count": null,
   "id": "50e4ca46-6250-4715-b7d4-b49c3c483a4b",
   "metadata": {},
   "outputs": [],
   "source": [
    "ann_quantiles = da.compute(da.apply_over_axes(qtiles, ref_ann_max, 1))"
   ]
  },
  {
   "cell_type": "code",
   "execution_count": null,
   "id": "6304dc51-7315-4dfa-a304-710bedfbeba8",
   "metadata": {},
   "outputs": [],
   "source": [
    "ann_quantiles = ann_quantiles[0]"
   ]
  },
  {
   "cell_type": "code",
   "execution_count": null,
   "id": "14fbfab0-a875-4d8d-a0c9-7dc8bf515487",
   "metadata": {},
   "outputs": [],
   "source": [
    "# Create a figure.\n",
    "fig, ax = plt.subplots(figsize=(10, 5))\n",
    "# Climatological data.\n",
    "boxes = [\n",
    "    {\n",
    "    \"label\": i,\n",
    "    \"whislo\": quantile[0] - (quantile[2] - quantile[0]) / 2,\n",
    "    \"q1\": quantile[0],\n",
    "    \"med\": quantile[1],\n",
    "    \"q3\": quantile[2],\n",
    "    \"whishi\": quantile[2] + (quantile[2] - quantile[0]) / 2,\n",
    "    \"fliers\": [quantile[3]]\n",
    "    }\n",
    "    for i, quantile in enumerate(ann_quantiles)\n",
    "]\n",
    "ax.bxp(boxes, patch_artist=True, showfliers=True);\n",
    "ax.set_ylabel(\"Precipitation flux [kg m$^{-2}$ s$^{-2}$]\")\n",
    "ax.grid(axis=\"y\")\n",
    "ax.set_title(\"Annual Rx1 Sweden 1971-2018\\n Pooled over region and ensemble members\");"
   ]
  }
 ],
 "metadata": {
  "kernelspec": {
   "display_name": "Python 3 (ipykernel)",
   "language": "python",
   "name": "python3"
  },
  "language_info": {
   "codemirror_mode": {
    "name": "ipython",
    "version": 3
   },
   "file_extension": ".py",
   "mimetype": "text/x-python",
   "name": "python",
   "nbconvert_exporter": "python",
   "pygments_lexer": "ipython3",
   "version": "3.9.13"
  }
 },
 "nbformat": 4,
 "nbformat_minor": 5
}
