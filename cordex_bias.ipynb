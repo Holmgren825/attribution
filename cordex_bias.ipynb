{
 "cells": [
  {
   "cell_type": "markdown",
   "id": "687eebbd-a844-474a-a0d7-2b7a19153113",
   "metadata": {},
   "source": [
    "# A look at EURO-CORDEX"
   ]
  },
  {
   "cell_type": "code",
   "execution_count": 1,
   "id": "3e90bddf-11c8-455b-8694-d47e2ced025e",
   "metadata": {},
   "outputs": [],
   "source": [
    "# Import the libs\n",
    "import iris\n",
    "import iris.coord_categorisation\n",
    "import iris.quickplot as qplt\n",
    "from matplotlib import pyplot as plt\n",
    "from dask.distributed import Client\n",
    "import dask.array as da\n",
    "import dask\n",
    "import dask.config\n",
    "import numpy as np\n",
    "from multiprocessing import Pool\n",
    "import cartopy.crs as ccrs\n",
    "import cartopy.feature as cfeature\n",
    "import geopandas as gpd\n",
    "import os\n",
    "import glob\n",
    "from importlib import reload"
   ]
  },
  {
   "cell_type": "code",
   "execution_count": 2,
   "id": "b63da969-a548-4849-a7dd-346b5f351c55",
   "metadata": {},
   "outputs": [],
   "source": [
    "import iris_utils.utils as utils"
   ]
  },
  {
   "cell_type": "code",
   "execution_count": 30,
   "id": "264e511d-04c9-45d1-a43b-9f35d09402ac",
   "metadata": {},
   "outputs": [
    {
     "data": {
      "text/plain": [
       "{'tcp://127.0.0.1:39310': 570,\n",
       " 'tcp://127.0.0.1:40755': 1100,\n",
       " 'tcp://127.0.0.1:45778': 1685,\n",
       " 'tcp://127.0.0.1:46324': 1792}"
      ]
     },
     "execution_count": 30,
     "metadata": {},
     "output_type": "execute_result"
    }
   ],
   "source": [
    "import gc\n",
    "client.run(gc.collect)  # collect garbage on all workers"
   ]
  },
  {
   "cell_type": "code",
   "execution_count": 41,
   "id": "229bc6d5-cfae-4e62-9ddd-e3b2504fe816",
   "metadata": {},
   "outputs": [
    {
     "data": {
      "text/plain": [
       "{'tcp://127.0.0.1:36192': 1,\n",
       " 'tcp://127.0.0.1:37620': 1,\n",
       " 'tcp://127.0.0.1:39000': 1,\n",
       " 'tcp://127.0.0.1:41095': 1}"
      ]
     },
     "execution_count": 41,
     "metadata": {},
     "output_type": "execute_result"
    }
   ],
   "source": [
    "import ctypes\n",
    "def trim_memory() -> int:\n",
    "     libc = ctypes.CDLL(\"libc.so.6\")\n",
    "     return libc.malloc_trim(0)\n",
    "client.run(trim_memory)"
   ]
  },
  {
   "cell_type": "code",
   "execution_count": 3,
   "id": "ebd0991e-1c88-49ca-9940-659c956db10b",
   "metadata": {},
   "outputs": [],
   "source": [
    "# from iris_utils import mask_from_shape, merge_aeq_cubes, attribute_to_aux"
   ]
  },
  {
   "cell_type": "code",
   "execution_count": 3,
   "id": "34099054-fade-409d-998e-23e0e0ccb269",
   "metadata": {},
   "outputs": [],
   "source": [
    "# Some useful defaults.\n",
    "projection = ccrs.epsg(3006)"
   ]
  },
  {
   "cell_type": "code",
   "execution_count": 4,
   "id": "ccac8f2f-db78-4550-a3f2-b74369496de2",
   "metadata": {},
   "outputs": [],
   "source": [
    "client = Client(n_workers=4)"
   ]
  },
  {
   "cell_type": "code",
   "execution_count": 5,
   "id": "d3891fa3-fc18-4779-b8a4-af88841de422",
   "metadata": {},
   "outputs": [
    {
     "data": {
      "text/html": [
       "<div>\n",
       "    <div style=\"width: 24px; height: 24px; background-color: #e1e1e1; border: 3px solid #9D9D9D; border-radius: 5px; position: absolute;\"> </div>\n",
       "    <div style=\"margin-left: 48px;\">\n",
       "        <h3 style=\"margin-bottom: 0px;\">Client</h3>\n",
       "        <p style=\"color: #9D9D9D; margin-bottom: 0px;\">Client-6b4e4f33-f871-11ec-8fd8-7824afb197e7</p>\n",
       "        <table style=\"width: 100%; text-align: left;\">\n",
       "\n",
       "        <tr>\n",
       "        \n",
       "            <td style=\"text-align: left;\"><strong>Connection method:</strong> Cluster object</td>\n",
       "            <td style=\"text-align: left;\"><strong>Cluster type:</strong> distributed.LocalCluster</td>\n",
       "        \n",
       "        </tr>\n",
       "\n",
       "        \n",
       "            <tr>\n",
       "                <td style=\"text-align: left;\">\n",
       "                    <strong>Dashboard: </strong> <a href=\"http://127.0.0.1:8787/status\" target=\"_blank\">http://127.0.0.1:8787/status</a>\n",
       "                </td>\n",
       "                <td style=\"text-align: left;\"></td>\n",
       "            </tr>\n",
       "        \n",
       "\n",
       "        </table>\n",
       "\n",
       "        \n",
       "            <details>\n",
       "            <summary style=\"margin-bottom: 20px;\"><h3 style=\"display: inline;\">Cluster Info</h3></summary>\n",
       "            <div class=\"jp-RenderedHTMLCommon jp-RenderedHTML jp-mod-trusted jp-OutputArea-output\">\n",
       "    <div style=\"width: 24px; height: 24px; background-color: #e1e1e1; border: 3px solid #9D9D9D; border-radius: 5px; position: absolute;\">\n",
       "    </div>\n",
       "    <div style=\"margin-left: 48px;\">\n",
       "        <h3 style=\"margin-bottom: 0px; margin-top: 0px;\">LocalCluster</h3>\n",
       "        <p style=\"color: #9D9D9D; margin-bottom: 0px;\">529fd295</p>\n",
       "        <table style=\"width: 100%; text-align: left;\">\n",
       "            <tr>\n",
       "                <td style=\"text-align: left;\">\n",
       "                    <strong>Dashboard:</strong> <a href=\"http://127.0.0.1:8787/status\" target=\"_blank\">http://127.0.0.1:8787/status</a>\n",
       "                </td>\n",
       "                <td style=\"text-align: left;\">\n",
       "                    <strong>Workers:</strong> 4\n",
       "                </td>\n",
       "            </tr>\n",
       "            <tr>\n",
       "                <td style=\"text-align: left;\">\n",
       "                    <strong>Total threads:</strong> 32\n",
       "                </td>\n",
       "                <td style=\"text-align: left;\">\n",
       "                    <strong>Total memory:</strong> 62.50 GiB\n",
       "                </td>\n",
       "            </tr>\n",
       "            \n",
       "            <tr>\n",
       "    <td style=\"text-align: left;\"><strong>Status:</strong> running</td>\n",
       "    <td style=\"text-align: left;\"><strong>Using processes:</strong> True</td>\n",
       "</tr>\n",
       "\n",
       "            \n",
       "        </table>\n",
       "\n",
       "        <details>\n",
       "            <summary style=\"margin-bottom: 20px;\">\n",
       "                <h3 style=\"display: inline;\">Scheduler Info</h3>\n",
       "            </summary>\n",
       "\n",
       "            <div style=\"\">\n",
       "    <div>\n",
       "        <div style=\"width: 24px; height: 24px; background-color: #FFF7E5; border: 3px solid #FF6132; border-radius: 5px; position: absolute;\"> </div>\n",
       "        <div style=\"margin-left: 48px;\">\n",
       "            <h3 style=\"margin-bottom: 0px;\">Scheduler</h3>\n",
       "            <p style=\"color: #9D9D9D; margin-bottom: 0px;\">Scheduler-18561150-9599-43bd-bbe4-b3fc3018f2ef</p>\n",
       "            <table style=\"width: 100%; text-align: left;\">\n",
       "                <tr>\n",
       "                    <td style=\"text-align: left;\">\n",
       "                        <strong>Comm:</strong> tcp://127.0.0.1:45493\n",
       "                    </td>\n",
       "                    <td style=\"text-align: left;\">\n",
       "                        <strong>Workers:</strong> 4\n",
       "                    </td>\n",
       "                </tr>\n",
       "                <tr>\n",
       "                    <td style=\"text-align: left;\">\n",
       "                        <strong>Dashboard:</strong> <a href=\"http://127.0.0.1:8787/status\" target=\"_blank\">http://127.0.0.1:8787/status</a>\n",
       "                    </td>\n",
       "                    <td style=\"text-align: left;\">\n",
       "                        <strong>Total threads:</strong> 32\n",
       "                    </td>\n",
       "                </tr>\n",
       "                <tr>\n",
       "                    <td style=\"text-align: left;\">\n",
       "                        <strong>Started:</strong> Just now\n",
       "                    </td>\n",
       "                    <td style=\"text-align: left;\">\n",
       "                        <strong>Total memory:</strong> 62.50 GiB\n",
       "                    </td>\n",
       "                </tr>\n",
       "            </table>\n",
       "        </div>\n",
       "    </div>\n",
       "\n",
       "    <details style=\"margin-left: 48px;\">\n",
       "        <summary style=\"margin-bottom: 20px;\">\n",
       "            <h3 style=\"display: inline;\">Workers</h3>\n",
       "        </summary>\n",
       "\n",
       "        \n",
       "        <div style=\"margin-bottom: 20px;\">\n",
       "            <div style=\"width: 24px; height: 24px; background-color: #DBF5FF; border: 3px solid #4CC9FF; border-radius: 5px; position: absolute;\"> </div>\n",
       "            <div style=\"margin-left: 48px;\">\n",
       "            <details>\n",
       "                <summary>\n",
       "                    <h4 style=\"margin-bottom: 0px; display: inline;\">Worker: 0</h4>\n",
       "                </summary>\n",
       "                <table style=\"width: 100%; text-align: left;\">\n",
       "                    <tr>\n",
       "                        <td style=\"text-align: left;\">\n",
       "                            <strong>Comm: </strong> tcp://127.0.0.1:34196\n",
       "                        </td>\n",
       "                        <td style=\"text-align: left;\">\n",
       "                            <strong>Total threads: </strong> 8\n",
       "                        </td>\n",
       "                    </tr>\n",
       "                    <tr>\n",
       "                        <td style=\"text-align: left;\">\n",
       "                            <strong>Dashboard: </strong> <a href=\"http://127.0.0.1:40157/status\" target=\"_blank\">http://127.0.0.1:40157/status</a>\n",
       "                        </td>\n",
       "                        <td style=\"text-align: left;\">\n",
       "                            <strong>Memory: </strong> 15.62 GiB\n",
       "                        </td>\n",
       "                    </tr>\n",
       "                    <tr>\n",
       "                        <td style=\"text-align: left;\">\n",
       "                            <strong>Nanny: </strong> tcp://127.0.0.1:38425\n",
       "                        </td>\n",
       "                        <td style=\"text-align: left;\"></td>\n",
       "                    </tr>\n",
       "                    <tr>\n",
       "                        <td colspan=\"2\" style=\"text-align: left;\">\n",
       "                            <strong>Local directory: </strong> /home/sm_erhol/attribution/dask-worker-space/worker-ht54c8rd\n",
       "                        </td>\n",
       "                    </tr>\n",
       "\n",
       "                    \n",
       "\n",
       "                    \n",
       "\n",
       "                </table>\n",
       "            </details>\n",
       "            </div>\n",
       "        </div>\n",
       "        \n",
       "        <div style=\"margin-bottom: 20px;\">\n",
       "            <div style=\"width: 24px; height: 24px; background-color: #DBF5FF; border: 3px solid #4CC9FF; border-radius: 5px; position: absolute;\"> </div>\n",
       "            <div style=\"margin-left: 48px;\">\n",
       "            <details>\n",
       "                <summary>\n",
       "                    <h4 style=\"margin-bottom: 0px; display: inline;\">Worker: 1</h4>\n",
       "                </summary>\n",
       "                <table style=\"width: 100%; text-align: left;\">\n",
       "                    <tr>\n",
       "                        <td style=\"text-align: left;\">\n",
       "                            <strong>Comm: </strong> tcp://127.0.0.1:33284\n",
       "                        </td>\n",
       "                        <td style=\"text-align: left;\">\n",
       "                            <strong>Total threads: </strong> 8\n",
       "                        </td>\n",
       "                    </tr>\n",
       "                    <tr>\n",
       "                        <td style=\"text-align: left;\">\n",
       "                            <strong>Dashboard: </strong> <a href=\"http://127.0.0.1:44881/status\" target=\"_blank\">http://127.0.0.1:44881/status</a>\n",
       "                        </td>\n",
       "                        <td style=\"text-align: left;\">\n",
       "                            <strong>Memory: </strong> 15.62 GiB\n",
       "                        </td>\n",
       "                    </tr>\n",
       "                    <tr>\n",
       "                        <td style=\"text-align: left;\">\n",
       "                            <strong>Nanny: </strong> tcp://127.0.0.1:42881\n",
       "                        </td>\n",
       "                        <td style=\"text-align: left;\"></td>\n",
       "                    </tr>\n",
       "                    <tr>\n",
       "                        <td colspan=\"2\" style=\"text-align: left;\">\n",
       "                            <strong>Local directory: </strong> /home/sm_erhol/attribution/dask-worker-space/worker-r4_3y8kq\n",
       "                        </td>\n",
       "                    </tr>\n",
       "\n",
       "                    \n",
       "\n",
       "                    \n",
       "\n",
       "                </table>\n",
       "            </details>\n",
       "            </div>\n",
       "        </div>\n",
       "        \n",
       "        <div style=\"margin-bottom: 20px;\">\n",
       "            <div style=\"width: 24px; height: 24px; background-color: #DBF5FF; border: 3px solid #4CC9FF; border-radius: 5px; position: absolute;\"> </div>\n",
       "            <div style=\"margin-left: 48px;\">\n",
       "            <details>\n",
       "                <summary>\n",
       "                    <h4 style=\"margin-bottom: 0px; display: inline;\">Worker: 2</h4>\n",
       "                </summary>\n",
       "                <table style=\"width: 100%; text-align: left;\">\n",
       "                    <tr>\n",
       "                        <td style=\"text-align: left;\">\n",
       "                            <strong>Comm: </strong> tcp://127.0.0.1:46198\n",
       "                        </td>\n",
       "                        <td style=\"text-align: left;\">\n",
       "                            <strong>Total threads: </strong> 8\n",
       "                        </td>\n",
       "                    </tr>\n",
       "                    <tr>\n",
       "                        <td style=\"text-align: left;\">\n",
       "                            <strong>Dashboard: </strong> <a href=\"http://127.0.0.1:43876/status\" target=\"_blank\">http://127.0.0.1:43876/status</a>\n",
       "                        </td>\n",
       "                        <td style=\"text-align: left;\">\n",
       "                            <strong>Memory: </strong> 15.62 GiB\n",
       "                        </td>\n",
       "                    </tr>\n",
       "                    <tr>\n",
       "                        <td style=\"text-align: left;\">\n",
       "                            <strong>Nanny: </strong> tcp://127.0.0.1:45686\n",
       "                        </td>\n",
       "                        <td style=\"text-align: left;\"></td>\n",
       "                    </tr>\n",
       "                    <tr>\n",
       "                        <td colspan=\"2\" style=\"text-align: left;\">\n",
       "                            <strong>Local directory: </strong> /home/sm_erhol/attribution/dask-worker-space/worker-ze_zgq69\n",
       "                        </td>\n",
       "                    </tr>\n",
       "\n",
       "                    \n",
       "\n",
       "                    \n",
       "\n",
       "                </table>\n",
       "            </details>\n",
       "            </div>\n",
       "        </div>\n",
       "        \n",
       "        <div style=\"margin-bottom: 20px;\">\n",
       "            <div style=\"width: 24px; height: 24px; background-color: #DBF5FF; border: 3px solid #4CC9FF; border-radius: 5px; position: absolute;\"> </div>\n",
       "            <div style=\"margin-left: 48px;\">\n",
       "            <details>\n",
       "                <summary>\n",
       "                    <h4 style=\"margin-bottom: 0px; display: inline;\">Worker: 3</h4>\n",
       "                </summary>\n",
       "                <table style=\"width: 100%; text-align: left;\">\n",
       "                    <tr>\n",
       "                        <td style=\"text-align: left;\">\n",
       "                            <strong>Comm: </strong> tcp://127.0.0.1:40139\n",
       "                        </td>\n",
       "                        <td style=\"text-align: left;\">\n",
       "                            <strong>Total threads: </strong> 8\n",
       "                        </td>\n",
       "                    </tr>\n",
       "                    <tr>\n",
       "                        <td style=\"text-align: left;\">\n",
       "                            <strong>Dashboard: </strong> <a href=\"http://127.0.0.1:41548/status\" target=\"_blank\">http://127.0.0.1:41548/status</a>\n",
       "                        </td>\n",
       "                        <td style=\"text-align: left;\">\n",
       "                            <strong>Memory: </strong> 15.62 GiB\n",
       "                        </td>\n",
       "                    </tr>\n",
       "                    <tr>\n",
       "                        <td style=\"text-align: left;\">\n",
       "                            <strong>Nanny: </strong> tcp://127.0.0.1:45668\n",
       "                        </td>\n",
       "                        <td style=\"text-align: left;\"></td>\n",
       "                    </tr>\n",
       "                    <tr>\n",
       "                        <td colspan=\"2\" style=\"text-align: left;\">\n",
       "                            <strong>Local directory: </strong> /home/sm_erhol/attribution/dask-worker-space/worker-xi97_q5_\n",
       "                        </td>\n",
       "                    </tr>\n",
       "\n",
       "                    \n",
       "\n",
       "                    \n",
       "\n",
       "                </table>\n",
       "            </details>\n",
       "            </div>\n",
       "        </div>\n",
       "        \n",
       "\n",
       "    </details>\n",
       "</div>\n",
       "\n",
       "        </details>\n",
       "    </div>\n",
       "</div>\n",
       "            </details>\n",
       "        \n",
       "\n",
       "    </div>\n",
       "</div>"
      ],
      "text/plain": [
       "<Client: 'tcp://127.0.0.1:45493' processes=4 threads=32, memory=62.50 GiB>"
      ]
     },
     "execution_count": 5,
     "metadata": {},
     "output_type": "execute_result"
    }
   ],
   "source": [
    "client"
   ]
  },
  {
   "cell_type": "code",
   "execution_count": 6,
   "id": "2961583d-4433-4389-a58e-c6d166ee4319",
   "metadata": {},
   "outputs": [
    {
     "data": {
      "text/plain": [
       "True"
      ]
     },
     "execution_count": 6,
     "metadata": {},
     "output_type": "execute_result"
    }
   ],
   "source": [
    "# Active memory manager\n",
    "client.amm.start()\n",
    "client.amm.running()"
   ]
  },
  {
   "cell_type": "markdown",
   "id": "32d8d116-be54-4e43-8b91-e8d3e96adad0",
   "metadata": {},
   "source": [
    "## Region shape"
   ]
  },
  {
   "cell_type": "code",
   "execution_count": 7,
   "id": "5ef7fb11-0f66-4f69-9ebd-e805875e5ef9",
   "metadata": {},
   "outputs": [],
   "source": [
    "# This file contains shapes of most countries in the world.\n",
    "# https://www.naturalearthdata.com/downloads/10m-cultural-vectors/10m-admin-0-boundary-lines/\n",
    "fname = \"/home/sm_erhol/data/ne_10_admin_0_countries/ne_10m_admin_0_countries.shp\""
   ]
  },
  {
   "cell_type": "code",
   "execution_count": 8,
   "id": "8c96c871-9d63-4d73-bbd9-9fe21164abb1",
   "metadata": {},
   "outputs": [],
   "source": [
    "gdf = gpd.read_file(fname)"
   ]
  },
  {
   "cell_type": "code",
   "execution_count": 9,
   "id": "8d6ce2c5-8935-44d7-be5f-ebd551bf2fc6",
   "metadata": {},
   "outputs": [],
   "source": [
    "# Select Sweden.\n",
    "swe_shapes = gdf[gdf.SOVEREIGNT == \"Sweden\"].geometry\n",
    "swe_mainland = swe_shapes.iloc[0].geoms[0]"
   ]
  },
  {
   "cell_type": "markdown",
   "id": "5eede760-cd60-49f9-a0e3-ce906d0533d8",
   "metadata": {},
   "source": [
    "## Load data\n",
    "- ~~Should be all members in the end.\n",
    "Only two for now.~~\n",
    "- All members now."
   ]
  },
  {
   "cell_type": "code",
   "execution_count": 10,
   "id": "48e9f196-c468-4250-a71c-bd3b49566b08",
   "metadata": {},
   "outputs": [],
   "source": [
    "# Precipitation.\n",
    "base_path = \"/nobackup/rossby21/sm_stran/Klimatfabrik/MidasOut/pr/\""
   ]
  },
  {
   "cell_type": "code",
   "execution_count": 11,
   "id": "7ca61768-a88d-4241-8ab4-97b03e9c5315",
   "metadata": {},
   "outputs": [],
   "source": [
    "files = glob.glob(base_path + \"*_rcp26_*.nc\")"
   ]
  },
  {
   "cell_type": "code",
   "execution_count": 12,
   "id": "e292bbca-6275-4479-9f28-6b174571532c",
   "metadata": {},
   "outputs": [],
   "source": [
    "# Sample files. Different GCMs.\n",
    "# files = [\n",
    "#     \"prAdjust_NORDIC-11_ICHEC-EC-EARTH_rcp26_r12i1p1_CLMcom-CCLM4-8-17_v1_day_19491201-21001231.nc\",\n",
    "#     \"prAdjust_NORDIC-11_MPI-M-MPI-ESM-LR_rcp26_r1i1p1_KNMI-RACMO22E_v1_day_19500101-21001231.nc\",\n",
    "#     \"prAdjust_NORDIC-11_NCC-NorESM1-M_rcp26_r1i1p1_SMHI-RCA4_v1_day_19700101-21001231.nc\"\n",
    "#         ]"
   ]
  },
  {
   "cell_type": "code",
   "execution_count": 13,
   "id": "30b6c6a7-9dd2-4232-82de-e683174cad74",
   "metadata": {},
   "outputs": [],
   "source": [
    "# paths = [os.path.join(base_path, file) for file in files]"
   ]
  },
  {
   "cell_type": "code",
   "execution_count": 14,
   "id": "4f7c5ce3-ff77-4c19-ace3-eb55d95dec44",
   "metadata": {},
   "outputs": [],
   "source": [
    "cubes = iris.load(files)"
   ]
  },
  {
   "cell_type": "markdown",
   "id": "2bac1fce-0ef7-48e8-892e-4bc9704aa846",
   "metadata": {},
   "source": [
    "**Notes on time constraints**\n",
    "- Time span varies between the models.\n",
    "Generally 1970 and forward is available, however, one model (MOHC-HadGEM2-ES--ICTP-RegCM4-6) start in June 1970."
   ]
  },
  {
   "cell_type": "code",
   "execution_count": 15,
   "id": "97b078fd-6cc3-482f-8982-142108d30a5c",
   "metadata": {},
   "outputs": [],
   "source": [
    "# Add a time constraint to the loading.\n",
    "time_constraint = iris.Constraint(time=lambda cell: 1971 <= cell.point.year <= 2020)"
   ]
  },
  {
   "cell_type": "code",
   "execution_count": 16,
   "id": "e9f7f945-3043-4ba1-bb3a-1b05ad7b8c81",
   "metadata": {},
   "outputs": [],
   "source": [
    "def extract_p(cube):\n",
    "    # Add a time constraint to the loading.\n",
    "    time_constraint = iris.Constraint(time=lambda cell: 1971 <= cell.point.year <= 2020,\n",
    "                                     )\n",
    "    return cube.extract(time_constraint)\n",
    "    "
   ]
  },
  {
   "cell_type": "code",
   "execution_count": 17,
   "id": "c961a5d6-98fa-412a-a734-7bdca339e579",
   "metadata": {},
   "outputs": [],
   "source": [
    "# cubes_scattered = client.scatter(cubes)\n",
    "# cubes_scattered = cubes"
   ]
  },
  {
   "cell_type": "code",
   "execution_count": 17,
   "id": "6c8302dc-0511-42c8-903c-6bbf7b57434f",
   "metadata": {},
   "outputs": [],
   "source": [
    "# Can we do extract in parallell?\n",
    "# This seems to run on workers, so more workers are faster.\n",
    "# So we use the pool.\n",
    "with Pool() as p:\n",
    "    cubes = p.map(extract_p, cubes)"
   ]
  },
  {
   "cell_type": "code",
   "execution_count": 18,
   "id": "027ef7e6-8712-45f3-979a-4b8193d491d5",
   "metadata": {},
   "outputs": [],
   "source": [
    "#cubes = client.gather(cubes)"
   ]
  },
  {
   "cell_type": "code",
   "execution_count": 19,
   "id": "175a1775-0efe-495c-9ce9-1d244cfbb928",
   "metadata": {},
   "outputs": [],
   "source": [
    "cubes = iris.cube.CubeList(cubes)"
   ]
  },
  {
   "cell_type": "markdown",
   "id": "782c3772-4b48-4544-8b21-2f04e79a1d7b",
   "metadata": {
    "tags": []
   },
   "source": [
    "### We have to add a new dimension, since we want to concatenate.\n",
    "Merge cubes works on scalar coordinates.\n",
    "Since all our scalars are the same this wont work.\n",
    "Approach is instead to create a new coordinate in each cube with a model identifier and concatenate along that axis."
   ]
  },
  {
   "cell_type": "code",
   "execution_count": 20,
   "id": "1ea3a593-b583-419b-b12e-fb1d499d7694",
   "metadata": {},
   "outputs": [
    {
     "data": {
      "text/plain": [
       "<module 'iris_utils.utils' from '/home/sm_erhol/dev/iris_utils/iris_utils/utils.py'>"
      ]
     },
     "execution_count": 20,
     "metadata": {},
     "output_type": "execute_result"
    }
   ],
   "source": [
    "reload(utils)"
   ]
  },
  {
   "cell_type": "code",
   "execution_count": 21,
   "id": "8a59de5b-48a3-43de-a42d-70dde0128ff7",
   "metadata": {},
   "outputs": [
    {
     "name": "stdout",
     "output_type": "stream",
     "text": [
      "Cube 18 missing a key, skipping key.\n"
     ]
    }
   ],
   "source": [
    "utils.attribute_to_aux(cubes)"
   ]
  },
  {
   "cell_type": "code",
   "execution_count": 22,
   "id": "2abd1bdf-a2f0-4a4a-b753-fd1486901ee3",
   "metadata": {},
   "outputs": [],
   "source": [
    "removed_attrs = iris.util.equalise_attributes(cubes)"
   ]
  },
  {
   "cell_type": "code",
   "execution_count": 23,
   "id": "e6c1ef42-2372-4a6f-99d2-48983f5ffd18",
   "metadata": {},
   "outputs": [
    {
     "name": "stdout",
     "output_type": "stream",
     "text": [
      "Converting coordinates.\n",
      "Converting coordinates.\n",
      "Converting coordinates.\n",
      "Converting coordinates.\n",
      "Converting coordinates.\n",
      "Converting calendar.\n",
      "Converting coordinates.\n",
      "Converting coordinates.\n",
      "Converting calendar.\n",
      "Converting coordinates.\n",
      "Converting calendar.\n",
      "Converting coordinates.\n",
      "Converting calendar.\n",
      "Converting calendar.\n",
      "Converting coordinates.\n",
      "Converting calendar.\n",
      "Converting coordinates.\n",
      "Converting calendar.\n",
      "Converting coordinates.\n",
      "Converting calendar.\n",
      "Converting calendar.\n",
      "Converting coordinates.\n",
      "Converting coordinates.\n",
      "Converting coordinates.\n",
      "Converting calendar.\n",
      "Converting coordinates.\n",
      "Converting calendar.\n",
      "Converting coordinates.\n",
      "Converting calendar.\n",
      "Converting coordinates.\n"
     ]
    },
    {
     "name": "stderr",
     "output_type": "stream",
     "text": [
      "/home/sm_erhol/.conda/envs/erhol/lib/python3.9/site-packages/iris/_lazy_data.py:277: PerformanceWarning: Increasing number of chunks by factor of 10\n",
      "  result = da.stack(list(stack))\n"
     ]
    }
   ],
   "source": [
    "ref_cube = utils.merge_aeq_cubes(cubes)"
   ]
  },
  {
   "cell_type": "code",
   "execution_count": 24,
   "id": "4956e65c-3ede-4fad-a824-9574f0c05742",
   "metadata": {},
   "outputs": [
    {
     "data": {
      "text/html": [
       "<table>\n",
       "    <tr>\n",
       "        <td>\n",
       "            <table>\n",
       "                <thead>\n",
       "                    <tr>\n",
       "                        <td> </td>\n",
       "                        <th> Array </th>\n",
       "                        <th> Chunk </th>\n",
       "                    </tr>\n",
       "                </thead>\n",
       "                <tbody>\n",
       "                    \n",
       "                    <tr>\n",
       "                        <th> Bytes </th>\n",
       "                        <td> 35.70 GiB </td>\n",
       "                        <td> 73.57 MiB </td>\n",
       "                    </tr>\n",
       "                    \n",
       "                    <tr>\n",
       "                        <th> Shape </th>\n",
       "                        <td> (29, 18263, 163, 111) </td>\n",
       "                        <td> (1, 1066, 163, 111) </td>\n",
       "                    </tr>\n",
       "                    <tr>\n",
       "                        <th> Count </th>\n",
       "                        <td> 11835 Tasks </td>\n",
       "                        <td> 3538 Chunks </td>\n",
       "                    </tr>\n",
       "                    <tr>\n",
       "                    <th> Type </th>\n",
       "                    <td> float32 </td>\n",
       "                    <td> numpy.ndarray </td>\n",
       "                    </tr>\n",
       "                </tbody>\n",
       "            </table>\n",
       "        </td>\n",
       "        <td>\n",
       "        <svg width=\"336\" height=\"146\" style=\"stroke:rgb(0,0,0);stroke-width:1\" >\n",
       "\n",
       "  <!-- Horizontal lines -->\n",
       "  <line x1=\"0\" y1=\"0\" x2=\"25\" y2=\"0\" style=\"stroke-width:2\" />\n",
       "  <line x1=\"0\" y1=\"25\" x2=\"25\" y2=\"25\" style=\"stroke-width:2\" />\n",
       "\n",
       "  <!-- Vertical lines -->\n",
       "  <line x1=\"0\" y1=\"0\" x2=\"0\" y2=\"25\" style=\"stroke-width:2\" />\n",
       "  <line x1=\"0\" y1=\"0\" x2=\"0\" y2=\"25\" />\n",
       "  <line x1=\"1\" y1=\"0\" x2=\"1\" y2=\"25\" />\n",
       "  <line x1=\"2\" y1=\"0\" x2=\"2\" y2=\"25\" />\n",
       "  <line x1=\"3\" y1=\"0\" x2=\"3\" y2=\"25\" />\n",
       "  <line x1=\"4\" y1=\"0\" x2=\"4\" y2=\"25\" />\n",
       "  <line x1=\"5\" y1=\"0\" x2=\"5\" y2=\"25\" />\n",
       "  <line x1=\"6\" y1=\"0\" x2=\"6\" y2=\"25\" />\n",
       "  <line x1=\"7\" y1=\"0\" x2=\"7\" y2=\"25\" />\n",
       "  <line x1=\"7\" y1=\"0\" x2=\"7\" y2=\"25\" />\n",
       "  <line x1=\"8\" y1=\"0\" x2=\"8\" y2=\"25\" />\n",
       "  <line x1=\"9\" y1=\"0\" x2=\"9\" y2=\"25\" />\n",
       "  <line x1=\"10\" y1=\"0\" x2=\"10\" y2=\"25\" />\n",
       "  <line x1=\"11\" y1=\"0\" x2=\"11\" y2=\"25\" />\n",
       "  <line x1=\"12\" y1=\"0\" x2=\"12\" y2=\"25\" />\n",
       "  <line x1=\"13\" y1=\"0\" x2=\"13\" y2=\"25\" />\n",
       "  <line x1=\"14\" y1=\"0\" x2=\"14\" y2=\"25\" />\n",
       "  <line x1=\"14\" y1=\"0\" x2=\"14\" y2=\"25\" />\n",
       "  <line x1=\"15\" y1=\"0\" x2=\"15\" y2=\"25\" />\n",
       "  <line x1=\"16\" y1=\"0\" x2=\"16\" y2=\"25\" />\n",
       "  <line x1=\"17\" y1=\"0\" x2=\"17\" y2=\"25\" />\n",
       "  <line x1=\"18\" y1=\"0\" x2=\"18\" y2=\"25\" />\n",
       "  <line x1=\"19\" y1=\"0\" x2=\"19\" y2=\"25\" />\n",
       "  <line x1=\"20\" y1=\"0\" x2=\"20\" y2=\"25\" />\n",
       "  <line x1=\"21\" y1=\"0\" x2=\"21\" y2=\"25\" />\n",
       "  <line x1=\"21\" y1=\"0\" x2=\"21\" y2=\"25\" />\n",
       "  <line x1=\"22\" y1=\"0\" x2=\"22\" y2=\"25\" />\n",
       "  <line x1=\"23\" y1=\"0\" x2=\"23\" y2=\"25\" />\n",
       "  <line x1=\"24\" y1=\"0\" x2=\"24\" y2=\"25\" />\n",
       "  <line x1=\"25\" y1=\"0\" x2=\"25\" y2=\"25\" style=\"stroke-width:2\" />\n",
       "\n",
       "  <!-- Colored Rectangle -->\n",
       "  <polygon points=\"0.0,0.0 25.412616514582485,0.0 25.412616514582485,25.412616514582485 0.0,25.412616514582485\" style=\"fill:#ECB172A0;stroke-width:0\"/>\n",
       "\n",
       "  <!-- Text -->\n",
       "  <text x=\"12.706308\" y=\"45.412617\" font-size=\"1.0rem\" font-weight=\"100\" text-anchor=\"middle\" >29</text>\n",
       "  <text x=\"45.412617\" y=\"12.706308\" font-size=\"1.0rem\" font-weight=\"100\" text-anchor=\"middle\" transform=\"rotate(0,45.412617,12.706308)\">1</text>\n",
       "\n",
       "\n",
       "  <!-- Horizontal lines -->\n",
       "  <line x1=\"95\" y1=\"0\" x2=\"165\" y2=\"70\" style=\"stroke-width:2\" />\n",
       "  <line x1=\"95\" y1=\"25\" x2=\"165\" y2=\"96\" style=\"stroke-width:2\" />\n",
       "\n",
       "  <!-- Vertical lines -->\n",
       "  <line x1=\"95\" y1=\"0\" x2=\"95\" y2=\"25\" style=\"stroke-width:2\" />\n",
       "  <line x1=\"97\" y1=\"2\" x2=\"97\" y2=\"27\" />\n",
       "  <line x1=\"100\" y1=\"5\" x2=\"100\" y2=\"31\" />\n",
       "  <line x1=\"101\" y1=\"6\" x2=\"101\" y2=\"32\" />\n",
       "  <line x1=\"104\" y1=\"9\" x2=\"104\" y2=\"34\" />\n",
       "  <line x1=\"107\" y1=\"12\" x2=\"107\" y2=\"38\" />\n",
       "  <line x1=\"108\" y1=\"13\" x2=\"108\" y2=\"38\" />\n",
       "  <line x1=\"110\" y1=\"15\" x2=\"110\" y2=\"40\" />\n",
       "  <line x1=\"114\" y1=\"19\" x2=\"114\" y2=\"45\" />\n",
       "  <line x1=\"115\" y1=\"20\" x2=\"115\" y2=\"45\" />\n",
       "  <line x1=\"117\" y1=\"22\" x2=\"117\" y2=\"47\" />\n",
       "  <line x1=\"121\" y1=\"26\" x2=\"121\" y2=\"52\" />\n",
       "  <line x1=\"122\" y1=\"27\" x2=\"122\" y2=\"52\" />\n",
       "  <line x1=\"123\" y1=\"28\" x2=\"123\" y2=\"54\" />\n",
       "  <line x1=\"128\" y1=\"33\" x2=\"128\" y2=\"59\" />\n",
       "  <line x1=\"129\" y1=\"34\" x2=\"129\" y2=\"59\" />\n",
       "  <line x1=\"130\" y1=\"35\" x2=\"130\" y2=\"61\" />\n",
       "  <line x1=\"135\" y1=\"40\" x2=\"135\" y2=\"66\" />\n",
       "  <line x1=\"136\" y1=\"41\" x2=\"136\" y2=\"66\" />\n",
       "  <line x1=\"137\" y1=\"42\" x2=\"137\" y2=\"67\" />\n",
       "  <line x1=\"142\" y1=\"47\" x2=\"142\" y2=\"73\" />\n",
       "  <line x1=\"143\" y1=\"48\" x2=\"143\" y2=\"73\" />\n",
       "  <line x1=\"143\" y1=\"48\" x2=\"143\" y2=\"74\" />\n",
       "  <line x1=\"146\" y1=\"51\" x2=\"146\" y2=\"76\" />\n",
       "  <line x1=\"150\" y1=\"55\" x2=\"150\" y2=\"80\" />\n",
       "  <line x1=\"150\" y1=\"55\" x2=\"150\" y2=\"81\" />\n",
       "  <line x1=\"153\" y1=\"58\" x2=\"153\" y2=\"83\" />\n",
       "  <line x1=\"157\" y1=\"62\" x2=\"157\" y2=\"87\" />\n",
       "  <line x1=\"157\" y1=\"62\" x2=\"157\" y2=\"88\" />\n",
       "  <line x1=\"159\" y1=\"64\" x2=\"159\" y2=\"89\" />\n",
       "  <line x1=\"164\" y1=\"69\" x2=\"164\" y2=\"94\" />\n",
       "  <line x1=\"164\" y1=\"69\" x2=\"164\" y2=\"95\" />\n",
       "  <line x1=\"165\" y1=\"70\" x2=\"165\" y2=\"96\" style=\"stroke-width:2\" />\n",
       "\n",
       "  <!-- Colored Rectangle -->\n",
       "  <polygon points=\"95.0,0.0 165.58823529411765,70.58823529411765 165.58823529411765,96.00085180870013 95.0,25.412616514582485\" style=\"fill:#8B4903A0;stroke-width:0\"/>\n",
       "\n",
       "  <!-- Horizontal lines -->\n",
       "  <line x1=\"95\" y1=\"0\" x2=\"120\" y2=\"0\" style=\"stroke-width:2\" />\n",
       "  <line x1=\"97\" y1=\"2\" x2=\"122\" y2=\"2\" />\n",
       "  <line x1=\"100\" y1=\"5\" x2=\"126\" y2=\"5\" />\n",
       "  <line x1=\"101\" y1=\"6\" x2=\"127\" y2=\"6\" />\n",
       "  <line x1=\"104\" y1=\"9\" x2=\"129\" y2=\"9\" />\n",
       "  <line x1=\"107\" y1=\"12\" x2=\"133\" y2=\"12\" />\n",
       "  <line x1=\"108\" y1=\"13\" x2=\"133\" y2=\"13\" />\n",
       "  <line x1=\"110\" y1=\"15\" x2=\"135\" y2=\"15\" />\n",
       "  <line x1=\"114\" y1=\"19\" x2=\"140\" y2=\"19\" />\n",
       "  <line x1=\"115\" y1=\"20\" x2=\"140\" y2=\"20\" />\n",
       "  <line x1=\"117\" y1=\"22\" x2=\"142\" y2=\"22\" />\n",
       "  <line x1=\"121\" y1=\"26\" x2=\"147\" y2=\"26\" />\n",
       "  <line x1=\"122\" y1=\"27\" x2=\"147\" y2=\"27\" />\n",
       "  <line x1=\"123\" y1=\"28\" x2=\"149\" y2=\"28\" />\n",
       "  <line x1=\"128\" y1=\"33\" x2=\"154\" y2=\"33\" />\n",
       "  <line x1=\"129\" y1=\"34\" x2=\"154\" y2=\"34\" />\n",
       "  <line x1=\"130\" y1=\"35\" x2=\"156\" y2=\"35\" />\n",
       "  <line x1=\"135\" y1=\"40\" x2=\"161\" y2=\"40\" />\n",
       "  <line x1=\"136\" y1=\"41\" x2=\"161\" y2=\"41\" />\n",
       "  <line x1=\"137\" y1=\"42\" x2=\"162\" y2=\"42\" />\n",
       "  <line x1=\"142\" y1=\"47\" x2=\"168\" y2=\"47\" />\n",
       "  <line x1=\"143\" y1=\"48\" x2=\"168\" y2=\"48\" />\n",
       "  <line x1=\"143\" y1=\"48\" x2=\"169\" y2=\"48\" />\n",
       "  <line x1=\"146\" y1=\"51\" x2=\"171\" y2=\"51\" />\n",
       "  <line x1=\"150\" y1=\"55\" x2=\"175\" y2=\"55\" />\n",
       "  <line x1=\"150\" y1=\"55\" x2=\"176\" y2=\"55\" />\n",
       "  <line x1=\"153\" y1=\"58\" x2=\"178\" y2=\"58\" />\n",
       "  <line x1=\"157\" y1=\"62\" x2=\"182\" y2=\"62\" />\n",
       "  <line x1=\"157\" y1=\"62\" x2=\"183\" y2=\"62\" />\n",
       "  <line x1=\"159\" y1=\"64\" x2=\"184\" y2=\"64\" />\n",
       "  <line x1=\"164\" y1=\"69\" x2=\"189\" y2=\"69\" />\n",
       "  <line x1=\"164\" y1=\"69\" x2=\"190\" y2=\"69\" />\n",
       "  <line x1=\"165\" y1=\"70\" x2=\"191\" y2=\"70\" style=\"stroke-width:2\" />\n",
       "\n",
       "  <!-- Vertical lines -->\n",
       "  <line x1=\"95\" y1=\"0\" x2=\"165\" y2=\"70\" style=\"stroke-width:2\" />\n",
       "  <line x1=\"120\" y1=\"0\" x2=\"191\" y2=\"70\" style=\"stroke-width:2\" />\n",
       "\n",
       "  <!-- Colored Rectangle -->\n",
       "  <polygon points=\"95.0,0.0 120.41261651458248,0.0 191.00085180870013,70.58823529411765 165.58823529411765,70.58823529411765\" style=\"fill:#8B4903A0;stroke-width:0\"/>\n",
       "\n",
       "  <!-- Horizontal lines -->\n",
       "  <line x1=\"165\" y1=\"70\" x2=\"191\" y2=\"70\" style=\"stroke-width:2\" />\n",
       "  <line x1=\"165\" y1=\"96\" x2=\"191\" y2=\"96\" style=\"stroke-width:2\" />\n",
       "\n",
       "  <!-- Vertical lines -->\n",
       "  <line x1=\"165\" y1=\"70\" x2=\"165\" y2=\"96\" style=\"stroke-width:2\" />\n",
       "  <line x1=\"191\" y1=\"70\" x2=\"191\" y2=\"96\" style=\"stroke-width:2\" />\n",
       "\n",
       "  <!-- Colored Rectangle -->\n",
       "  <polygon points=\"165.58823529411765,70.58823529411765 191.00085180870013,70.58823529411765 191.00085180870013,96.00085180870013 165.58823529411765,96.00085180870013\" style=\"fill:#ECB172A0;stroke-width:0\"/>\n",
       "\n",
       "  <!-- Text -->\n",
       "  <text x=\"178.294544\" y=\"116.000852\" font-size=\"1.0rem\" font-weight=\"100\" text-anchor=\"middle\" >111</text>\n",
       "  <text x=\"211.000852\" y=\"83.294544\" font-size=\"1.0rem\" font-weight=\"100\" text-anchor=\"middle\" transform=\"rotate(-90,211.000852,83.294544)\">163</text>\n",
       "  <text x=\"120.294118\" y=\"80.706734\" font-size=\"1.0rem\" font-weight=\"100\" text-anchor=\"middle\" transform=\"rotate(45,120.294118,80.706734)\">18263</text>\n",
       "</svg>\n",
       "        </td>\n",
       "    </tr>\n",
       "</table>"
      ],
      "text/plain": [
       "dask.array<stack, shape=(29, 18263, 163, 111), dtype=float32, chunksize=(1, 1066, 163, 111), chunktype=numpy.ndarray>"
      ]
     },
     "execution_count": 24,
     "metadata": {},
     "output_type": "execute_result"
    }
   ],
   "source": [
    "ref_cube.core_data()"
   ]
  },
  {
   "cell_type": "markdown",
   "id": "46c6c961-a5bc-4faa-bec1-663e0391bac9",
   "metadata": {},
   "source": [
    "Lets do another extraction of latitudes"
   ]
  },
  {
   "cell_type": "code",
   "execution_count": 37,
   "id": "39df8a9e-4a75-4ce4-9b61-14a509e6e536",
   "metadata": {},
   "outputs": [],
   "source": [
    "lat_constraint = iris.Constraint(grid_latitude=lambda lat: 5 <= lat <= 10,\n",
    "                                 grid_longitude=lambda lon: -6.375 <= lon <= 1)\n",
    "with Pool() as p:\n",
    "    ref_cube = ref_cube.extract(lat_constraint)"
   ]
  },
  {
   "cell_type": "markdown",
   "id": "983311bc-77d5-4edb-8816-7c5eb2b6add3",
   "metadata": {
    "tags": []
   },
   "source": [
    "## Box plot CORDEX\n",
    "What stats do we need for a box plot?\n",
    "- Min\n",
    "- 25th percentile\n",
    "- Median\n",
    "- 75th percentile\n",
    "- Max\n",
    "\n",
    "We should be able do all this in dask?"
   ]
  },
  {
   "cell_type": "code",
   "execution_count": 38,
   "id": "054c7537-3517-4d59-b039-67665c988162",
   "metadata": {},
   "outputs": [
    {
     "data": {
      "text/plain": [
       "<cartopy.mpl.feature_artist.FeatureArtist at 0x2b332eea3160>"
      ]
     },
     "execution_count": 38,
     "metadata": {},
     "output_type": "execute_result"
    },
    {
     "data": {
      "image/png": "[encoded data removed]",
      "text/plain": [
       "<Figure size 432x288 with 2 Axes>"
      ]
     },
     "metadata": {
      "needs_background": "light"
     },
     "output_type": "display_data"
    }
   ],
   "source": [
    "fig, ax = plt.subplots(subplot_kw={\"projection\": projection})\n",
    "qplt.contourf(ref_cube[1, 1, :, :])\n",
    "ax.coastlines()"
   ]
  },
  {
   "cell_type": "code",
   "execution_count": 102,
   "id": "0d6f9ed7-6d34-4b8c-a49f-803b5877dcff",
   "metadata": {},
   "outputs": [
    {
     "data": {
      "text/html": [
       "\n",
       "<style>\n",
       "  a.iris {\n",
       "      text-decoration: none !important;\n",
       "  }\n",
       "  table.iris {\n",
       "      white-space: pre;\n",
       "      border: 1px solid;\n",
       "      border-color: #9c9c9c;\n",
       "      font-family: monaco, monospace;\n",
       "  }\n",
       "  th.iris {\n",
       "      background: #303f3f;\n",
       "      color: #e0e0e0;\n",
       "      border-left: 1px solid;\n",
       "      border-color: #9c9c9c;\n",
       "      font-size: 1.05em;\n",
       "      min-width: 50px;\n",
       "      max-width: 125px;\n",
       "  }\n",
       "  tr.iris :first-child {\n",
       "      border-right: 1px solid #9c9c9c !important;\n",
       "  }\n",
       "  td.iris-title {\n",
       "      background: #d5dcdf;\n",
       "      border-top: 1px solid #9c9c9c;\n",
       "      font-weight: bold;\n",
       "  }\n",
       "  .iris-word-cell {\n",
       "      text-align: left !important;\n",
       "      white-space: pre;\n",
       "  }\n",
       "  .iris-subheading-cell {\n",
       "      padding-left: 2em !important;\n",
       "  }\n",
       "  .iris-inclusion-cell {\n",
       "      padding-right: 1em !important;\n",
       "  }\n",
       "  .iris-panel-body {\n",
       "      padding-top: 0px;\n",
       "  }\n",
       "  .iris-panel-title {\n",
       "      padding-left: 3em;\n",
       "  }\n",
       "  .iris-panel-title {\n",
       "      margin-top: 7px;\n",
       "  }\n",
       "</style>\n",
       "<table class=\"iris\" id=\"47503115375424\">\n",
       "    <tr class=\"iris\">\n",
       "<th class=\"iris iris-word-cell\">Precipitation Flux (kg m-2 s-1)</th>\n",
       "<th class=\"iris iris-word-cell\">--</th>\n",
       "<th class=\"iris iris-word-cell\">time</th>\n",
       "<th class=\"iris iris-word-cell\">grid_latitude</th>\n",
       "<th class=\"iris iris-word-cell\">grid_longitude</th>\n",
       "</tr>\n",
       "    <tr class=\"iris\">\n",
       "<td class=\"iris-word-cell iris-subheading-cell\">Shape</td>\n",
       "<td class=\"iris iris-inclusion-cell\">29</td>\n",
       "<td class=\"iris iris-inclusion-cell\">18263</td>\n",
       "<td class=\"iris iris-inclusion-cell\">46</td>\n",
       "<td class=\"iris iris-inclusion-cell\">68</td>\n",
       "</tr>\n",
       "    <tr class=\"iris\">\n",
       "    <td class=\"iris-title iris-word-cell\">Dimension coordinates</td>\n",
       "    <td class=\"iris-title\"></td>\n",
       "    <td class=\"iris-title\"></td>\n",
       "    <td class=\"iris-title\"></td>\n",
       "    <td class=\"iris-title\"></td>\n",
       "</tr>\n",
       "<tr class=\"iris\">\n",
       "    <td class=\"iris-word-cell iris-subheading-cell\">\ttime</td>\n",
       "    <td class=\"iris-inclusion-cell\">-</td>\n",
       "    <td class=\"iris-inclusion-cell\">x</td>\n",
       "    <td class=\"iris-inclusion-cell\">-</td>\n",
       "    <td class=\"iris-inclusion-cell\">-</td>\n",
       "</tr>\n",
       "<tr class=\"iris\">\n",
       "    <td class=\"iris-word-cell iris-subheading-cell\">\tgrid_latitude</td>\n",
       "    <td class=\"iris-inclusion-cell\">-</td>\n",
       "    <td class=\"iris-inclusion-cell\">-</td>\n",
       "    <td class=\"iris-inclusion-cell\">x</td>\n",
       "    <td class=\"iris-inclusion-cell\">-</td>\n",
       "</tr>\n",
       "<tr class=\"iris\">\n",
       "    <td class=\"iris-word-cell iris-subheading-cell\">\tgrid_longitude</td>\n",
       "    <td class=\"iris-inclusion-cell\">-</td>\n",
       "    <td class=\"iris-inclusion-cell\">-</td>\n",
       "    <td class=\"iris-inclusion-cell\">-</td>\n",
       "    <td class=\"iris-inclusion-cell\">x</td>\n",
       "</tr>\n",
       "<tr class=\"iris\">\n",
       "    <td class=\"iris-title iris-word-cell\">Auxiliary coordinates</td>\n",
       "    <td class=\"iris-title\"></td>\n",
       "    <td class=\"iris-title\"></td>\n",
       "    <td class=\"iris-title\"></td>\n",
       "    <td class=\"iris-title\"></td>\n",
       "</tr>\n",
       "<tr class=\"iris\">\n",
       "    <td class=\"iris-word-cell iris-subheading-cell\">\tmodel_conf</td>\n",
       "    <td class=\"iris-inclusion-cell\">x</td>\n",
       "    <td class=\"iris-inclusion-cell\">-</td>\n",
       "    <td class=\"iris-inclusion-cell\">-</td>\n",
       "    <td class=\"iris-inclusion-cell\">-</td>\n",
       "</tr>\n",
       "<tr class=\"iris\">\n",
       "    <td class=\"iris-word-cell iris-subheading-cell\">\tlatitude</td>\n",
       "    <td class=\"iris-inclusion-cell\">-</td>\n",
       "    <td class=\"iris-inclusion-cell\">-</td>\n",
       "    <td class=\"iris-inclusion-cell\">x</td>\n",
       "    <td class=\"iris-inclusion-cell\">x</td>\n",
       "</tr>\n",
       "<tr class=\"iris\">\n",
       "    <td class=\"iris-word-cell iris-subheading-cell\">\tlongitude</td>\n",
       "    <td class=\"iris-inclusion-cell\">-</td>\n",
       "    <td class=\"iris-inclusion-cell\">-</td>\n",
       "    <td class=\"iris-inclusion-cell\">x</td>\n",
       "    <td class=\"iris-inclusion-cell\">x</td>\n",
       "</tr>\n",
       "<tr class=\"iris\">\n",
       "    <td class=\"iris-title iris-word-cell\">Cell methods</td>\n",
       "    <td class=\"iris-title\"></td>\n",
       "    <td class=\"iris-title\"></td>\n",
       "    <td class=\"iris-title\"></td>\n",
       "    <td class=\"iris-title\"></td>\n",
       "</tr>\n",
       "<tr class=\"iris\">\n",
       "    <td class=\"iris-word-cell iris-subheading-cell\">\tmean                        time</td>\n",
       "    <td class=\"iris-word-cell\" colspan=\"4\"></td>\n",
       "</tr>\n",
       "<tr class=\"iris\">\n",
       "    <td class=\"iris-title iris-word-cell\">Attributes</td>\n",
       "    <td class=\"iris-title\"></td>\n",
       "    <td class=\"iris-title\"></td>\n",
       "    <td class=\"iris-title\"></td>\n",
       "    <td class=\"iris-title\"><br>CORDEX_domain               &#x27;EUR-11&#x27;<br>Conventions                 &#x27;CF-1.7&#x27;<br>frequency                   &#x27;day&#x27;<br>product                     &#x27;output&#x27;<br>project_id                  &#x27;CORDEX&#x27;</td>\n",
       "</tr>\n",
       "</table>\n",
       "        "
      ],
      "text/plain": [
       "<iris 'Cube' of precipitation_flux / (kg m-2 s-1) (-- : 29; time: 18263; grid_latitude: 46; grid_longitude: 68)>"
      ]
     },
     "execution_count": 102,
     "metadata": {},
     "output_type": "execute_result"
    }
   ],
   "source": [
    "ref_cube"
   ]
  },
  {
   "cell_type": "code",
   "execution_count": 100,
   "id": "745e6e3a-6af1-4688-a4aa-ea0257004081",
   "metadata": {},
   "outputs": [],
   "source": [
    "data = ref_cube.core_data()"
   ]
  },
  {
   "cell_type": "code",
   "execution_count": 98,
   "id": "147ad646-d875-4c3b-b7c9-fa6ba3dc822a",
   "metadata": {},
   "outputs": [],
   "source": [
    "data = data.reshape((29, -1)).rechunk(\"auto\")"
   ]
  },
  {
   "cell_type": "code",
   "execution_count": 99,
   "id": "35476334-948d-496c-b7b9-2b23f7445ced",
   "metadata": {},
   "outputs": [
    {
     "data": {
      "text/html": [
       "<table>\n",
       "    <tr>\n",
       "        <td>\n",
       "            <table>\n",
       "                <thead>\n",
       "                    <tr>\n",
       "                        <td> </td>\n",
       "                        <th> Array </th>\n",
       "                        <th> Chunk </th>\n",
       "                    </tr>\n",
       "                </thead>\n",
       "                <tbody>\n",
       "                    \n",
       "                    <tr>\n",
       "                        <th> Bytes </th>\n",
       "                        <td> 6.17 GiB </td>\n",
       "                        <td> 113.70 MiB </td>\n",
       "                    </tr>\n",
       "                    \n",
       "                    <tr>\n",
       "                        <th> Shape </th>\n",
       "                        <td> (29, 57126664) </td>\n",
       "                        <td> (12, 2483768) </td>\n",
       "                    </tr>\n",
       "                    <tr>\n",
       "                        <th> Count </th>\n",
       "                        <td> 20198 Tasks </td>\n",
       "                        <td> 69 Chunks </td>\n",
       "                    </tr>\n",
       "                    <tr>\n",
       "                    <th> Type </th>\n",
       "                    <td> float32 </td>\n",
       "                    <td> numpy.ndarray </td>\n",
       "                    </tr>\n",
       "                </tbody>\n",
       "            </table>\n",
       "        </td>\n",
       "        <td>\n",
       "        <svg width=\"170\" height=\"75\" style=\"stroke:rgb(0,0,0);stroke-width:1\" >\n",
       "\n",
       "  <!-- Horizontal lines -->\n",
       "  <line x1=\"0\" y1=\"0\" x2=\"120\" y2=\"0\" style=\"stroke-width:2\" />\n",
       "  <line x1=\"0\" y1=\"10\" x2=\"120\" y2=\"10\" />\n",
       "  <line x1=\"0\" y1=\"21\" x2=\"120\" y2=\"21\" />\n",
       "  <line x1=\"0\" y1=\"25\" x2=\"120\" y2=\"25\" style=\"stroke-width:2\" />\n",
       "\n",
       "  <!-- Vertical lines -->\n",
       "  <line x1=\"0\" y1=\"0\" x2=\"0\" y2=\"25\" style=\"stroke-width:2\" />\n",
       "  <line x1=\"5\" y1=\"0\" x2=\"5\" y2=\"25\" />\n",
       "  <line x1=\"10\" y1=\"0\" x2=\"10\" y2=\"25\" />\n",
       "  <line x1=\"15\" y1=\"0\" x2=\"15\" y2=\"25\" />\n",
       "  <line x1=\"20\" y1=\"0\" x2=\"20\" y2=\"25\" />\n",
       "  <line x1=\"31\" y1=\"0\" x2=\"31\" y2=\"25\" />\n",
       "  <line x1=\"36\" y1=\"0\" x2=\"36\" y2=\"25\" />\n",
       "  <line x1=\"41\" y1=\"0\" x2=\"41\" y2=\"25\" />\n",
       "  <line x1=\"46\" y1=\"0\" x2=\"46\" y2=\"25\" />\n",
       "  <line x1=\"52\" y1=\"0\" x2=\"52\" y2=\"25\" />\n",
       "  <line x1=\"62\" y1=\"0\" x2=\"62\" y2=\"25\" />\n",
       "  <line x1=\"67\" y1=\"0\" x2=\"67\" y2=\"25\" />\n",
       "  <line x1=\"73\" y1=\"0\" x2=\"73\" y2=\"25\" />\n",
       "  <line x1=\"78\" y1=\"0\" x2=\"78\" y2=\"25\" />\n",
       "  <line x1=\"83\" y1=\"0\" x2=\"83\" y2=\"25\" />\n",
       "  <line x1=\"93\" y1=\"0\" x2=\"93\" y2=\"25\" />\n",
       "  <line x1=\"99\" y1=\"0\" x2=\"99\" y2=\"25\" />\n",
       "  <line x1=\"104\" y1=\"0\" x2=\"104\" y2=\"25\" />\n",
       "  <line x1=\"109\" y1=\"0\" x2=\"109\" y2=\"25\" />\n",
       "  <line x1=\"120\" y1=\"0\" x2=\"120\" y2=\"25\" style=\"stroke-width:2\" />\n",
       "\n",
       "  <!-- Colored Rectangle -->\n",
       "  <polygon points=\"0.0,0.0 120.0,0.0 120.0,25.412616514582485 0.0,25.412616514582485\" style=\"fill:#8B4903A0;stroke-width:0\"/>\n",
       "\n",
       "  <!-- Text -->\n",
       "  <text x=\"60.000000\" y=\"45.412617\" font-size=\"1.0rem\" font-weight=\"100\" text-anchor=\"middle\" >57126664</text>\n",
       "  <text x=\"140.000000\" y=\"12.706308\" font-size=\"1.0rem\" font-weight=\"100\" text-anchor=\"middle\" transform=\"rotate(0,140.000000,12.706308)\">29</text>\n",
       "</svg>\n",
       "        </td>\n",
       "    </tr>\n",
       "</table>"
      ],
      "text/plain": [
       "dask.array<rechunk-merge, shape=(29, 57126664), dtype=float32, chunksize=(12, 2483768), chunktype=numpy.ndarray>"
      ]
     },
     "execution_count": 99,
     "metadata": {},
     "output_type": "execute_result"
    }
   ],
   "source": [
    "data"
   ]
  },
  {
   "cell_type": "code",
   "execution_count": 38,
   "id": "f51c827a-d8b1-4d99-88ab-58ea9c87bf9a",
   "metadata": {},
   "outputs": [],
   "source": [
    "# This allows us to compute stuff for the pdf without keeping the whole data in memory.\n",
    "# median = da.median(data, axis=1)\n",
    "# minimum = da.min(data, axis=0).compute()\n",
    "# maximum = da.max(data, axis=0).compute()\n",
    "# q25 = da.percentile(data, 25).compute()[0]\n",
    "# q75 = da.percentile(data, 75).compute()[0]"
   ]
  },
  {
   "cell_type": "code",
   "execution_count": 136,
   "id": "5cb437e9-296d-482a-a244-27043a076fa8",
   "metadata": {},
   "outputs": [],
   "source": [
    "def q25_fun(a, axis):\n",
    "    return np.percentile(a, 25, axis)\n",
    "def q75_fun(a, axis):\n",
    "    return np.percentile(a, 75, axis)\n",
    "def qtiles(a, axis):\n",
    "    # Which quantiles to compute on the arrays.\n",
    "    return np.quantile(a, [0.25, 0.5, 0.75, 0.95], axis)"
   ]
  },
  {
   "cell_type": "code",
   "execution_count": 82,
   "id": "eb836b78-d412-4db8-9f78-21d0cd00b260",
   "metadata": {},
   "outputs": [],
   "source": [
    "# Do one compute call.\n",
    "# This way we don't have to do the rechunk once.\n",
    "# median, maxi, mini = da.compute(\n",
    "#     da.median(data, axis=1),\n",
    "#     data.max(axis=1, split_every=2),\n",
    "#     data.min(axis=1, split_every=2),\n",
    "#     # da.apply_over_axes(q25_fun, data, 1),\n",
    "#     # da.apply_over_axes(q75_fun, data, 1),\n",
    "# )"
   ]
  },
  {
   "cell_type": "code",
   "execution_count": null,
   "id": "3ce6f7c9-736a-499d-9e07-4712b20f98ff",
   "metadata": {},
   "outputs": [],
   "source": [
    "# Do one compute call.\n",
    "# This is really all we need or? The quantiles.\n",
    "quantiles = da.compute(\n",
    "    da.apply_over_axes(qtiles, data, 1),\n",
    ")"
   ]
  },
  {
   "cell_type": "code",
   "execution_count": 80,
   "id": "7331c0d3-b6b7-493c-bb2d-3f7b354d7f31",
   "metadata": {},
   "outputs": [],
   "source": [
    "quantiles = quantiles[0].data"
   ]
  },
  {
   "cell_type": "code",
   "execution_count": 88,
   "id": "7c74fb5f-32da-45a7-8552-d8c7d2531309",
   "metadata": {},
   "outputs": [
    {
     "data": {
      "image/png": "[encoded data removed]",
      "text/plain": [
       "<Figure size 720x360 with 1 Axes>"
      ]
     },
     "metadata": {
      "needs_background": "light"
     },
     "output_type": "display_data"
    }
   ],
   "source": [
    "# Create a figure.\n",
    "fig, ax = plt.subplots(figsize=(10, 5))\n",
    "# Climatological data.\n",
    "boxes = [\n",
    "    {\n",
    "    \"label\": i,\n",
    "    \"whislo\": 0.,\n",
    "    \"q1\": quantile[0],\n",
    "    \"med\": quantile[1],\n",
    "    \"q3\": quantile[2],\n",
    "    \"whishi\": quantile[2] + (quantile[2] - quantile[0]) / 2,\n",
    "    \"fliers\": []\n",
    "    }\n",
    "    for i, quantile in enumerate(quantiles)\n",
    "]\n",
    "ax.bxp(boxes, patch_artist=True, showfliers=False);\n",
    "ax.set_ylabel(\"Precipitation flux\")\n",
    "ax.grid(axis=\"y\")\n",
    "ax.set_title(\"Daily precipitation flux Sweden\\n1971-2018\");"
   ]
  },
  {
   "cell_type": "markdown",
   "id": "ef536d28-ef12-438e-858b-610702c5669d",
   "metadata": {},
   "source": [
    "## A look at annual extremes"
   ]
  },
  {
   "cell_type": "code",
   "execution_count": 109,
   "id": "f28f616a-4a1f-4b31-8b40-4e3f1f2a41c9",
   "metadata": {},
   "outputs": [],
   "source": [
    "# Need to add categorical years\n",
    "iris.coord_categorisation.add_year(ref_cube, \"time\")"
   ]
  },
  {
   "cell_type": "code",
   "execution_count": 138,
   "id": "934ee5f6-986b-4b1a-a720-efe935d07576",
   "metadata": {},
   "outputs": [],
   "source": [
    "ref_ann_max = ref_cube.aggregated_by(\"year\", iris.analysis.MAX)"
   ]
  },
  {
   "cell_type": "code",
   "execution_count": 139,
   "id": "4291cad2-5d51-4bf5-93a4-1ea36636c029",
   "metadata": {},
   "outputs": [
    {
     "data": {
      "text/plain": [
       "(29, 50, 46, 68)"
      ]
     },
     "execution_count": 139,
     "metadata": {},
     "output_type": "execute_result"
    }
   ],
   "source": [
    "ref_ann_max.shape"
   ]
  },
  {
   "cell_type": "code",
   "execution_count": 140,
   "id": "dfb192dd-b86e-488e-a3f6-8bc887d656a9",
   "metadata": {},
   "outputs": [],
   "source": [
    "ref_ann_max = ref_ann_max.core_data().rechunk().reshape((50, -1))"
   ]
  },
  {
   "cell_type": "code",
   "execution_count": 141,
   "id": "50e4ca46-6250-4715-b7d4-b49c3c483a4b",
   "metadata": {},
   "outputs": [],
   "source": [
    "ann_quantiles = da.compute(da.apply_over_axes(qtiles, ref_ann_max, 1))"
   ]
  },
  {
   "cell_type": "code",
   "execution_count": 142,
   "id": "6304dc51-7315-4dfa-a304-710bedfbeba8",
   "metadata": {},
   "outputs": [],
   "source": [
    "ann_quantiles = ann_quantiles[0]"
   ]
  },
  {
   "cell_type": "code",
   "execution_count": 145,
   "id": "14fbfab0-a875-4d8d-a0c9-7dc8bf515487",
   "metadata": {},
   "outputs": [
    {
     "data": {
      "image/png": "[encoded data removed]",
      "text/plain": [
       "<Figure size 720x360 with 1 Axes>"
      ]
     },
     "metadata": {
      "needs_background": "light"
     },
     "output_type": "display_data"
    }
   ],
   "source": [
    "# Create a figure.\n",
    "fig, ax = plt.subplots(figsize=(10, 5))\n",
    "# Climatological data.\n",
    "boxes = [\n",
    "    {\n",
    "    \"label\": i,\n",
    "    \"whislo\": quantile[0] - (quantile[2] - quantile[0]) / 2,\n",
    "    \"q1\": quantile[0],\n",
    "    \"med\": quantile[1],\n",
    "    \"q3\": quantile[2],\n",
    "    \"whishi\": quantile[2] + (quantile[2] - quantile[0]) / 2,\n",
    "    \"fliers\": [quantile[3]]\n",
    "    }\n",
    "    for i, quantile in enumerate(ann_quantiles)\n",
    "]\n",
    "ax.bxp(boxes, patch_artist=True, showfliers=True);\n",
    "ax.set_ylabel(\"Precipitation flux [kg m$^{-2}$ s$^{-2}$]\")\n",
    "ax.grid(axis=\"y\")\n",
    "ax.set_title(\"Annual Rx1 Sweden 1971-2018\\n Pooled over region and ensemble members\");"
   ]
  }
 ],
 "metadata": {
  "kernelspec": {
   "display_name": "Python 3 (ipykernel)",
   "language": "python",
   "name": "python3"
  },
  "language_info": {
   "codemirror_mode": {
    "name": "ipython",
    "version": 3
   },
   "file_extension": ".py",
   "mimetype": "text/x-python",
   "name": "python",
   "nbconvert_exporter": "python",
   "pygments_lexer": "ipython3",
   "version": "3.9.13"
  }
 },
 "nbformat": 4,
 "nbformat_minor": 5
}
