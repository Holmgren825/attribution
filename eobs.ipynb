{
 "cells": [
  {
   "cell_type": "markdown",
   "id": "6f1d89a7-cbdd-4873-8b25-4188a2bb942b",
   "metadata": {},
   "source": [
    "# Eobs data analysis"
   ]
  },
  {
   "cell_type": "code",
   "execution_count": null,
   "id": "03a922ba-2e38-4b96-bc09-03644999b0f3",
   "metadata": {},
   "outputs": [],
   "source": [
    "# Small helper lib.\n",
    "import attribution\n",
    "\n",
    "# Others.\n",
    "import iris\n",
    "import iris.coord_categorisation\n",
    "import iris.quickplot as qplt\n",
    "import iris.plot as iplt\n",
    "import iris_utils\n",
    "from matplotlib import pyplot as plt\n",
    "import numpy as np\n",
    "import scipy.stats as scstats\n",
    "import cartopy.crs as ccrs\n",
    "import cartopy.feature as cfeature\n",
    "import dask\n",
    "from dask.distributed import Client\n",
    "import os\n",
    "import glob\n",
    "import scipy\n",
    "import pandas as pd\n",
    "import geopandas as gpd"
   ]
  },
  {
   "cell_type": "code",
   "execution_count": null,
   "id": "98577645-a0c0-489a-8d40-8c91a3925daf",
   "metadata": {},
   "outputs": [],
   "source": [
    "client = Client(n_workers=2)\n",
    "# client"
   ]
  },
  {
   "cell_type": "code",
   "execution_count": null,
   "id": "fc87f421-529a-4542-bfd0-a21ee0b1cfa4",
   "metadata": {},
   "outputs": [],
   "source": [
    "# Get the sweref projection.\n",
    "sweref = ccrs.epsg(3006)"
   ]
  },
  {
   "cell_type": "code",
   "execution_count": null,
   "id": "58a111ba-f61f-4f84-838f-f0a378858b17",
   "metadata": {},
   "outputs": [],
   "source": [
    "# This file contains shapes of most countries in the world.\n",
    "# https://www.naturalearthdata.com/downloads/10m-cultural-vectors/10m-admin-0-boundary-lines/\n",
    "fname = \"/home/sm_erhol/data/ne_10_admin_0_countries/ne_10m_admin_0_countries.shp\"\n",
    "\n",
    "gdf = gpd.read_file(fname)\n",
    "\n",
    "# Select Sweden.\n",
    "swe_shapes = gdf[gdf.SOVEREIGNT == \"Sweden\"].geometry\n",
    "swe_mainland = swe_shapes.iloc[0].geoms[0]"
   ]
  },
  {
   "cell_type": "markdown",
   "id": "79465a45-6efb-46e4-bdb4-2bb7919e5474",
   "metadata": {},
   "source": [
    "## Get the data"
   ]
  },
  {
   "cell_type": "code",
   "execution_count": null,
   "id": "8579955b-1c30-44de-a930-c94ac14643e5",
   "metadata": {},
   "outputs": [],
   "source": [
    "# First we have to read the gridclim cube\n",
    "# We only need this for the first extraction, to limit how much data we are dealing with.\n",
    "base_path = \"/nobackup/smhid17/proj/sik/SMHIGridClim_NORDIC-11/v0.9/netcdf/day/pr/\"\n",
    "\n",
    "# This gives a list of files in the base path matchig the wildcard.\n",
    "files = glob.glob(base_path + \"*.nc\")\n",
    "\n",
    "cube = iris.load(files)\n",
    "\n",
    "removed = iris.util.equalise_attributes(cube)\n",
    "\n",
    "# We concat on time.\n",
    "cube = cube.concatenate_cube()"
   ]
  },
  {
   "cell_type": "markdown",
   "id": "e12aeff8-ecad-4d7c-aa82-49d2fd22a988",
   "metadata": {},
   "source": [
    "Start working on the EOBS data"
   ]
  },
  {
   "cell_type": "code",
   "execution_count": null,
   "id": "e76df645-4609-40d8-a640-31adeb1dc268",
   "metadata": {},
   "outputs": [],
   "source": [
    "base_path_eobs = \"/home/rossby/imports/obs/EOBS/EOBS24-0e/EUR-10/remap/EUR-11/day/\"\n",
    "files = glob.glob(base_path_eobs + \"pr*.nc\")"
   ]
  },
  {
   "cell_type": "code",
   "execution_count": null,
   "id": "b9fe61e3-f8dc-4760-b2c7-3dd6e84ff5d9",
   "metadata": {},
   "outputs": [],
   "source": [
    "eobs_cube = iris.load(files)"
   ]
  },
  {
   "cell_type": "code",
   "execution_count": null,
   "id": "17140313-6c6b-4afb-93cf-3c22a418e37d",
   "metadata": {},
   "outputs": [],
   "source": [
    "# We need to equalise the attributes in order to concatenate.\n",
    "removed = iris.util.equalise_attributes(eobs_cube)"
   ]
  },
  {
   "cell_type": "code",
   "execution_count": null,
   "id": "a4a0f11d-b246-48c4-b7c5-11f507a0f33d",
   "metadata": {},
   "outputs": [],
   "source": [
    "eobs_cube = eobs_cube.concatenate_cube()"
   ]
  },
  {
   "cell_type": "code",
   "execution_count": null,
   "id": "1331a020-d7f5-4384-9cd1-1286cd389e05",
   "metadata": {},
   "outputs": [],
   "source": [
    "# We extract the data over the GridClim region. No need for all of Europe.\n",
    "ref_lats = grid_latitude = cube.coord(\"grid_latitude\").points\n",
    "ref_lons = grid_longitude = cube.coord(\"grid_longitude\").points\n",
    "# Define the constraint.\n",
    "constraint = iris.Constraint(\n",
    "    grid_latitude=lambda v: ref_lats.min() <= v <= ref_lats.max(),\n",
    "    grid_longitude=lambda v: ref_lons.min() <= v <= ref_lons.max(),\n",
    ")"
   ]
  },
  {
   "cell_type": "code",
   "execution_count": null,
   "id": "cc9d811e-941c-47f4-899d-5b37d1241f57",
   "metadata": {},
   "outputs": [],
   "source": [
    "# Extract.\n",
    "eobs_cube = eobs_cube.extract(constraint)"
   ]
  },
  {
   "cell_type": "code",
   "execution_count": null,
   "id": "7f50ecba-a8e4-4cd9-a59e-baf1c467eb57",
   "metadata": {},
   "outputs": [],
   "source": [
    "eobs_cube"
   ]
  },
  {
   "cell_type": "markdown",
   "id": "2cc2ef24-c18f-4abd-8b26-f43c973ce1ef",
   "metadata": {},
   "source": [
    "### Mask Sweden"
   ]
  },
  {
   "cell_type": "code",
   "execution_count": null,
   "id": "3ba7f11d-d408-40e2-8397-182b18853d62",
   "metadata": {},
   "outputs": [],
   "source": [
    "# Create a mask.\n",
    "mask = iris_utils.mask_from_shape(\n",
    "    eobs_cube, swe_mainland, coord_names=(\"grid_latitude\", \"grid_longitude\")\n",
    ")"
   ]
  },
  {
   "cell_type": "code",
   "execution_count": null,
   "id": "b8e5962e-734c-4e51-ae5a-527b309842ac",
   "metadata": {},
   "outputs": [],
   "source": [
    "# This mask inplace as well.\n",
    "_ = iris.util.mask_cube(eobs_cube, mask)"
   ]
  },
  {
   "cell_type": "markdown",
   "id": "535e63aa-8cb5-4b56-87b3-03b374befb6a",
   "metadata": {},
   "source": [
    "## Event definition\n",
    "\n",
    "161 mm in 24 hours equals an intensity of"
   ]
  },
  {
   "cell_type": "code",
   "execution_count": null,
   "id": "a39d07bc-1362-4cab-812d-24298c68d5db",
   "metadata": {},
   "outputs": [],
   "source": [
    "threshold = 161 / (24 * 3600)"
   ]
  },
  {
   "cell_type": "code",
   "execution_count": null,
   "id": "56088fff-26d2-4b5e-a715-4ea41311a4b9",
   "metadata": {},
   "outputs": [],
   "source": [
    "threshold"
   ]
  },
  {
   "cell_type": "markdown",
   "id": "db630e46-9c10-43d0-8ece-c99b2e43976f",
   "metadata": {},
   "source": [
    "## Region selection"
   ]
  },
  {
   "cell_type": "code",
   "execution_count": null,
   "id": "249b30f5-3eb2-468a-840b-04bcc03d9d49",
   "metadata": {},
   "outputs": [],
   "source": [
    "# We load in the transformed points generated in the eobs notebook.\n",
    "# We can do this since the cubes share coordinate system.\n",
    "mask_points = np.load(\"./data/region_points_transformed.npy\")"
   ]
  },
  {
   "cell_type": "code",
   "execution_count": null,
   "id": "063dad02-4d5f-4a61-be8b-7e570fcf722d",
   "metadata": {},
   "outputs": [],
   "source": [
    "# Create the constraint.\n",
    "region_constraint = iris.Constraint(\n",
    "    grid_latitude=lambda v: mask_points[:, 1].min() <= v <= mask_points[:, 1].max(),\n",
    "    grid_longitude=lambda v: mask_points[:, 0].min() <= v <= mask_points[:, 0].max(),\n",
    ")"
   ]
  },
  {
   "cell_type": "code",
   "execution_count": null,
   "id": "7d6a6788-68e2-4742-b8c1-1275703cb510",
   "metadata": {},
   "outputs": [],
   "source": [
    "# Extract the region\n",
    "reg_cube = eobs_cube.extract(region_constraint)"
   ]
  },
  {
   "cell_type": "markdown",
   "id": "9ea00dda-36c0-49a6-916c-90b7fd50d37a",
   "metadata": {},
   "source": [
    "Make sure the region selection worked."
   ]
  },
  {
   "cell_type": "code",
   "execution_count": null,
   "id": "219af52a-4486-4836-abbf-27a2ecf7b53b",
   "metadata": {},
   "outputs": [],
   "source": [
    "fig, ax = plt.subplots(figsize=(7, 9), subplot_kw={\"projection\": sweref})\n",
    "iplt.contourf(reg_cube[0, :, :], 30, axes=ax)\n",
    "ax.coastlines()\n",
    "# ax.legend();\n",
    "# Set the extent to put the data into context.\n",
    "ax.set_extent([10, 20, 50, 75], crs=ccrs.PlateCarree())"
   ]
  },
  {
   "cell_type": "markdown",
   "id": "5dc606e7-4298-4fb3-9791-9ccd43599089",
   "metadata": {},
   "source": [
    "## Get Rx1\n",
    "Now we can start looking at the extremes, e.g. annual Rx1.\n",
    "In this case Rx1 should simply be the annual max?\n",
    "Since we already have daily values."
   ]
  },
  {
   "cell_type": "code",
   "execution_count": null,
   "id": "71690d04-8a6c-42ec-85e1-44b8d9a0822e",
   "metadata": {},
   "outputs": [],
   "source": [
    "# Add a year categorisation\n",
    "iris.coord_categorisation.add_year(reg_cube, \"time\")"
   ]
  },
  {
   "cell_type": "markdown",
   "id": "b19e3815-bd0d-457c-9254-c8e701f1ed98",
   "metadata": {},
   "source": [
    "Get the annual maximums"
   ]
  },
  {
   "cell_type": "code",
   "execution_count": null,
   "id": "b20a859c-dc9e-4f6b-b56b-6dfe12e53743",
   "metadata": {},
   "outputs": [],
   "source": [
    "rx1_ann = reg_cube.aggregated_by(\"year\", iris.analysis.MAX)"
   ]
  },
  {
   "cell_type": "code",
   "execution_count": null,
   "id": "9c3965dd-f2f8-4045-b786-77ef7df18539",
   "metadata": {},
   "outputs": [],
   "source": [
    "# Note, density is way above one since the bin values are so small.\n",
    "# e.g. the widht of each bin is ~0.0001, hence integrating = 1\n",
    "plt.hist(rx1_ann.data.compressed(), density=True);"
   ]
  },
  {
   "cell_type": "markdown",
   "id": "108ff5b6-2015-40bc-9e3c-00688b764e12",
   "metadata": {},
   "source": [
    "## Fit a GEV distribution to Rx1.\n",
    "We use scipy to fit a GEV distribution to this sample."
   ]
  },
  {
   "cell_type": "code",
   "execution_count": null,
   "id": "10c9134b-c5ae-4e34-b378-ddb37ad16970",
   "metadata": {},
   "outputs": [],
   "source": [
    "# Get the GEV dist object\n",
    "dist = scstats.genextreme\n",
    "# data\n",
    "data = rx1_ann.data.compressed()"
   ]
  },
  {
   "cell_type": "markdown",
   "id": "d4360d4c-d674-4b0c-9569-26b482cf3804",
   "metadata": {},
   "source": [
    "Run the bootsrap.\n",
    "Note that if it has already been done before, we can load the results."
   ]
  },
  {
   "cell_type": "code",
   "execution_count": null,
   "id": "cfe48725-9183-431e-bf11-b12f17a991dc",
   "metadata": {},
   "outputs": [],
   "source": [
    "# We get an nx3 array of the fit params.\n",
    "# results = attribution.bootstrap_fit(data, dist)\n",
    "# np.save(\"./data/fits_ci_eobs\", results)\n",
    "# If we have the data already\n",
    "results = np.load(\"./data/fits_ci_eobs\")"
   ]
  },
  {
   "cell_type": "code",
   "execution_count": null,
   "id": "997f06ed-2b78-4275-bb13-a413e511fc83",
   "metadata": {},
   "outputs": [],
   "source": [
    "fits_ci = np.quantile(results, [0.05, 0.5, 0.95], axis=0)"
   ]
  },
  {
   "cell_type": "code",
   "execution_count": null,
   "id": "7c2b7104-0131-4fc0-9a25-4cdb87dc2db8",
   "metadata": {},
   "outputs": [],
   "source": [
    "fits_ci"
   ]
  },
  {
   "cell_type": "markdown",
   "id": "061bebc7-adde-4bed-987f-0049f902bb02",
   "metadata": {},
   "source": [
    "## Regression to GMST\n",
    "To scale the above distribution with the use of GMST we first need to fit a regression between the Rx1 and GMST.\n",
    "The slope of the regression can then be used for the scaling.\n",
    "\n",
    "But first we load the GISTEMP data from NASA."
   ]
  },
  {
   "cell_type": "code",
   "execution_count": null,
   "id": "9a625214-9976-464d-b10f-e208bfe28e69",
   "metadata": {},
   "outputs": [],
   "source": [
    "# This gives us the smoothed gmst data  for the timespan\n",
    "# covered by the cube.\n",
    "gmst_data = attribution.get_gmst(reg_cube)"
   ]
  },
  {
   "cell_type": "code",
   "execution_count": null,
   "id": "67a5653b-7d71-4e42-ad16-57a080d500c7",
   "metadata": {},
   "outputs": [],
   "source": [
    "# Lets get the data of the rx1 cube.\n",
    "# Reshape to flatten the spatial dimensions.\n",
    "rx1_ann_data = rx1_ann.data.reshape(rx1_ann.shape[0], -1)"
   ]
  },
  {
   "cell_type": "code",
   "execution_count": null,
   "id": "d93d1365-4794-432a-85c4-96b4ccc09969",
   "metadata": {},
   "outputs": [],
   "source": [
    "# Check that first dimensions match.\n",
    "assert rx1_ann_data.shape[0] == gmst_data.shape[0]"
   ]
  },
  {
   "cell_type": "code",
   "execution_count": null,
   "id": "7a641f73-da89-4073-bbe9-09d51bb8eb87",
   "metadata": {},
   "outputs": [],
   "source": [
    "# For the linear regression we use Sklearn.\n",
    "from sklearn.linear_model import LinearRegression"
   ]
  },
  {
   "cell_type": "code",
   "execution_count": null,
   "id": "86099adc-f3b1-47c6-acd7-5e77e28bba01",
   "metadata": {},
   "outputs": [],
   "source": [
    "# This can make clever use of the multiregression feature, we want\n",
    "# know the regression for each point.\n",
    "reg = LinearRegression().fit(gmst_data, rx1_ann_data)"
   ]
  },
  {
   "cell_type": "markdown",
   "id": "d1256b6d-99c1-4b73-b613-a958082cfd41",
   "metadata": {},
   "source": [
    "## Scale distributions"
   ]
  },
  {
   "cell_type": "code",
   "execution_count": null,
   "id": "1a1f0b82-bbb9-4698-8ed3-7a642a3b4551",
   "metadata": {},
   "outputs": [],
   "source": [
    "# Create current climate dists with CI\n",
    "dists_ci = [dist(*fit) for fit in fits_ci]"
   ]
  },
  {
   "cell_type": "code",
   "execution_count": null,
   "id": "53c9715d-66be-4a2c-908e-2ce1f01610e8",
   "metadata": {},
   "outputs": [],
   "source": [
    "# Here we get all the scaled distributions.\n",
    "all_scaled_dists = attribution.scale_distributions(fits_ci, reg, dist)"
   ]
  },
  {
   "cell_type": "code",
   "execution_count": null,
   "id": "18634e76-0494-4b0c-8bbf-66ce119ce2c8",
   "metadata": {},
   "outputs": [],
   "source": [
    "attribution.plot_distribution(data, dists_ci, all_scaled_dists, title=\"Rx1 EOBS\")"
   ]
  },
  {
   "cell_type": "markdown",
   "id": "ef3404d1-b780-4184-a979-d595c590809a",
   "metadata": {},
   "source": [
    "## Probabilities"
   ]
  },
  {
   "cell_type": "markdown",
   "id": "c24ce34f-8552-4f17-a1c2-345c567271b0",
   "metadata": {},
   "source": [
    "The probability ratio(s) (PR) for an event the magnitude of the Gävle"
   ]
  },
  {
   "cell_type": "code",
   "execution_count": null,
   "id": "bdc72f15-1317-4ddd-a93a-5f17407f1d56",
   "metadata": {},
   "outputs": [],
   "source": [
    "prob_ratios = attribution.get_probability_ratios(dists_ci, all_scaled_dists, threshold)"
   ]
  },
  {
   "cell_type": "code",
   "execution_count": null,
   "id": "28f80fe3-c803-4b73-a6f7-f39a85ece813",
   "metadata": {},
   "outputs": [],
   "source": [
    "np.save(\"./data/pr_eobs\", prob_ratios)"
   ]
  },
  {
   "cell_type": "code",
   "execution_count": null,
   "id": "b8bff9c5-e732-440c-b53d-d46272d2e385",
   "metadata": {},
   "outputs": [],
   "source": [
    "prob_ratios"
   ]
  }
 ],
 "metadata": {
  "kernelspec": {
   "display_name": "Python 3 (ipykernel)",
   "language": "python",
   "name": "python3"
  },
  "language_info": {
   "codemirror_mode": {
    "name": "ipython",
    "version": 3
   },
   "file_extension": ".py",
   "mimetype": "text/x-python",
   "name": "python",
   "nbconvert_exporter": "python",
   "pygments_lexer": "ipython3",
   "version": "3.9.13"
  }
 },
 "nbformat": 4,
 "nbformat_minor": 5
}
